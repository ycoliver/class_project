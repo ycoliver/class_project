{
  "cells": [
    {
      "cell_type": "markdown",
      "metadata": {
        "id": "9yFFKuDZB_ow"
      },
      "source": [
        "# Prompt Enginnering\n",
        "### **Course Name:** Natural Language Processing **<font color=\"red\">(CSC5051)</font>**\n",
        "\n",
        "\n"
      ]
    },
    {
      "cell_type": "markdown",
      "metadata": {
        "id": "Y_qFy6J9EgJe"
      },
      "source": [
        "Hello, everyone.\n",
        "In this tutorial, we'll explore *Prompt Engineering* techniques.\n",
        "\n",
        "**<font color=\"blue\">What is prompt engineering in AI?</font>**\n",
        "\n",
        "An AI prompt is a carefully crafted instruction given to an AI model to generate a specific output. These inputs can range from text and images to videos or even music.\n",
        "\n",
        "Prompt engineering means writing precise instructions that guide AI models like **ChatGPT** to produce specific and useful responses. It involves designing inputs that an AI can easily understand and act upon, ensuring the output is relevant and accurate."
      ]
    },
    {
      "cell_type": "markdown",
      "metadata": {
        "id": "iEiLphcKt6Ya"
      },
      "source": [
        "## **The First Step: Mastering the Use of APIs**\n",
        "\n"
      ]
    },
    {
      "cell_type": "markdown",
      "metadata": {
        "id": "lR37y8eVuG8V"
      },
      "source": [
        "### About API Keys\n",
        "#### DeepSeek API Keys\n",
        "❗ Note that you can go [Deepseek](https://platform.deepseek.com/api_keys) to get your api key. Alternatively,  youbcan go to [Siliconflow](https://cloud.siliconflow.cn/) for free credit:\n",
        "- Go to the website [https://platform.deepseek.com/api_keys](https://platform.deepseek.com/api_keys).\n",
        "- Setup your api key through setting the environment variable os.environ[\"DEEPSEEK_API_KEY\"]\n",
        "- Remember to update `DEEPSEEK_BASE_URL` to https://api.siliconflow.cn/v1/chat/completions when using API from SiliconFlow.\n",
        "\n",
        "#### OpenAI API Keys\n",
        "Note that we provide a key with 100 US dollars, if it is used up you need to buy the Keys yourself (it may cost you a little bit of money), here is how to buy the keys:\n",
        "- Go to the website [https://eylink.cn/](https://eylink.cn/buy/7).\n",
        "- Purchase a 12 RMB key (10 US dollars). (10 dollars should be enough.)\n",
        "- Fill in the `OPENAI_API_KEY` below with the key you purchased."
      ]
    },
    {
      "cell_type": "markdown",
      "metadata": {
        "id": "OOubmZd8vGl6"
      },
      "source": [
        "🔅 To facilitate easier access to OpenAI's model APIs, we make use of a popular framework langchain."
      ]
    },
    {
      "cell_type": "code",
      "execution_count": 1,
      "metadata": {
        "colab": {
          "base_uri": "https://localhost:8080/"
        },
        "collapsed": true,
        "id": "OWx2mmC-fFuP",
        "outputId": "f48422e1-16e2-4e5b-ba41-5b8405809460"
      },
      "outputs": [
        {
          "output_type": "stream",
          "name": "stdout",
          "text": [
            "Requirement already satisfied: langchain in /usr/local/lib/python3.12/dist-packages (0.3.27)\n",
            "Requirement already satisfied: langchain-core<1.0.0,>=0.3.72 in /usr/local/lib/python3.12/dist-packages (from langchain) (0.3.79)\n",
            "Requirement already satisfied: langchain-text-splitters<1.0.0,>=0.3.9 in /usr/local/lib/python3.12/dist-packages (from langchain) (0.3.11)\n",
            "Requirement already satisfied: langsmith>=0.1.17 in /usr/local/lib/python3.12/dist-packages (from langchain) (0.4.37)\n",
            "Requirement already satisfied: pydantic<3.0.0,>=2.7.4 in /usr/local/lib/python3.12/dist-packages (from langchain) (2.11.10)\n",
            "Requirement already satisfied: SQLAlchemy<3,>=1.4 in /usr/local/lib/python3.12/dist-packages (from langchain) (2.0.44)\n",
            "Requirement already satisfied: requests<3,>=2 in /usr/local/lib/python3.12/dist-packages (from langchain) (2.32.4)\n",
            "Requirement already satisfied: PyYAML>=5.3 in /usr/local/lib/python3.12/dist-packages (from langchain) (6.0.3)\n",
            "Requirement already satisfied: tenacity!=8.4.0,<10.0.0,>=8.1.0 in /usr/local/lib/python3.12/dist-packages (from langchain-core<1.0.0,>=0.3.72->langchain) (8.5.0)\n",
            "Requirement already satisfied: jsonpatch<2.0.0,>=1.33.0 in /usr/local/lib/python3.12/dist-packages (from langchain-core<1.0.0,>=0.3.72->langchain) (1.33)\n",
            "Requirement already satisfied: typing-extensions<5.0.0,>=4.7.0 in /usr/local/lib/python3.12/dist-packages (from langchain-core<1.0.0,>=0.3.72->langchain) (4.15.0)\n",
            "Requirement already satisfied: packaging<26.0.0,>=23.2.0 in /usr/local/lib/python3.12/dist-packages (from langchain-core<1.0.0,>=0.3.72->langchain) (25.0)\n",
            "Requirement already satisfied: httpx<1,>=0.23.0 in /usr/local/lib/python3.12/dist-packages (from langsmith>=0.1.17->langchain) (0.28.1)\n",
            "Requirement already satisfied: orjson>=3.9.14 in /usr/local/lib/python3.12/dist-packages (from langsmith>=0.1.17->langchain) (3.11.3)\n",
            "Requirement already satisfied: requests-toolbelt>=1.0.0 in /usr/local/lib/python3.12/dist-packages (from langsmith>=0.1.17->langchain) (1.0.0)\n",
            "Requirement already satisfied: zstandard>=0.23.0 in /usr/local/lib/python3.12/dist-packages (from langsmith>=0.1.17->langchain) (0.25.0)\n",
            "Requirement already satisfied: annotated-types>=0.6.0 in /usr/local/lib/python3.12/dist-packages (from pydantic<3.0.0,>=2.7.4->langchain) (0.7.0)\n",
            "Requirement already satisfied: pydantic-core==2.33.2 in /usr/local/lib/python3.12/dist-packages (from pydantic<3.0.0,>=2.7.4->langchain) (2.33.2)\n",
            "Requirement already satisfied: typing-inspection>=0.4.0 in /usr/local/lib/python3.12/dist-packages (from pydantic<3.0.0,>=2.7.4->langchain) (0.4.2)\n",
            "Requirement already satisfied: charset_normalizer<4,>=2 in /usr/local/lib/python3.12/dist-packages (from requests<3,>=2->langchain) (3.4.4)\n",
            "Requirement already satisfied: idna<4,>=2.5 in /usr/local/lib/python3.12/dist-packages (from requests<3,>=2->langchain) (3.11)\n",
            "Requirement already satisfied: urllib3<3,>=1.21.1 in /usr/local/lib/python3.12/dist-packages (from requests<3,>=2->langchain) (2.5.0)\n",
            "Requirement already satisfied: certifi>=2017.4.17 in /usr/local/lib/python3.12/dist-packages (from requests<3,>=2->langchain) (2025.10.5)\n",
            "Requirement already satisfied: greenlet>=1 in /usr/local/lib/python3.12/dist-packages (from SQLAlchemy<3,>=1.4->langchain) (3.2.4)\n",
            "Requirement already satisfied: anyio in /usr/local/lib/python3.12/dist-packages (from httpx<1,>=0.23.0->langsmith>=0.1.17->langchain) (4.11.0)\n",
            "Requirement already satisfied: httpcore==1.* in /usr/local/lib/python3.12/dist-packages (from httpx<1,>=0.23.0->langsmith>=0.1.17->langchain) (1.0.9)\n",
            "Requirement already satisfied: h11>=0.16 in /usr/local/lib/python3.12/dist-packages (from httpcore==1.*->httpx<1,>=0.23.0->langsmith>=0.1.17->langchain) (0.16.0)\n",
            "Requirement already satisfied: jsonpointer>=1.9 in /usr/local/lib/python3.12/dist-packages (from jsonpatch<2.0.0,>=1.33.0->langchain-core<1.0.0,>=0.3.72->langchain) (3.0.0)\n",
            "Requirement already satisfied: sniffio>=1.1 in /usr/local/lib/python3.12/dist-packages (from anyio->httpx<1,>=0.23.0->langsmith>=0.1.17->langchain) (1.3.1)\n",
            "Collecting langchain-openai\n",
            "  Downloading langchain_openai-1.0.1-py3-none-any.whl.metadata (1.8 kB)\n",
            "Collecting langchain-core<2.0.0,>=1.0.0 (from langchain-openai)\n",
            "  Downloading langchain_core-1.0.0-py3-none-any.whl.metadata (3.4 kB)\n",
            "Requirement already satisfied: openai<3.0.0,>=1.109.1 in /usr/local/lib/python3.12/dist-packages (from langchain-openai) (1.109.1)\n",
            "Requirement already satisfied: tiktoken<1.0.0,>=0.7.0 in /usr/local/lib/python3.12/dist-packages (from langchain-openai) (0.12.0)\n",
            "Requirement already satisfied: jsonpatch<2.0.0,>=1.33.0 in /usr/local/lib/python3.12/dist-packages (from langchain-core<2.0.0,>=1.0.0->langchain-openai) (1.33)\n",
            "Requirement already satisfied: langsmith<1.0.0,>=0.3.45 in /usr/local/lib/python3.12/dist-packages (from langchain-core<2.0.0,>=1.0.0->langchain-openai) (0.4.37)\n",
            "Requirement already satisfied: packaging<26.0.0,>=23.2.0 in /usr/local/lib/python3.12/dist-packages (from langchain-core<2.0.0,>=1.0.0->langchain-openai) (25.0)\n",
            "Requirement already satisfied: pydantic<3.0.0,>=2.7.4 in /usr/local/lib/python3.12/dist-packages (from langchain-core<2.0.0,>=1.0.0->langchain-openai) (2.11.10)\n",
            "Requirement already satisfied: pyyaml<7.0.0,>=5.3.0 in /usr/local/lib/python3.12/dist-packages (from langchain-core<2.0.0,>=1.0.0->langchain-openai) (6.0.3)\n",
            "Requirement already satisfied: tenacity!=8.4.0,<10.0.0,>=8.1.0 in /usr/local/lib/python3.12/dist-packages (from langchain-core<2.0.0,>=1.0.0->langchain-openai) (8.5.0)\n",
            "Requirement already satisfied: typing-extensions<5.0.0,>=4.7.0 in /usr/local/lib/python3.12/dist-packages (from langchain-core<2.0.0,>=1.0.0->langchain-openai) (4.15.0)\n",
            "Requirement already satisfied: anyio<5,>=3.5.0 in /usr/local/lib/python3.12/dist-packages (from openai<3.0.0,>=1.109.1->langchain-openai) (4.11.0)\n",
            "Requirement already satisfied: distro<2,>=1.7.0 in /usr/local/lib/python3.12/dist-packages (from openai<3.0.0,>=1.109.1->langchain-openai) (1.9.0)\n",
            "Requirement already satisfied: httpx<1,>=0.23.0 in /usr/local/lib/python3.12/dist-packages (from openai<3.0.0,>=1.109.1->langchain-openai) (0.28.1)\n",
            "Requirement already satisfied: jiter<1,>=0.4.0 in /usr/local/lib/python3.12/dist-packages (from openai<3.0.0,>=1.109.1->langchain-openai) (0.11.1)\n",
            "Requirement already satisfied: sniffio in /usr/local/lib/python3.12/dist-packages (from openai<3.0.0,>=1.109.1->langchain-openai) (1.3.1)\n",
            "Requirement already satisfied: tqdm>4 in /usr/local/lib/python3.12/dist-packages (from openai<3.0.0,>=1.109.1->langchain-openai) (4.67.1)\n",
            "Requirement already satisfied: regex>=2022.1.18 in /usr/local/lib/python3.12/dist-packages (from tiktoken<1.0.0,>=0.7.0->langchain-openai) (2024.11.6)\n",
            "Requirement already satisfied: requests>=2.26.0 in /usr/local/lib/python3.12/dist-packages (from tiktoken<1.0.0,>=0.7.0->langchain-openai) (2.32.4)\n",
            "Requirement already satisfied: idna>=2.8 in /usr/local/lib/python3.12/dist-packages (from anyio<5,>=3.5.0->openai<3.0.0,>=1.109.1->langchain-openai) (3.11)\n",
            "Requirement already satisfied: certifi in /usr/local/lib/python3.12/dist-packages (from httpx<1,>=0.23.0->openai<3.0.0,>=1.109.1->langchain-openai) (2025.10.5)\n",
            "Requirement already satisfied: httpcore==1.* in /usr/local/lib/python3.12/dist-packages (from httpx<1,>=0.23.0->openai<3.0.0,>=1.109.1->langchain-openai) (1.0.9)\n",
            "Requirement already satisfied: h11>=0.16 in /usr/local/lib/python3.12/dist-packages (from httpcore==1.*->httpx<1,>=0.23.0->openai<3.0.0,>=1.109.1->langchain-openai) (0.16.0)\n",
            "Requirement already satisfied: jsonpointer>=1.9 in /usr/local/lib/python3.12/dist-packages (from jsonpatch<2.0.0,>=1.33.0->langchain-core<2.0.0,>=1.0.0->langchain-openai) (3.0.0)\n",
            "Requirement already satisfied: orjson>=3.9.14 in /usr/local/lib/python3.12/dist-packages (from langsmith<1.0.0,>=0.3.45->langchain-core<2.0.0,>=1.0.0->langchain-openai) (3.11.3)\n",
            "Requirement already satisfied: requests-toolbelt>=1.0.0 in /usr/local/lib/python3.12/dist-packages (from langsmith<1.0.0,>=0.3.45->langchain-core<2.0.0,>=1.0.0->langchain-openai) (1.0.0)\n",
            "Requirement already satisfied: zstandard>=0.23.0 in /usr/local/lib/python3.12/dist-packages (from langsmith<1.0.0,>=0.3.45->langchain-core<2.0.0,>=1.0.0->langchain-openai) (0.25.0)\n",
            "Requirement already satisfied: annotated-types>=0.6.0 in /usr/local/lib/python3.12/dist-packages (from pydantic<3.0.0,>=2.7.4->langchain-core<2.0.0,>=1.0.0->langchain-openai) (0.7.0)\n",
            "Requirement already satisfied: pydantic-core==2.33.2 in /usr/local/lib/python3.12/dist-packages (from pydantic<3.0.0,>=2.7.4->langchain-core<2.0.0,>=1.0.0->langchain-openai) (2.33.2)\n",
            "Requirement already satisfied: typing-inspection>=0.4.0 in /usr/local/lib/python3.12/dist-packages (from pydantic<3.0.0,>=2.7.4->langchain-core<2.0.0,>=1.0.0->langchain-openai) (0.4.2)\n",
            "Requirement already satisfied: charset_normalizer<4,>=2 in /usr/local/lib/python3.12/dist-packages (from requests>=2.26.0->tiktoken<1.0.0,>=0.7.0->langchain-openai) (3.4.4)\n",
            "Requirement already satisfied: urllib3<3,>=1.21.1 in /usr/local/lib/python3.12/dist-packages (from requests>=2.26.0->tiktoken<1.0.0,>=0.7.0->langchain-openai) (2.5.0)\n",
            "Downloading langchain_openai-1.0.1-py3-none-any.whl (81 kB)\n",
            "\u001b[2K   \u001b[90m━━━━━━━━━━━━━━━━━━━━━━━━━━━━━━━━━━━━━━━━\u001b[0m \u001b[32m81.9/81.9 kB\u001b[0m \u001b[31m3.0 MB/s\u001b[0m eta \u001b[36m0:00:00\u001b[0m\n",
            "\u001b[?25hDownloading langchain_core-1.0.0-py3-none-any.whl (467 kB)\n",
            "\u001b[2K   \u001b[90m━━━━━━━━━━━━━━━━━━━━━━━━━━━━━━━━━━━━━━━━\u001b[0m \u001b[32m467.2/467.2 kB\u001b[0m \u001b[31m14.3 MB/s\u001b[0m eta \u001b[36m0:00:00\u001b[0m\n",
            "\u001b[?25hInstalling collected packages: langchain-core, langchain-openai\n",
            "  Attempting uninstall: langchain-core\n",
            "    Found existing installation: langchain-core 0.3.79\n",
            "    Uninstalling langchain-core-0.3.79:\n",
            "      Successfully uninstalled langchain-core-0.3.79\n",
            "\u001b[31mERROR: pip's dependency resolver does not currently take into account all the packages that are installed. This behaviour is the source of the following dependency conflicts.\n",
            "langchain 0.3.27 requires langchain-core<1.0.0,>=0.3.72, but you have langchain-core 1.0.0 which is incompatible.\u001b[0m\u001b[31m\n",
            "\u001b[0mSuccessfully installed langchain-core-1.0.0 langchain-openai-1.0.1\n",
            "Collecting langchain-deepseek\n",
            "  Downloading langchain_deepseek-1.0.0-py3-none-any.whl.metadata (1.8 kB)\n",
            "Requirement already satisfied: langchain-core<2.0.0,>=1.0.0 in /usr/local/lib/python3.12/dist-packages (from langchain-deepseek) (1.0.0)\n",
            "Requirement already satisfied: langchain-openai<2.0.0,>=1.0.0 in /usr/local/lib/python3.12/dist-packages (from langchain-deepseek) (1.0.1)\n",
            "Requirement already satisfied: jsonpatch<2.0.0,>=1.33.0 in /usr/local/lib/python3.12/dist-packages (from langchain-core<2.0.0,>=1.0.0->langchain-deepseek) (1.33)\n",
            "Requirement already satisfied: langsmith<1.0.0,>=0.3.45 in /usr/local/lib/python3.12/dist-packages (from langchain-core<2.0.0,>=1.0.0->langchain-deepseek) (0.4.37)\n",
            "Requirement already satisfied: packaging<26.0.0,>=23.2.0 in /usr/local/lib/python3.12/dist-packages (from langchain-core<2.0.0,>=1.0.0->langchain-deepseek) (25.0)\n",
            "Requirement already satisfied: pydantic<3.0.0,>=2.7.4 in /usr/local/lib/python3.12/dist-packages (from langchain-core<2.0.0,>=1.0.0->langchain-deepseek) (2.11.10)\n",
            "Requirement already satisfied: pyyaml<7.0.0,>=5.3.0 in /usr/local/lib/python3.12/dist-packages (from langchain-core<2.0.0,>=1.0.0->langchain-deepseek) (6.0.3)\n",
            "Requirement already satisfied: tenacity!=8.4.0,<10.0.0,>=8.1.0 in /usr/local/lib/python3.12/dist-packages (from langchain-core<2.0.0,>=1.0.0->langchain-deepseek) (8.5.0)\n",
            "Requirement already satisfied: typing-extensions<5.0.0,>=4.7.0 in /usr/local/lib/python3.12/dist-packages (from langchain-core<2.0.0,>=1.0.0->langchain-deepseek) (4.15.0)\n",
            "Requirement already satisfied: openai<3.0.0,>=1.109.1 in /usr/local/lib/python3.12/dist-packages (from langchain-openai<2.0.0,>=1.0.0->langchain-deepseek) (1.109.1)\n",
            "Requirement already satisfied: tiktoken<1.0.0,>=0.7.0 in /usr/local/lib/python3.12/dist-packages (from langchain-openai<2.0.0,>=1.0.0->langchain-deepseek) (0.12.0)\n",
            "Requirement already satisfied: jsonpointer>=1.9 in /usr/local/lib/python3.12/dist-packages (from jsonpatch<2.0.0,>=1.33.0->langchain-core<2.0.0,>=1.0.0->langchain-deepseek) (3.0.0)\n",
            "Requirement already satisfied: httpx<1,>=0.23.0 in /usr/local/lib/python3.12/dist-packages (from langsmith<1.0.0,>=0.3.45->langchain-core<2.0.0,>=1.0.0->langchain-deepseek) (0.28.1)\n",
            "Requirement already satisfied: orjson>=3.9.14 in /usr/local/lib/python3.12/dist-packages (from langsmith<1.0.0,>=0.3.45->langchain-core<2.0.0,>=1.0.0->langchain-deepseek) (3.11.3)\n",
            "Requirement already satisfied: requests-toolbelt>=1.0.0 in /usr/local/lib/python3.12/dist-packages (from langsmith<1.0.0,>=0.3.45->langchain-core<2.0.0,>=1.0.0->langchain-deepseek) (1.0.0)\n",
            "Requirement already satisfied: requests>=2.0.0 in /usr/local/lib/python3.12/dist-packages (from langsmith<1.0.0,>=0.3.45->langchain-core<2.0.0,>=1.0.0->langchain-deepseek) (2.32.4)\n",
            "Requirement already satisfied: zstandard>=0.23.0 in /usr/local/lib/python3.12/dist-packages (from langsmith<1.0.0,>=0.3.45->langchain-core<2.0.0,>=1.0.0->langchain-deepseek) (0.25.0)\n",
            "Requirement already satisfied: anyio<5,>=3.5.0 in /usr/local/lib/python3.12/dist-packages (from openai<3.0.0,>=1.109.1->langchain-openai<2.0.0,>=1.0.0->langchain-deepseek) (4.11.0)\n",
            "Requirement already satisfied: distro<2,>=1.7.0 in /usr/local/lib/python3.12/dist-packages (from openai<3.0.0,>=1.109.1->langchain-openai<2.0.0,>=1.0.0->langchain-deepseek) (1.9.0)\n",
            "Requirement already satisfied: jiter<1,>=0.4.0 in /usr/local/lib/python3.12/dist-packages (from openai<3.0.0,>=1.109.1->langchain-openai<2.0.0,>=1.0.0->langchain-deepseek) (0.11.1)\n",
            "Requirement already satisfied: sniffio in /usr/local/lib/python3.12/dist-packages (from openai<3.0.0,>=1.109.1->langchain-openai<2.0.0,>=1.0.0->langchain-deepseek) (1.3.1)\n",
            "Requirement already satisfied: tqdm>4 in /usr/local/lib/python3.12/dist-packages (from openai<3.0.0,>=1.109.1->langchain-openai<2.0.0,>=1.0.0->langchain-deepseek) (4.67.1)\n",
            "Requirement already satisfied: annotated-types>=0.6.0 in /usr/local/lib/python3.12/dist-packages (from pydantic<3.0.0,>=2.7.4->langchain-core<2.0.0,>=1.0.0->langchain-deepseek) (0.7.0)\n",
            "Requirement already satisfied: pydantic-core==2.33.2 in /usr/local/lib/python3.12/dist-packages (from pydantic<3.0.0,>=2.7.4->langchain-core<2.0.0,>=1.0.0->langchain-deepseek) (2.33.2)\n",
            "Requirement already satisfied: typing-inspection>=0.4.0 in /usr/local/lib/python3.12/dist-packages (from pydantic<3.0.0,>=2.7.4->langchain-core<2.0.0,>=1.0.0->langchain-deepseek) (0.4.2)\n",
            "Requirement already satisfied: regex>=2022.1.18 in /usr/local/lib/python3.12/dist-packages (from tiktoken<1.0.0,>=0.7.0->langchain-openai<2.0.0,>=1.0.0->langchain-deepseek) (2024.11.6)\n",
            "Requirement already satisfied: idna>=2.8 in /usr/local/lib/python3.12/dist-packages (from anyio<5,>=3.5.0->openai<3.0.0,>=1.109.1->langchain-openai<2.0.0,>=1.0.0->langchain-deepseek) (3.11)\n",
            "Requirement already satisfied: certifi in /usr/local/lib/python3.12/dist-packages (from httpx<1,>=0.23.0->langsmith<1.0.0,>=0.3.45->langchain-core<2.0.0,>=1.0.0->langchain-deepseek) (2025.10.5)\n",
            "Requirement already satisfied: httpcore==1.* in /usr/local/lib/python3.12/dist-packages (from httpx<1,>=0.23.0->langsmith<1.0.0,>=0.3.45->langchain-core<2.0.0,>=1.0.0->langchain-deepseek) (1.0.9)\n",
            "Requirement already satisfied: h11>=0.16 in /usr/local/lib/python3.12/dist-packages (from httpcore==1.*->httpx<1,>=0.23.0->langsmith<1.0.0,>=0.3.45->langchain-core<2.0.0,>=1.0.0->langchain-deepseek) (0.16.0)\n",
            "Requirement already satisfied: charset_normalizer<4,>=2 in /usr/local/lib/python3.12/dist-packages (from requests>=2.0.0->langsmith<1.0.0,>=0.3.45->langchain-core<2.0.0,>=1.0.0->langchain-deepseek) (3.4.4)\n",
            "Requirement already satisfied: urllib3<3,>=1.21.1 in /usr/local/lib/python3.12/dist-packages (from requests>=2.0.0->langsmith<1.0.0,>=0.3.45->langchain-core<2.0.0,>=1.0.0->langchain-deepseek) (2.5.0)\n",
            "Downloading langchain_deepseek-1.0.0-py3-none-any.whl (7.6 kB)\n",
            "Installing collected packages: langchain-deepseek\n",
            "Successfully installed langchain-deepseek-1.0.0\n",
            "Collecting retrying\n",
            "  Downloading retrying-1.4.2-py3-none-any.whl.metadata (5.5 kB)\n",
            "Downloading retrying-1.4.2-py3-none-any.whl (10 kB)\n",
            "Installing collected packages: retrying\n",
            "Successfully installed retrying-1.4.2\n"
          ]
        }
      ],
      "source": [
        "!pip install langchain\n",
        "!pip install langchain-openai\n",
        "!pip install langchain-deepseek\n",
        "!pip install retrying"
      ]
    },
    {
      "cell_type": "code",
      "execution_count": 2,
      "metadata": {
        "collapsed": true,
        "id": "EXIC-LVvVXit"
      },
      "outputs": [],
      "source": [
        "import os\n",
        "import time\n",
        "from langchain_openai import ChatOpenAI\n",
        "from langchain_core.prompts import ChatPromptTemplate\n",
        "from langchain_core.output_parsers import StrOutputParser\n",
        "from langchain_deepseek import ChatDeepSeek\n",
        "from langchain_core.prompts import ChatPromptTemplate\n",
        "from langchain_core.output_parsers import StrOutputParser\n",
        "import random\n",
        "import json\n",
        "from retrying import retry\n",
        "import requests\n",
        "\n",
        "\n",
        "os.environ[\"DEEPSEEK_API_KEY\"] = \"sk-d887c182561c4cf98855733aa41dcaf4\"\n",
        "os.environ[\"DEEPSEEK_BASE_URL\"] = \"https://api.deepseek.com/v1\"\n",
        "deepseek_chat = ChatDeepSeek(model=\"deepseek-chat\", temperature=1)"
      ]
    },
    {
      "cell_type": "code",
      "execution_count": 3,
      "metadata": {
        "colab": {
          "base_uri": "https://localhost:8080/"
        },
        "id": "UPnmOckZgICw",
        "outputId": "8959581c-1f53-4a1d-8659-819eb29b047a"
      },
      "outputs": [
        {
          "output_type": "stream",
          "name": "stdout",
          "text": [
            "Hello! 👋 How can I help you today?\n"
          ]
        }
      ],
      "source": [
        "prompt = ChatPromptTemplate.from_messages(\n",
        "    [\n",
        "        (\"system\", \"\"),\n",
        "        (\"user\", \"{input}\")\n",
        "    ]\n",
        ")\n",
        "\n",
        "model = ChatDeepSeek(model=\"deepseek-chat\")\n",
        "\n",
        "chain = prompt | model | StrOutputParser()\n",
        "\n",
        "response = chain.invoke({\"input\": \"Hello\"})\n",
        "print(response)"
      ]
    },
    {
      "cell_type": "code",
      "source": [
        "chain = prompt | model | StrOutputParser()\n",
        "\n",
        "response = chain.invoke({\"input\": \"Hello\"})\n",
        "print(response)"
      ],
      "metadata": {
        "colab": {
          "base_uri": "https://localhost:8080/"
        },
        "id": "vv1k2RM8OT2n",
        "outputId": "5f7801d9-eb48-4241-beee-10adc81f1d86"
      },
      "execution_count": null,
      "outputs": [
        {
          "output_type": "stream",
          "name": "stdout",
          "text": [
            "Hello! How can I assist you today? 😊\n"
          ]
        }
      ]
    },
    {
      "cell_type": "markdown",
      "source": [],
      "metadata": {
        "id": "oX51qMuROTbw"
      }
    },
    {
      "cell_type": "markdown",
      "metadata": {
        "id": "SEgnOeWYj43i"
      },
      "source": [
        "## **Task 1: LLMs as a knowledgeable doctor**\n"
      ]
    },
    {
      "cell_type": "markdown",
      "metadata": {
        "id": "A2M-7NsrLe7j"
      },
      "source": [
        "\n",
        "\n",
        "The pharmacist licensure exam  is a cornerstone in the pharmacy profession, ensuring that candidates possess the requisite knowledge and skills for safe and effective practice. Its significance lies not only in validating credentials but also in safeguarding public health, enabling professional recognition, and ensuring adherence to legal and regulatory standards.\n",
        "\n",
        "Advanced models like ChatGPT have significant potential in exam preparation, boasting an extensive knowledge base and the capability to provide in-depth explanations and clarify complex concepts. However, despite the prowess of such large models, if prompts are not designed appropriately, the information retrieved might be inaccurate or incomplete, potentially hindering success in the pharmacist exam."
      ]
    },
    {
      "cell_type": "code",
      "execution_count": 8,
      "metadata": {
        "colab": {
          "base_uri": "https://localhost:8080/"
        },
        "id": "OeJKZ08wljui",
        "outputId": "296c4d1a-329d-430a-e08c-f1596c169a55"
      },
      "outputs": [
        {
          "output_type": "stream",
          "name": "stdout",
          "text": [
            "--2025-10-24 07:18:33--  https://nlp-course-cuhksz.github.io/Assignments/Assignment1/task1/data/1.exam.json\n",
            "Resolving nlp-course-cuhksz.github.io (nlp-course-cuhksz.github.io)... 185.199.111.153, 185.199.110.153, 185.199.109.153, ...\n",
            "Connecting to nlp-course-cuhksz.github.io (nlp-course-cuhksz.github.io)|185.199.111.153|:443... connected.\n",
            "HTTP request sent, awaiting response... 200 OK\n",
            "Length: 86227 (84K) [application/json]\n",
            "Saving to: ‘1.exam.json’\n",
            "\n",
            "\r1.exam.json           0%[                    ]       0  --.-KB/s               \r1.exam.json         100%[===================>]  84.21K  --.-KB/s    in 0.01s   \n",
            "\n",
            "2025-10-24 07:18:33 (6.15 MB/s) - ‘1.exam.json’ saved [86227/86227]\n",
            "\n"
          ]
        }
      ],
      "source": [
        "!wget https://NLP-course-cuhksz.github.io/Assignments/Assignment1/task1/data/1.exam.json"
      ]
    },
    {
      "cell_type": "code",
      "execution_count": 9,
      "metadata": {
        "id": "FbVxQUfkmZg4"
      },
      "outputs": [],
      "source": [
        "import json\n",
        "with open('1.exam.json') as f:\n",
        "  data = json.load(f)"
      ]
    },
    {
      "cell_type": "code",
      "execution_count": null,
      "metadata": {
        "colab": {
          "base_uri": "https://localhost:8080/"
        },
        "id": "-wG269DACs-J",
        "outputId": "de09d6c4-fd02-424c-91cf-25d055271206"
      },
      "outputs": [
        {
          "output_type": "stream",
          "name": "stdout",
          "text": [
            "Mounted at /content/drive\n"
          ]
        }
      ],
      "source": [
        "from google.colab import drive\n",
        "drive.mount('/content/drive')"
      ]
    },
    {
      "cell_type": "markdown",
      "metadata": {
        "id": "2Soy2Hc0MWzj"
      },
      "source": [
        "### Data cleaner"
      ]
    },
    {
      "cell_type": "code",
      "execution_count": 10,
      "metadata": {
        "colab": {
          "base_uri": "https://localhost:8080/"
        },
        "id": "osYkPwQ3L3yl",
        "outputId": "7e069439-7445-4724-b8ba-9f5df90375ec"
      },
      "outputs": [
        {
          "output_type": "stream",
          "name": "stdout",
          "text": [
            "69\n"
          ]
        }
      ],
      "source": [
        "tmp_data = []\n",
        "for d in data:\n",
        "    # 检查所有选项是否非空\n",
        "    skip = False\n",
        "    for k in d['option']:\n",
        "        if d['option'][k].replace(' ', '') == '':\n",
        "            skip = True\n",
        "            break  # 发现一个空选项即可跳过\n",
        "\n",
        "    # 只有当所有选项都有内容时才添加\n",
        "    if not skip:\n",
        "        tmp_data.append(d)\n",
        "\n",
        "data = tmp_data\n",
        "print(len(data))"
      ]
    },
    {
      "cell_type": "code",
      "execution_count": null,
      "metadata": {
        "colab": {
          "base_uri": "https://localhost:8080/"
        },
        "id": "LpbU3bOdop67",
        "outputId": "fef6eebb-b921-4d00-aba2-beccd66144fa"
      },
      "outputs": [
        {
          "output_type": "execute_result",
          "data": {
            "text/plain": [
              "{'question': '112. 患者，男，70岁，因抑郁症长期服⽤舍曲林。新诊断为帕⾦森病，宜选⽤的药物有（）。',\n",
              " 'option': {'A': '司来吉兰', 'B': '普拉克索', 'C': '⾦刚烷胺', 'D': '吡贝地尔', 'E': '恩他卡朋'},\n",
              " 'analysis': '上述题⼲中患者使⽤的抑郁药舍曲林是选择性5-羟⾊胺再摄取抑制剂，司来吉兰避免与选择性5-羟⾊胺再摄取抑制剂合⽤，因此答案选BCDE。',\n",
              " 'answer': 'BCDE',\n",
              " 'question_type': '多项选择题',\n",
              " 'source': '2021年执业药师职业资格考试《药学综合知识与技能》'}"
            ]
          },
          "metadata": {},
          "execution_count": 31
        }
      ],
      "source": [
        "data[0]"
      ]
    },
    {
      "cell_type": "markdown",
      "metadata": {
        "id": "I9o_bAuJQLIy"
      },
      "source": [
        "### Original prompt"
      ]
    },
    {
      "cell_type": "code",
      "source": [
        "import re\n",
        "from tqdm import tqdm\n",
        "\n",
        "def get_query(da,template_func):\n",
        "  da['options'] = '\\n'.join([f\"{k}:{v}\" for k,v in da['option'].items()])\n",
        "  return template_func.format_map(da)\n",
        "\n",
        "def get_ans(ans):\n",
        "    match = re.findall(r'.*?([A-E]+(?:[、, ]+[A-E]+)*)', ans)\n",
        "    if match:\n",
        "        last_match = match[-1]\n",
        "        return ''.join(re.split(r'[、, ，]+', last_match))\n",
        "    return ''\n",
        "\n",
        "original_prompt = \"\"\"Please answer the multiple choice questions below, please direct the correct answer option and do not output anything else.\n",
        "{question}\n",
        "{options}\"\"\"\n",
        "\n",
        "example_prompt = get_query(data[0])\n",
        "print(example_prompt)"
      ],
      "metadata": {
        "colab": {
          "base_uri": "https://localhost:8080/",
          "height": 190
        },
        "id": "htw4d40lFql7",
        "outputId": "2c3fb0c1-0db0-4864-9f0e-3803eaf4fa8b"
      },
      "execution_count": 14,
      "outputs": [
        {
          "output_type": "error",
          "ename": "TypeError",
          "evalue": "get_query() missing 1 required positional argument: 'template_func'",
          "traceback": [
            "\u001b[0;31m---------------------------------------------------------------------------\u001b[0m",
            "\u001b[0;31mTypeError\u001b[0m                                 Traceback (most recent call last)",
            "\u001b[0;32m/tmp/ipython-input-2191083684.py\u001b[0m in \u001b[0;36m<cell line: 0>\u001b[0;34m()\u001b[0m\n\u001b[1;32m     17\u001b[0m {options}\"\"\"\n\u001b[1;32m     18\u001b[0m \u001b[0;34m\u001b[0m\u001b[0m\n\u001b[0;32m---> 19\u001b[0;31m \u001b[0mexample_prompt\u001b[0m \u001b[0;34m=\u001b[0m \u001b[0mget_query\u001b[0m\u001b[0;34m(\u001b[0m\u001b[0mdata\u001b[0m\u001b[0;34m[\u001b[0m\u001b[0;36m0\u001b[0m\u001b[0;34m]\u001b[0m\u001b[0;34m)\u001b[0m\u001b[0;34m\u001b[0m\u001b[0;34m\u001b[0m\u001b[0m\n\u001b[0m\u001b[1;32m     20\u001b[0m \u001b[0mprint\u001b[0m\u001b[0;34m(\u001b[0m\u001b[0mexample_prompt\u001b[0m\u001b[0;34m)\u001b[0m\u001b[0;34m\u001b[0m\u001b[0;34m\u001b[0m\u001b[0m\n",
            "\u001b[0;31mTypeError\u001b[0m: get_query() missing 1 required positional argument: 'template_func'"
          ]
        }
      ]
    },
    {
      "cell_type": "code",
      "execution_count": null,
      "metadata": {
        "colab": {
          "base_uri": "https://localhost:8080/"
        },
        "id": "-thUHDC3QIBD",
        "outputId": "c6dcfef1-563b-4893-a7d3-eed431932e7e"
      },
      "outputs": [
        {
          "output_type": "stream",
          "name": "stderr",
          "text": [
            "100%|██████████| 69/69 [01:50<00:00,  1.60s/it]"
          ]
        },
        {
          "output_type": "stream",
          "name": "stdout",
          "text": [
            "模型准确率: 86.96%\n"
          ]
        },
        {
          "output_type": "stream",
          "name": "stderr",
          "text": [
            "\n"
          ]
        }
      ],
      "source": [
        "\n",
        "\n",
        "correct_num = 0\n",
        "total_num = 0\n",
        "for da in tqdm(data):\n",
        "  da['deepseek_ans'] =  chain.invoke(get_query(da))\n",
        "  # print(da['deepseek_ans'])\n",
        "  if get_ans(da['deepseek_ans']) == da['answer']:\n",
        "    correct_num += 1\n",
        "  total_num += 1\n",
        "print(f\"模型准确率: {correct_num/total_num:.2%}\")\n"
      ]
    },
    {
      "cell_type": "markdown",
      "metadata": {
        "id": "hyP7NaPzQPD7"
      },
      "source": [
        "### My prompt with 3-shot"
      ]
    },
    {
      "cell_type": "code",
      "execution_count": null,
      "metadata": {
        "colab": {
          "base_uri": "https://localhost:8080/"
        },
        "id": "pRw_RUoUpfAH",
        "outputId": "6830409f-fc21-4694-c41c-f64fdf69b5b6"
      },
      "outputs": [
        {
          "output_type": "stream",
          "name": "stderr",
          "text": [
            "69it [01:56,  1.69s/it]"
          ]
        },
        {
          "output_type": "stream",
          "name": "stdout",
          "text": [
            "模型准确率: 92.75%\n"
          ]
        },
        {
          "output_type": "stream",
          "name": "stderr",
          "text": [
            "\n"
          ]
        }
      ],
      "source": [
        "# 计算做题准确率\n",
        "system_prompt = \"\"\"你是一位医学专家。请回答给定的医学问题。仅输出正确的答案选项。\n",
        "\"\"\"\n",
        "\n",
        "user_template = '''\n",
        "问题：{question}\n",
        "问题类型：{question_type}\n",
        "选项：{options}\n",
        "答案：\"\n",
        "'''\n",
        "\n",
        "few_shot_template = '''\n",
        "-- 示例 --\n",
        "问题：{question}\n",
        "问题类型：{question_type}\n",
        "选项：{options}\n",
        "分析：{analysis}\n",
        "答案：{answer}\n",
        "\n",
        "'''\n",
        "import re\n",
        "from tqdm import tqdm\n",
        "import random\n",
        "def get_ans(ans):\n",
        "    match = re.findall(r'.*?([A-E]+(?:[、, ]+[A-E]+)*)', ans)\n",
        "    if match:\n",
        "        last_match = match[-1]\n",
        "        return ''.join(re.split(r'[、, ，]+', last_match))\n",
        "    return ''\n",
        "\n",
        "def get_query(da,template_func=your_prompt):\n",
        "  da['options'] = '\\n'.join([f\"{k}:{v}\" for k,v in da['option'].items()])\n",
        "  return template_func.format_map(da)\n",
        "\n",
        "correct_num = 0\n",
        "total_num = 0\n",
        "print_flag = True\n",
        "for i, da in tqdm(enumerate(data)):\n",
        "  instruct_prompt = system_prompt\n",
        "  user_prompt = get_query(da,template_func=user_template)\n",
        "  few_shots = random.sample(data[:i] + data[i+1:],3) if i != len(data) - 1 else random.sample(data[:i],3)\n",
        "  prompt = instruct_prompt + '\\n'.join([get_query(few_shot,few_shot_template) for few_shot in few_shots]) + user_prompt\n",
        "  # print(prompt)\n",
        "  da['deepseek_ans'] = chain.invoke(prompt)\n",
        "  if get_ans(da['deepseek_ans']) == da['answer']:\n",
        "    correct_num += 1\n",
        "    if print_flag:\n",
        "      print_flag=False\n",
        "\n",
        "  else:\n",
        "    # print(da)\n",
        "    # print('*'*20)\n",
        "    pass\n",
        "  total_num += 1\n",
        "\n",
        "print(f\"模型准确率: {correct_num/total_num:.2%}\")\n"
      ]
    },
    {
      "cell_type": "markdown",
      "metadata": {
        "id": "SwPb1z2rFJzP"
      },
      "source": [
        "<font color=\"blue\">You need to optimize the prompt to improve the performance (accuracy) of large language models (LLMs).</font>"
      ]
    },
    {
      "cell_type": "markdown",
      "metadata": {
        "id": "dSpchDMVGHN3"
      },
      "source": [
        "### My prompt with extra_info\n",
        "\n",
        "\n"
      ]
    },
    {
      "cell_type": "code",
      "execution_count": null,
      "metadata": {
        "id": "NLqInXMxGO5h",
        "colab": {
          "base_uri": "https://localhost:8080/"
        },
        "outputId": "50ec1aa7-437a-47d3-cb6d-98036c1fdef5"
      },
      "outputs": [
        {
          "output_type": "stream",
          "name": "stderr",
          "text": [
            "100%|██████████| 69/69 [01:41<00:00,  1.46s/it]"
          ]
        },
        {
          "output_type": "stream",
          "name": "stdout",
          "text": [
            "模型准确率: 94.20%\n"
          ]
        },
        {
          "output_type": "stream",
          "name": "stderr",
          "text": [
            "\n"
          ]
        }
      ],
      "source": [
        "# 计算做题准确率\n",
        "system_prompt = \"\"\"你是一位医学专家。请根据提供的医学内容、问题来源和题目类型回答以下问题。\n",
        "\n",
        "按照指定的题目类型回答医学问题并仅输出正确的答案选项。\n",
        "\"\"\"\n",
        "\n",
        "user_template = '''\n",
        "问题：{question}\n",
        "问题类型：{question_type}\n",
        "选项：{options}\n",
        "回答：{analy}\"\n",
        "'''\n",
        "\n",
        "import re\n",
        "from tqdm import tqdm\n",
        "import random\n",
        "def get_ans(ans):\n",
        "    match = re.findall(r'.*?([A-E]+(?:[、, ]+[A-E]+)*)', ans)\n",
        "    if match:\n",
        "        last_match = match[-1]\n",
        "        return ''.join(re.split(r'[、, ，]+', last_match))\n",
        "    return ''\n",
        "\n",
        "def get_query(da,template_func=your_prompt):\n",
        "  da['options'] = '\\n'.join([f\"{k}:{v}\" for k,v in da['option'].items()])\n",
        "  return template_func.format_map(da)\n",
        "\n",
        "correct_num = 0\n",
        "total_num = 0\n",
        "print_flag = True\n",
        "for da in tqdm(data):\n",
        "  # print(da)\n",
        "  result = re.sub(r'[A-E]', '', da['analysis'])\n",
        "  da['analy'] = result\n",
        "  # print(result)\n",
        "  instruct_prompt = system_prompt\n",
        "  user_prompt = get_query(da,template_func=user_template)\n",
        "  prompt = instruct_prompt + user_prompt\n",
        "  # print(prompt)\n",
        "  da['deepseek_ans'] = chain.invoke(prompt)\n",
        "\n",
        "  # 一次性替换所有A-E字母,但是保留分析\n",
        "\n",
        "  if get_ans(da['deepseek_ans']) == da['answer']:\n",
        "    correct_num += 1\n",
        "    if print_flag:\n",
        "      # print(prompt)\n",
        "      # print(da['deepseek_ans'])\n",
        "      print_flag=False\n",
        "\n",
        "  else:\n",
        "    # print(da)\n",
        "    # print('*'*20)\n",
        "    pass\n",
        "  total_num += 1\n",
        "\n",
        "print(f\"模型准确率: {correct_num/total_num:.2%}\")\n"
      ]
    },
    {
      "cell_type": "markdown",
      "source": [
        "### My prompt with CoT"
      ],
      "metadata": {
        "id": "ePnZhDonQ2Wh"
      }
    },
    {
      "cell_type": "code",
      "source": [
        "model_cot = ChatDeepSeek(model=\"deepseek-reasoner\", temperature=1)\n",
        "chain_cot = prompt | model_cot | StrOutputParser()"
      ],
      "metadata": {
        "id": "QWN69JfJQ5E_"
      },
      "execution_count": null,
      "outputs": []
    },
    {
      "cell_type": "code",
      "source": [
        "# 计算做题准确率\n",
        "your_prompt = \"\"\"你是一位医学专家。请回答给定的医学问题。仅输出正确的答案选项。\n",
        "{question}\n",
        "{options}\"\"\"\n",
        "\n",
        "import re\n",
        "from tqdm import tqdm\n",
        "\n",
        "def get_query(da,template_func=your_prompt):\n",
        "  da['options'] = '\\n'.join([f\"{k}:{v}\" for k,v in da['option'].items()])\n",
        "  return template_func.format_map(da)\n",
        "\n",
        "def get_ans(ans):\n",
        "    match = re.findall(r'.*?([A-E]+(?:[、, ]+[A-E]+)*)', ans)\n",
        "    if match:\n",
        "        last_match = match[-1]\n",
        "        return ''.join(re.split(r'[、, ，]+', last_match))\n",
        "    return ''\n",
        "\n",
        "correct_num = 0\n",
        "total_num = 0\n",
        "for da in tqdm(data):\n",
        "  da['deepseek_ans'] =  chain_cot.invoke(get_query(da))\n",
        "  print(da['deepseek_ans'])\n",
        "  if get_ans(da['deepseek_ans']) == da['answer']:\n",
        "    correct_num += 1\n",
        "  total_num += 1\n",
        "print(f\"模型准确率: {correct_num/total_num:.2%}\")\n"
      ],
      "metadata": {
        "colab": {
          "base_uri": "https://localhost:8080/"
        },
        "id": "Bj-NM7MzQ-kk",
        "outputId": "4780c12a-fe36-4fcc-f85c-2000d10c32fd"
      },
      "execution_count": null,
      "outputs": [
        {
          "output_type": "stream",
          "name": "stderr",
          "text": [
            "  1%|▏         | 1/69 [01:12<1:22:02, 72.40s/it]"
          ]
        },
        {
          "output_type": "stream",
          "name": "stdout",
          "text": [
            "B、C、D\n"
          ]
        },
        {
          "output_type": "stream",
          "name": "stderr",
          "text": [
            "\r  3%|▎         | 2/69 [01:30<44:52, 40.19s/it]  "
          ]
        },
        {
          "output_type": "stream",
          "name": "stdout",
          "text": [
            "D\n"
          ]
        },
        {
          "output_type": "stream",
          "name": "stderr",
          "text": [
            "\r  4%|▍         | 3/69 [01:44<31:30, 28.64s/it]"
          ]
        },
        {
          "output_type": "stream",
          "name": "stdout",
          "text": [
            "C\n"
          ]
        },
        {
          "output_type": "stream",
          "name": "stderr",
          "text": [
            "\r  6%|▌         | 4/69 [02:01<25:50, 23.86s/it]"
          ]
        },
        {
          "output_type": "stream",
          "name": "stdout",
          "text": [
            "B\n"
          ]
        },
        {
          "output_type": "stream",
          "name": "stderr",
          "text": [
            "\r  7%|▋         | 5/69 [02:21<24:02, 22.54s/it]"
          ]
        },
        {
          "output_type": "stream",
          "name": "stdout",
          "text": [
            "C\n"
          ]
        },
        {
          "output_type": "stream",
          "name": "stderr",
          "text": [
            "\r  9%|▊         | 6/69 [02:42<22:55, 21.83s/it]"
          ]
        },
        {
          "output_type": "stream",
          "name": "stdout",
          "text": [
            "A\n"
          ]
        },
        {
          "output_type": "stream",
          "name": "stderr",
          "text": [
            "\r 10%|█         | 7/69 [02:59<21:05, 20.42s/it]"
          ]
        },
        {
          "output_type": "stream",
          "name": "stdout",
          "text": [
            "A:25mg\n"
          ]
        },
        {
          "output_type": "stream",
          "name": "stderr",
          "text": [
            "\r 12%|█▏        | 8/69 [03:44<28:37, 28.15s/it]"
          ]
        },
        {
          "output_type": "stream",
          "name": "stdout",
          "text": [
            "D\n"
          ]
        },
        {
          "output_type": "stream",
          "name": "stderr",
          "text": [
            "\r 13%|█▎        | 9/69 [04:07<26:34, 26.57s/it]"
          ]
        },
        {
          "output_type": "stream",
          "name": "stdout",
          "text": [
            "B\n"
          ]
        },
        {
          "output_type": "stream",
          "name": "stderr",
          "text": [
            "\r 14%|█▍        | 10/69 [06:04<53:36, 54.52s/it]"
          ]
        },
        {
          "output_type": "stream",
          "name": "stdout",
          "text": [
            "E\n"
          ]
        },
        {
          "output_type": "stream",
          "name": "stderr",
          "text": [
            "\r 16%|█▌        | 11/69 [06:53<51:07, 52.88s/it]"
          ]
        },
        {
          "output_type": "stream",
          "name": "stdout",
          "text": [
            "A\n"
          ]
        },
        {
          "output_type": "stream",
          "name": "stderr",
          "text": [
            "\r 17%|█▋        | 12/69 [07:10<39:45, 41.86s/it]"
          ]
        },
        {
          "output_type": "stream",
          "name": "stdout",
          "text": [
            "C\n"
          ]
        },
        {
          "output_type": "stream",
          "name": "stderr",
          "text": [
            "\r 19%|█▉        | 13/69 [07:28<32:24, 34.73s/it]"
          ]
        },
        {
          "output_type": "stream",
          "name": "stdout",
          "text": [
            "B\n"
          ]
        },
        {
          "output_type": "stream",
          "name": "stderr",
          "text": [
            "\r 20%|██        | 14/69 [08:01<31:26, 34.29s/it]"
          ]
        },
        {
          "output_type": "stream",
          "name": "stdout",
          "text": [
            "A、C、E\n"
          ]
        },
        {
          "output_type": "stream",
          "name": "stderr",
          "text": [
            "\r 22%|██▏       | 15/69 [08:15<25:20, 28.15s/it]"
          ]
        },
        {
          "output_type": "stream",
          "name": "stdout",
          "text": [
            "D\n"
          ]
        },
        {
          "output_type": "stream",
          "name": "stderr",
          "text": [
            "\r 23%|██▎       | 16/69 [08:43<24:48, 28.08s/it]"
          ]
        },
        {
          "output_type": "stream",
          "name": "stdout",
          "text": [
            "E:pH调节剂\n"
          ]
        },
        {
          "output_type": "stream",
          "name": "stderr",
          "text": [
            "\r 25%|██▍       | 17/69 [09:01<21:32, 24.86s/it]"
          ]
        },
        {
          "output_type": "stream",
          "name": "stdout",
          "text": [
            "B\n"
          ]
        },
        {
          "output_type": "stream",
          "name": "stderr",
          "text": [
            "\r 26%|██▌       | 18/69 [10:49<42:21, 49.83s/it]"
          ]
        },
        {
          "output_type": "stream",
          "name": "stdout",
          "text": [
            "A\n"
          ]
        },
        {
          "output_type": "stream",
          "name": "stderr",
          "text": [
            "\r 28%|██▊       | 19/69 [11:03<32:40, 39.21s/it]"
          ]
        },
        {
          "output_type": "stream",
          "name": "stdout",
          "text": [
            "E\n"
          ]
        },
        {
          "output_type": "stream",
          "name": "stderr",
          "text": [
            "\r 29%|██▉       | 20/69 [11:34<29:58, 36.70s/it]"
          ]
        },
        {
          "output_type": "stream",
          "name": "stdout",
          "text": [
            "B:4.96mg/L\n"
          ]
        },
        {
          "output_type": "stream",
          "name": "stderr",
          "text": [
            "\r 30%|███       | 21/69 [11:52<24:59, 31.25s/it]"
          ]
        },
        {
          "output_type": "stream",
          "name": "stdout",
          "text": [
            "E\n"
          ]
        },
        {
          "output_type": "stream",
          "name": "stderr",
          "text": [
            "\r 32%|███▏      | 22/69 [12:11<21:28, 27.41s/it]"
          ]
        },
        {
          "output_type": "stream",
          "name": "stdout",
          "text": [
            "E\n"
          ]
        },
        {
          "output_type": "stream",
          "name": "stderr",
          "text": [
            "\r 33%|███▎      | 23/69 [12:28<18:35, 24.24s/it]"
          ]
        },
        {
          "output_type": "stream",
          "name": "stdout",
          "text": [
            "C\n"
          ]
        },
        {
          "output_type": "stream",
          "name": "stderr",
          "text": [
            "\r 35%|███▍      | 24/69 [12:51<17:59, 23.99s/it]"
          ]
        },
        {
          "output_type": "stream",
          "name": "stdout",
          "text": [
            "C\n"
          ]
        },
        {
          "output_type": "stream",
          "name": "stderr",
          "text": [
            "\r 36%|███▌      | 25/69 [13:24<19:32, 26.66s/it]"
          ]
        },
        {
          "output_type": "stream",
          "name": "stdout",
          "text": [
            "C:枸橼酸铋钾\n"
          ]
        },
        {
          "output_type": "stream",
          "name": "stderr",
          "text": [
            "\r 38%|███▊      | 26/69 [13:41<16:59, 23.72s/it]"
          ]
        },
        {
          "output_type": "stream",
          "name": "stdout",
          "text": [
            "D\n"
          ]
        },
        {
          "output_type": "stream",
          "name": "stderr",
          "text": [
            "\r 39%|███▉      | 27/69 [13:55<14:30, 20.72s/it]"
          ]
        },
        {
          "output_type": "stream",
          "name": "stdout",
          "text": [
            "A\n"
          ]
        },
        {
          "output_type": "stream",
          "name": "stderr",
          "text": [
            "\r 41%|████      | 28/69 [14:23<15:38, 22.88s/it]"
          ]
        },
        {
          "output_type": "stream",
          "name": "stdout",
          "text": [
            "B\n"
          ]
        },
        {
          "output_type": "stream",
          "name": "stderr",
          "text": [
            "\r 42%|████▏     | 29/69 [14:42<14:34, 21.86s/it]"
          ]
        },
        {
          "output_type": "stream",
          "name": "stdout",
          "text": [
            "B\n"
          ]
        },
        {
          "output_type": "stream",
          "name": "stderr",
          "text": [
            "\r 43%|████▎     | 30/69 [15:25<18:22, 28.27s/it]"
          ]
        },
        {
          "output_type": "stream",
          "name": "stdout",
          "text": [
            "E\n"
          ]
        },
        {
          "output_type": "stream",
          "name": "stderr",
          "text": [
            "\r 45%|████▍     | 31/69 [15:50<17:13, 27.19s/it]"
          ]
        },
        {
          "output_type": "stream",
          "name": "stdout",
          "text": [
            "E\n"
          ]
        },
        {
          "output_type": "stream",
          "name": "stderr",
          "text": [
            "\r 46%|████▋     | 32/69 [16:05<14:25, 23.40s/it]"
          ]
        },
        {
          "output_type": "stream",
          "name": "stdout",
          "text": [
            "B\n"
          ]
        },
        {
          "output_type": "stream",
          "name": "stderr",
          "text": [
            "\r 48%|████▊     | 33/69 [16:29<14:10, 23.63s/it]"
          ]
        },
        {
          "output_type": "stream",
          "name": "stdout",
          "text": [
            "A、B、E\n"
          ]
        },
        {
          "output_type": "stream",
          "name": "stderr",
          "text": [
            "\r 49%|████▉     | 34/69 [16:48<12:58, 22.25s/it]"
          ]
        },
        {
          "output_type": "stream",
          "name": "stdout",
          "text": [
            "E\n"
          ]
        },
        {
          "output_type": "stream",
          "name": "stderr",
          "text": [
            "\r 51%|█████     | 35/69 [17:06<11:54, 21.00s/it]"
          ]
        },
        {
          "output_type": "stream",
          "name": "stdout",
          "text": [
            "C\n"
          ]
        },
        {
          "output_type": "stream",
          "name": "stderr",
          "text": [
            "\r 52%|█████▏    | 36/69 [17:23<10:54, 19.83s/it]"
          ]
        },
        {
          "output_type": "stream",
          "name": "stdout",
          "text": [
            "B\n"
          ]
        },
        {
          "output_type": "stream",
          "name": "stderr",
          "text": [
            "\r 54%|█████▎    | 37/69 [17:47<11:13, 21.04s/it]"
          ]
        },
        {
          "output_type": "stream",
          "name": "stdout",
          "text": [
            "E\n"
          ]
        },
        {
          "output_type": "stream",
          "name": "stderr",
          "text": [
            "\r 55%|█████▌    | 38/69 [18:05<10:29, 20.31s/it]"
          ]
        },
        {
          "output_type": "stream",
          "name": "stdout",
          "text": [
            "C\n"
          ]
        },
        {
          "output_type": "stream",
          "name": "stderr",
          "text": [
            "\r 57%|█████▋    | 39/69 [18:25<10:05, 20.19s/it]"
          ]
        },
        {
          "output_type": "stream",
          "name": "stdout",
          "text": [
            "D\n"
          ]
        },
        {
          "output_type": "stream",
          "name": "stderr",
          "text": [
            "\r 58%|█████▊    | 40/69 [19:11<13:31, 28.00s/it]"
          ]
        },
        {
          "output_type": "stream",
          "name": "stdout",
          "text": [
            "D\n"
          ]
        },
        {
          "output_type": "stream",
          "name": "stderr",
          "text": [
            "\r 59%|█████▉    | 41/69 [19:27<11:18, 24.22s/it]"
          ]
        },
        {
          "output_type": "stream",
          "name": "stdout",
          "text": [
            "E\n"
          ]
        },
        {
          "output_type": "stream",
          "name": "stderr",
          "text": [
            "\r 61%|██████    | 42/69 [19:42<09:40, 21.51s/it]"
          ]
        },
        {
          "output_type": "stream",
          "name": "stdout",
          "text": [
            "A\n"
          ]
        },
        {
          "output_type": "stream",
          "name": "stderr",
          "text": [
            "\r 62%|██████▏   | 43/69 [20:03<09:11, 21.19s/it]"
          ]
        },
        {
          "output_type": "stream",
          "name": "stdout",
          "text": [
            "B\n"
          ]
        },
        {
          "output_type": "stream",
          "name": "stderr",
          "text": [
            "\r 64%|██████▍   | 44/69 [20:18<08:08, 19.54s/it]"
          ]
        },
        {
          "output_type": "stream",
          "name": "stdout",
          "text": [
            "C\n"
          ]
        },
        {
          "output_type": "stream",
          "name": "stderr",
          "text": [
            "\r 65%|██████▌   | 45/69 [21:11<11:50, 29.62s/it]"
          ]
        },
        {
          "output_type": "stream",
          "name": "stdout",
          "text": [
            "A\n"
          ]
        },
        {
          "output_type": "stream",
          "name": "stderr",
          "text": [
            "\r 67%|██████▋   | 46/69 [21:43<11:33, 30.16s/it]"
          ]
        },
        {
          "output_type": "stream",
          "name": "stdout",
          "text": [
            "D:氯沙坦\n"
          ]
        },
        {
          "output_type": "stream",
          "name": "stderr",
          "text": [
            "\r 68%|██████▊   | 47/69 [22:05<10:12, 27.85s/it]"
          ]
        },
        {
          "output_type": "stream",
          "name": "stdout",
          "text": [
            "A\n"
          ]
        },
        {
          "output_type": "stream",
          "name": "stderr",
          "text": [
            "\r 70%|██████▉   | 48/69 [22:19<08:15, 23.60s/it]"
          ]
        },
        {
          "output_type": "stream",
          "name": "stdout",
          "text": [
            "E\n"
          ]
        },
        {
          "output_type": "stream",
          "name": "stderr",
          "text": [
            "\r 71%|███████   | 49/69 [22:40<07:34, 22.73s/it]"
          ]
        },
        {
          "output_type": "stream",
          "name": "stdout",
          "text": [
            "C\n"
          ]
        },
        {
          "output_type": "stream",
          "name": "stderr",
          "text": [
            "\r 72%|███████▏  | 50/69 [22:59<06:52, 21.70s/it]"
          ]
        },
        {
          "output_type": "stream",
          "name": "stdout",
          "text": [
            "A、C、E\n"
          ]
        },
        {
          "output_type": "stream",
          "name": "stderr",
          "text": [
            "\r 74%|███████▍  | 51/69 [23:20<06:24, 21.39s/it]"
          ]
        },
        {
          "output_type": "stream",
          "name": "stdout",
          "text": [
            "C\n"
          ]
        },
        {
          "output_type": "stream",
          "name": "stderr",
          "text": [
            "\r 75%|███████▌  | 52/69 [23:37<05:44, 20.28s/it]"
          ]
        },
        {
          "output_type": "stream",
          "name": "stdout",
          "text": [
            "A\n"
          ]
        },
        {
          "output_type": "stream",
          "name": "stderr",
          "text": [
            "\r 77%|███████▋  | 53/69 [24:05<06:01, 22.59s/it]"
          ]
        },
        {
          "output_type": "stream",
          "name": "stdout",
          "text": [
            "B、C、E\n"
          ]
        },
        {
          "output_type": "stream",
          "name": "stderr",
          "text": [
            "\r 78%|███████▊  | 54/69 [24:36<06:16, 25.10s/it]"
          ]
        },
        {
          "output_type": "stream",
          "name": "stdout",
          "text": [
            "D:多柔⽐星\n"
          ]
        },
        {
          "output_type": "stream",
          "name": "stderr",
          "text": [
            "\r 80%|███████▉  | 55/69 [24:58<05:38, 24.16s/it]"
          ]
        },
        {
          "output_type": "stream",
          "name": "stdout",
          "text": [
            "A\n"
          ]
        },
        {
          "output_type": "stream",
          "name": "stderr",
          "text": [
            "\r 81%|████████  | 56/69 [25:19<05:01, 23.20s/it]"
          ]
        },
        {
          "output_type": "stream",
          "name": "stdout",
          "text": [
            "A\n"
          ]
        },
        {
          "output_type": "stream",
          "name": "stderr",
          "text": [
            "\r 83%|████████▎ | 57/69 [25:45<04:48, 24.03s/it]"
          ]
        },
        {
          "output_type": "stream",
          "name": "stdout",
          "text": [
            "C\n"
          ]
        },
        {
          "output_type": "stream",
          "name": "stderr",
          "text": [
            "\r 84%|████████▍ | 58/69 [26:12<04:35, 25.03s/it]"
          ]
        },
        {
          "output_type": "stream",
          "name": "stdout",
          "text": [
            "C\n"
          ]
        },
        {
          "output_type": "stream",
          "name": "stderr",
          "text": [
            "\r 86%|████████▌ | 59/69 [26:40<04:17, 25.72s/it]"
          ]
        },
        {
          "output_type": "stream",
          "name": "stdout",
          "text": [
            "B\n"
          ]
        },
        {
          "output_type": "stream",
          "name": "stderr",
          "text": [
            "\r 87%|████████▋ | 60/69 [27:07<03:54, 26.08s/it]"
          ]
        },
        {
          "output_type": "stream",
          "name": "stdout",
          "text": [
            "A、C、D、E\n"
          ]
        },
        {
          "output_type": "stream",
          "name": "stderr",
          "text": [
            "\r 88%|████████▊ | 61/69 [27:24<03:07, 23.46s/it]"
          ]
        },
        {
          "output_type": "stream",
          "name": "stdout",
          "text": [
            "D\n"
          ]
        },
        {
          "output_type": "stream",
          "name": "stderr",
          "text": [
            "\r 90%|████████▉ | 62/69 [27:50<02:50, 24.33s/it]"
          ]
        },
        {
          "output_type": "stream",
          "name": "stdout",
          "text": [
            "B\n"
          ]
        },
        {
          "output_type": "stream",
          "name": "stderr",
          "text": [
            "\r 91%|█████████▏| 63/69 [28:07<02:11, 21.90s/it]"
          ]
        },
        {
          "output_type": "stream",
          "name": "stdout",
          "text": [
            "B\n"
          ]
        },
        {
          "output_type": "stream",
          "name": "stderr",
          "text": [
            "\r 93%|█████████▎| 64/69 [28:24<01:43, 20.66s/it]"
          ]
        },
        {
          "output_type": "stream",
          "name": "stdout",
          "text": [
            "E\n"
          ]
        },
        {
          "output_type": "stream",
          "name": "stderr",
          "text": [
            "\r 94%|█████████▍| 65/69 [28:39<01:14, 18.70s/it]"
          ]
        },
        {
          "output_type": "stream",
          "name": "stdout",
          "text": [
            "C\n"
          ]
        },
        {
          "output_type": "stream",
          "name": "stderr",
          "text": [
            "\r 96%|█████████▌| 66/69 [29:05<01:02, 20.93s/it]"
          ]
        },
        {
          "output_type": "stream",
          "name": "stdout",
          "text": [
            "A\n"
          ]
        },
        {
          "output_type": "stream",
          "name": "stderr",
          "text": [
            "\r 97%|█████████▋| 67/69 [29:20<00:38, 19.25s/it]"
          ]
        },
        {
          "output_type": "stream",
          "name": "stdout",
          "text": [
            "B\n"
          ]
        },
        {
          "output_type": "stream",
          "name": "stderr",
          "text": [
            "\r 99%|█████████▊| 68/69 [29:36<00:18, 18.39s/it]"
          ]
        },
        {
          "output_type": "stream",
          "name": "stdout",
          "text": [
            "B\n"
          ]
        },
        {
          "output_type": "stream",
          "name": "stderr",
          "text": [
            "100%|██████████| 69/69 [29:59<00:00, 26.08s/it]"
          ]
        },
        {
          "output_type": "stream",
          "name": "stdout",
          "text": [
            "E\n",
            "模型准确率: 95.65%\n"
          ]
        },
        {
          "output_type": "stream",
          "name": "stderr",
          "text": [
            "\n"
          ]
        }
      ]
    },
    {
      "cell_type": "markdown",
      "metadata": {
        "id": "DZcCu1lUHx7T"
      },
      "source": [
        "### My prompt with work flow(Agent)"
      ]
    },
    {
      "cell_type": "code",
      "execution_count": 5,
      "metadata": {
        "id": "R814rj1IIAn_"
      },
      "outputs": [],
      "source": [
        "# Agent building\n",
        "prompt = ChatPromptTemplate.from_messages(\n",
        "    [\n",
        "        (\"system\", \"\"),\n",
        "        (\"user\", \"{input}\")\n",
        "    ]\n",
        ")\n",
        "\n",
        "model_hint = ChatDeepSeek(model=\"deepseek-chat\")\n",
        "\n",
        "chain_hint = prompt | model_hint | StrOutputParser()\n",
        "\n",
        "model = ChatDeepSeek(model=\"deepseek-chat\")\n",
        "\n",
        "chain = prompt | model | StrOutputParser()"
      ]
    },
    {
      "cell_type": "code",
      "execution_count": 16,
      "metadata": {
        "id": "vK3yimk7IFx7"
      },
      "outputs": [],
      "source": [
        "# 计算做题准确率\n",
        "system_prompt_hint = \"\"\"你是一位医学教育专家。请根据学生提供的问题和选项概念，**简明**地给学生一些知识点概念提示，注意不要告诉学生答案\n",
        "\"\"\"\n",
        "\n",
        "user_template_hint = '''\n",
        "问题：{question}\n",
        "选项：{options}\n",
        "提示：\"\n",
        "'''"
      ]
    },
    {
      "cell_type": "code",
      "execution_count": 18,
      "metadata": {
        "id": "_HNeQOJYH2ja",
        "colab": {
          "base_uri": "https://localhost:8080/"
        },
        "outputId": "9cccaebe-aa44-4694-b764-edcfd964df0f"
      },
      "outputs": [
        {
          "output_type": "stream",
          "name": "stderr",
          "text": [
            "\r  0%|          | 0/69 [00:00<?, ?it/s]"
          ]
        },
        {
          "output_type": "stream",
          "name": "stdout",
          "text": [
            "你是一位医学生，按照指定的题目类型回答医学问题，做大钱，请仔细阅读给定的题目提示，仅输出正确的答案选项。\n",
            "\n",
            "问题：112. 患者，男，70岁，因抑郁症长期服⽤舍曲林。新诊断为帕⾦森病，宜选⽤的药物有（）。\n",
            "问题类型：多项选择题\n",
            "选项：A:司来吉兰\n",
            "B:普拉克索\n",
            "C:⾦刚烷胺\n",
            "D:吡贝地尔\n",
            "E:恩他卡朋\n",
            "题目提示： 好的，同学。我们一起来梳理一下这道题的关键知识点。\n",
            "\n",
            "这道题的核心是**药物相互作用**，特别是要避免可能引发严重不良反应的联合用药。\n",
            "\n",
            "**关键概念提示：**\n",
            "\n",
            "1.  **关注基础疾病与用药**：患者有**抑郁症**，正在长期服用**舍曲林**。舍曲林属于SSRI类抗抑郁药。\n",
            "2.  **牢记药物相互作用禁忌**：在抗帕金森病药物中，有一类药物需要特别警惕与SSRI类抗抑郁药合用，因为这会显著增加发生一种叫做 **“5-羟色胺综合征”** 的风险。这是一种潜在危及生命的严重状况。\n",
            "3.  **识别高风险药物**：你需要回忆或判断，在给出的抗帕金森病选项中，哪一种药物的作用机制会直接影响5-羟色胺系统，从而与舍曲林产生叠加效应，触发上述风险。\n",
            "\n",
            "请基于以上几点，回顾各类抗帕金森病药物的作用机制，特别是它们与神经递质系统的关系，从而做出判断。\n",
            "\n"
          ]
        },
        {
          "output_type": "stream",
          "name": "stderr",
          "text": [
            "\r  1%|▏         | 1/69 [00:24<27:21, 24.14s/it]"
          ]
        },
        {
          "output_type": "stream",
          "name": "stdout",
          "text": [
            "正确答案是：**B, C, D, E**\n",
            "\n",
            "**解析：**\n",
            "\n",
            "这道题的核心考点是避免**5-羟色胺综合征**的风险。\n",
            "\n",
            "1.  **风险分析**：患者长期服用**舍曲林**，这是一种选择性5-羟色胺再摄取抑制剂。如果同时使用能增加5-羟色胺活性的其他药物，会导致5-羟色胺在突触间隙过度累积，从而引发5-羟色胺综合征。\n",
            "2.  **关键药物判断**：在抗帕金森病药物中，**司来吉兰**在较高剂量（>10mg/日）时，会失去B型单胺氧化酶的选择性，同时抑制MAO-A和MAO-B。抑制MAO-A会阻止5-羟色胺的分解，与舍曲林合用将极大地增加5-羟色胺综合征的风险。因此，**A. 司来吉兰是禁用的**。\n",
            "3.  **安全药物选择**：\n",
            "    *   **B. 普拉克索**：多巴胺受体激动剂，不直接影响5-羟色胺系统。\n",
            "    *   **C. 金刚烷胺**：促进多巴胺释放，也可拮抗NMDA受体，不直接影响5-羟色胺系统。\n",
            "    *   **D. 吡贝地尔**：多巴胺受体激动剂，不直接影响5-羟色胺系统。\n",
            "    *   **E. 恩他卡朋**：儿茶酚-O-甲基转移酶抑制剂，通过抑制左旋多巴在外周的代谢来增加其入脑量，不直接影响5-羟色胺系统。\n",
            "\n",
            "因此，为避免与舍曲林发生严重的药物相互作用，该患者应选用**普拉克索、金刚烷胺、吡贝地尔、恩他卡朋**。\n",
            "你是一位医学生，按照指定的题目类型回答医学问题，做大钱，请仔细阅读给定的题目提示，仅输出正确的答案选项。\n",
            "\n",
            "问题：2215. 可⽤于治疗蛔⾍病、蛲⾍病、钩⾍病和鞭⾍病的⼴谱驱⾍药物是（）。\n",
            "问题类型：最佳选择题\n",
            "选项：A:甲硝唑\n",
            "B:氯硝柳胺\n",
            "C:⼄胺嗪\n",
            "D:甲苯咪唑\n",
            "E:三氯苯达唑\n",
            "题目提示： 好的，我们一起来回顾几个关键概念：\n",
            "\n",
            "1.  **“广谱驱肠虫药”**：这个术语指的是能够有效对抗多种不同种类肠道蠕虫的药物。\n",
            "2.  **药物与虫谱对应关系**：\n",
            "    *   思考一下，哪些药物主要通过干扰寄生虫的能量代谢（如抑制葡萄糖摄取）来发挥作用？\n",
            "    *   回忆一下，选项中哪种药物对线虫类（如蛔虫、蛲虫、钩虫、鞭虫）的成虫和幼虫都有较好的驱杀效果？\n",
            "3.  **排除法**：\n",
            "    *   可以想想哪些药物主要用于治疗**原虫**感染（如阿米巴、滴虫）。\n",
            "    *   哪些药物主要用于治疗**绦虫**感染。\n",
            "    *   哪些药物主要用于治疗**丝虫**感染。\n",
            "    *   哪些药物主要用于治疗**吸虫**感染（如肝吸虫）。\n",
            "\n",
            "希望这些提示能帮助你回忆起关键知识点。\n",
            "\n"
          ]
        },
        {
          "output_type": "stream",
          "name": "stderr",
          "text": [
            "\r  3%|▎         | 2/69 [00:34<17:53, 16.03s/it]"
          ]
        },
        {
          "output_type": "stream",
          "name": "stdout",
          "text": [
            "D:甲苯咪唑\n",
            "你是一位医学生，按照指定的题目类型回答医学问题，做大钱，请仔细阅读给定的题目提示，仅输出正确的答案选项。\n",
            "\n",
            "问题：49. ⽤于治疗湿性视⽹膜黄斑变性的药物是（）。\n",
            "问题类型：配伍选择题\n",
            "选项：A:聚⼄⼆醇滴眼液\n",
            "B:硫酸阿托品眼⽤凝胶\n",
            "C:雷珠单抗注射液\n",
            "D:⽑果芸⾹碱滴眼液\n",
            "E:丙美卡因滴眼液\n",
            "题目提示： 好的，我们来梳理一下这道题的关键知识点。\n",
            "\n",
            "**核心概念提示：**\n",
            "\n",
            "1.  **疾病定位**：首先明确“湿性年龄相关性黄斑变性”的核心病理特征。它与“干性”的主要区别在于眼底有**异常的新生血管**生长，这些血管会渗漏、出血，导致视力迅速下降。\n",
            "\n",
            "2.  **治疗靶点**：治疗的关键在于抑制这些异常血管的生长、渗漏和出血。请回忆一种在眼内能**促进血管生成**的关键因子（VEGF）。\n",
            "\n",
            "3.  **药物机制**：题目考察的药物，其作用机制正是通过**特异性拮抗/中和**上述关键因子（VEGF）来发挥治疗作用。\n",
            "\n",
            "4.  **剂型与给药途径**：考虑到药物需要作用于眼底视网膜，而眼球有特殊的屏障，思考一下哪种剂型和给药方式（如眼表滴眼、眼内注射）才能让药物有效到达病灶。\n",
            "\n",
            "希望这些提示能帮助你回忆起关键信息，从而做出判断。\n",
            "\n"
          ]
        },
        {
          "output_type": "stream",
          "name": "stderr",
          "text": [
            "\r  4%|▍         | 3/69 [00:45<14:56, 13.58s/it]"
          ]
        },
        {
          "output_type": "stream",
          "name": "stdout",
          "text": [
            "C:雷珠单抗注射液\n",
            "你是一位医学生，按照指定的题目类型回答医学问题，做大钱，请仔细阅读给定的题目提示，仅输出正确的答案选项。\n",
            "\n",
            "问题：2. 影响药物制剂稳定性的⾮处⽅因素是（）。\n",
            "问题类型：最佳选择题\n",
            "选项：A:pH\n",
            "B:温度\n",
            "C:溶剂\n",
            "D:离⼦强度\n",
            "E:表⾯活性剂\n",
            "题目提示： 好的，我们一起来回顾一下相关的概念。\n",
            "\n",
            "**知识点提示：**\n",
            "\n",
            "1.  首先，请回顾“处方因素”和“非处方因素”的定义。\n",
            "    - **处方因素** 通常指在**设计制剂配方时**可以控制和选择的因素，它与制剂的组成直接相关。\n",
            "    - **非处方因素** 则指在**生产、贮存及使用过程中**遇到的环境因素，通常与制剂配方本身无关。\n",
            "\n",
            "2.  现在，请逐一分析每个选项，判断它属于哪一类：\n",
            "    - 考虑一下，哪些因素是可以通过改变制剂配方（比如添加缓冲对、改变溶剂、加入辅料等）来直接调控的？\n",
            "    - 哪些因素是外界环境强加的，需要通过改进包装、控制贮存条件等方式来应对，而无法通过改变配方来消除？\n",
            "\n",
            "根据这个思路，你应该能判断出哪个选项所代表的因素是制剂处方无法直接控制的。\n",
            "\n"
          ]
        },
        {
          "output_type": "stream",
          "name": "stderr",
          "text": [
            "\r  6%|▌         | 4/69 [00:54<13:05, 12.08s/it]"
          ]
        },
        {
          "output_type": "stream",
          "name": "stdout",
          "text": [
            "B:温度\n",
            "你是一位医学生，按照指定的题目类型回答医学问题，做大钱，请仔细阅读给定的题目提示，仅输出正确的答案选项。\n",
            "\n",
            "问题：9. 关于钠-葡萄糖协同转运蛋⽩-2（SLG-2）抑制剂达格列净作⽤特点和不良反应的说法，错误的是（）。\n",
            "问题类型：最佳选择题\n",
            "选项：A:降糖效果受肾⼩球滤过的葡萄糖负荷的影响\n",
            "B:降糖作⽤不依赖于胰岛B细胞的功能及机体对胰岛素的敏感性\n",
            "C:适⽤于1型糖尿病或糖尿病酮症酸中毒\n",
            "D:重度肾功能不全患者禁⽤\n",
            "E:可降低⾎压，减轻体重\n",
            "题目提示： 好的，同学。我们来梳理一下这道题涉及的关键概念，帮助你判断哪个说法“错误”。\n",
            "\n",
            "**知识点提示：**\n",
            "\n",
            "1.  **作用机制核心：** 请回顾SGLT-2抑制剂的作用部位和原理。它的作用是促进尿液中什么物质的排泄？这个过程的“原料”来源于哪里？\n",
            "2.  **功能依赖性：** 思考它的降糖途径是否通过刺激胰岛素分泌或改善胰岛素抵抗来实现。这与传统药物如磺脲类或胰岛素有何根本区别？\n",
            "3.  **关键禁忌症：**\n",
            "    *   注意此类药物在哪种病理状态下会失效，因此成为禁忌。\n",
            "    *   特别关注在**1型糖尿病**患者中使用此类药物的风险，尤其是与一种急性并发症（酮症酸中毒）的关联。药物说明书和临床指南对此有何明确警示？\n",
            "4.  **额外获益：** 除了降糖，由于其独特的利钠、利尿等机制，它还可能带来哪些对心血管和代谢有益的影响？\n",
            "\n",
            "请基于这些核心概念，逐一分析每个选项的表述是否准确。\n",
            "\n"
          ]
        },
        {
          "output_type": "stream",
          "name": "stderr",
          "text": [
            "\r  7%|▋         | 5/69 [01:06<12:50, 12.04s/it]"
          ]
        },
        {
          "output_type": "stream",
          "name": "stdout",
          "text": [
            "C:适⽤于1型糖尿病或糖尿病酮症酸中毒\n",
            "你是一位医学生，按照指定的题目类型回答医学问题，做大钱，请仔细阅读给定的题目提示，仅输出正确的答案选项。\n",
            "\n",
            "问题：56. 属于⼆肽基肽酶-4（DPP-4）抑制剂的药物是（）。\n",
            "问题类型：配伍选择题\n",
            "选项：A:西格列汀\n",
            "B:那格列奈\n",
            "C:格列美脲\n",
            "D:利拉鲁肽\n",
            "E:罗格列酮\n",
            "题目提示： 好的，我们来梳理一下相关概念：\n",
            "\n",
            "1.  **DPP-4抑制剂的作用机制**：这类药物通过抑制一种叫做“二肽基肽酶-4”的酶来发挥作用。想一想，这种酶在体内会分解哪种重要的、具有降糖作用的激素？抑制了这种酶，会使哪种激素的水平升高？\n",
            "\n",
            "2.  **药物名称的特征**：请回忆或查找一下，在降糖药的分类中，哪一类药物的名称常带有“**列汀**”这个词根？\n",
            "\n",
            "3.  **其他选项的类别**：\n",
            "    *   选项B和C的名字里带有“**格列**”，它们属于哪一类经典的胰岛素促泌剂？\n",
            "    *   选项D是一种“**肽**”类药物，它本身是一种激素类似物，属于哪一类新型降糖药？\n",
            "    *   选项E的名字里带有“**列酮**”，它主要通过提高机体对胰岛素的敏感性来降糖，属于哪一类药物？\n",
            "\n",
            "根据这些提示，回忆各类降糖药的代表药物和核心作用机制，就能做出判断了。\n",
            "\n"
          ]
        },
        {
          "output_type": "stream",
          "name": "stderr",
          "text": [
            "\r  9%|▊         | 6/69 [01:18<12:27, 11.87s/it]"
          ]
        },
        {
          "output_type": "stream",
          "name": "stdout",
          "text": [
            "A:西格列汀\n",
            "你是一位医学生，按照指定的题目类型回答医学问题，做大钱，请仔细阅读给定的题目提示，仅输出正确的答案选项。\n",
            "\n",
            "问题：题干：雌⼆醇⼜服⼏乎⽆效，临床常⽤雌⼆醇贴⽚。近年来，随着微粒化技术问世，市⾯上亦出现了雌⼆醇⽚。某患者使⽤微粒化雌⼆醇⽚治疗雌激素缺乏综合征，每次2mg，每天服药⼀次，使⽤⼀段时间后，出现肝功能异常，后改⽤雌⼆醇贴⽚（每⽚2.5mg，每⽚可使⽤7⽇），不良反应消失。\n",
            "103. 雌⼆醇⽚属于⼩剂量⽚剂，应检查含量均匀度，根据《中国药典》规定，⼩剂量是指每⽚标⽰量⼩于（）。\n",
            "问题类型：综合分析选择题\n",
            "选项：A:25mg\n",
            "B:1mg\n",
            "C:5mg\n",
            "D:10mg\n",
            "E:50mg\n",
            "题目提示： 好，我们先明确题目问的核心概念。  \n",
            "\n",
            "题干提到雌二醇片是“小剂量片剂”，要检查含量均匀度。  \n",
            "《中国药典》对“小剂量片剂”有明确的定义，指的是**每片标示量小于某个数值**的片剂。  \n",
            "\n",
            "你需要回忆或查找药典中关于“含量均匀度检查法”的适用范围，特别是“小剂量”的界定标准。  \n",
            "提示关键词：  \n",
            "- 含量均匀度  \n",
            "- 小剂量片剂  \n",
            "- 药典规定数值（注意单位是毫克）  \n",
            "- 通常这个界限与药物的有效剂量范围和制剂工艺控制有关\n",
            "\n"
          ]
        },
        {
          "output_type": "stream",
          "name": "stderr",
          "text": [
            "\r 10%|█         | 7/69 [01:25<10:43, 10.37s/it]"
          ]
        },
        {
          "output_type": "stream",
          "name": "stdout",
          "text": [
            "A:25mg\n",
            "你是一位医学生，按照指定的题目类型回答医学问题，做大钱，请仔细阅读给定的题目提示，仅输出正确的答案选项。\n",
            "\n",
            "问题：题干：舍曲林的化学结构如下，体内过程符合线性药动学特征，只有极少量（＜0.2%）以原形从尿中排泄，临床上常⽤剂量为50～200mg，每天给药⼀次。肝肾功能正常的某患者服⽤该药后的达峰时间约为5h，其消除半衰期约为24h，⾎浆蛋⽩结合率为98%。\n",
            "108. 舍曲林在体内主要代谢产物仍有活性，约为舍曲林的1/20，该主要代谢产物是（）。\n",
            "问题类型：综合分析选择题\n",
            "选项：A:3-羟基舍曲林\n",
            "B:去甲氨基舍曲林\n",
            "C:7-羟基舍曲林\n",
            "D:N-去甲基舍曲林\n",
            "E:脱氯舍曲林\n",
            "题目提示： 我们先回顾几个关键概念，这些概念能帮你推理出答案：  \n",
            "\n",
            "1. **舍曲林的代谢产物有活性** → 通常药物代谢后仍有活性，可能是去甲基化产物（如 SSRI 类药物常见 N-去甲基代谢物，活性降低但仍有效）。  \n",
            "2. **活性约为舍曲林的 1/20** → 提示代谢物结构改变不大，但药效减弱。  \n",
            "3. **代谢位点**：含氮原子的甲基被去掉（N-去甲基化）是抗抑郁药（如舍曲林、氟西汀、帕罗西汀等）常见的代谢途径，代谢物活性通常低于母药。  \n",
            "4. 其他羟基化（如 3-、7-羟基）在舍曲林代谢中存在，但一般活性很低或无活性，且不是“主要活性代谢产物”。  \n",
            "\n",
            "你可以根据这些线索，结合已知的舍曲林代谢途径去判断哪个选项是主要且有活性的代谢产物。\n",
            "\n"
          ]
        },
        {
          "output_type": "stream",
          "name": "stderr",
          "text": [
            "\r 12%|█▏        | 8/69 [01:36<10:43, 10.56s/it]"
          ]
        },
        {
          "output_type": "stream",
          "name": "stdout",
          "text": [
            "D:N-去甲基舍曲林\n",
            "你是一位医学生，按照指定的题目类型回答医学问题，做大钱，请仔细阅读给定的题目提示，仅输出正确的答案选项。\n",
            "\n",
            "问题：51. 患者，⼥，28岁，已婚未育，因阴道分泌物增多伴瘙痒5天就诊。妇科检查见阴道内⼤量黄绿⾊泡沫样分泌物，有臭味，分泌物镜检见滴⾍。宜选⽤的药物是（）。\n",
            "问题类型：配伍选择题\n",
            "选项：A:酮康唑乳膏\n",
            "B:甲硝唑栓\n",
            "C:雌三醇乳膏\n",
            "D:硝酸咪康唑栓\n",
            "E:氯康唑胶囊\n",
            "题目提示： 好的，作为提示，请你从以下几个方面思考：\n",
            "\n",
            "1.  **核心病原体**：题目中镜检发现的“滴虫”是哪种微生物？回顾一下它的分类（是细菌、病毒、真菌还是原虫？），这直接决定了治疗药物的选择方向。\n",
            "\n",
            "2.  **首选药物类型**：针对这种病原体，全身用药和局部用药哪种更常用、效果更可靠？思考一下为什么。\n",
            "\n",
            "3.  **药物作用机制**：回顾一下选项中各药物的主要抗菌/抗虫谱。\n",
            "    *   名字中带“**康唑**”的药物通常主要用于哪一类微生物感染？\n",
            "    *   哪个药物是公认的治疗该病原体感染的**首选**或**标准用药**？\n",
            "\n",
            "4.  **患者特殊情况**：注意患者的“已婚”状态。这种感染是否具有传染性？是否需要考虑对伴侣进行同步治疗以防止复发？\n",
            "\n",
            "结合以上几点，再对照选项，你应该能做出正确的判断。\n",
            "\n"
          ]
        },
        {
          "output_type": "stream",
          "name": "stderr",
          "text": [
            "\r 13%|█▎        | 9/69 [01:47<10:35, 10.59s/it]"
          ]
        },
        {
          "output_type": "stream",
          "name": "stdout",
          "text": [
            "B:甲硝唑栓\n",
            "你是一位医学生，按照指定的题目类型回答医学问题，做大钱，请仔细阅读给定的题目提示，仅输出正确的答案选项。\n",
            "\n",
            "问题：62. 药品质量标准中属于药物特性检查的项⽬是（）。\n",
            "问题类型：配伍选择题\n",
            "选项：A:氯化物\n",
            "B:细菌内毒素\n",
            "C:有关物质\n",
            "D:结晶性\n",
            "E:熔点\n",
            "题目提示： 好的，同学。我们一起来梳理一下这道题涉及的知识点。\n",
            "\n",
            "**核心概念提示：**\n",
            "\n",
            "1.  **区分“特性检查”与“限度检查”**：\n",
            "    *   **特性检查**：主要验证药物“本身”的物理或化学性质，这些性质是其固有的特征，常用于鉴别和表征药物。\n",
            "    *   **限度检查**：主要控制药物中“杂质”或“有害物质”的量，检查对象不是药物主成分本身，而是其含有的其他成分，要求不得过某个限度。\n",
            "\n",
            "2.  **分析各选项的性质**：\n",
            "    *   思考“氯化物”、“细菌内毒素”、“有关物质”这三项，它们是检查药物中不希望含有的**杂质或污染物**，还是描述药物**本身的特性**？\n",
            "    *   思考“结晶性”和“熔点”，它们是描述药物**固体物质本身**的物理性质，还是对其中杂质的控制？\n",
            "\n",
            "你可以根据以上两个思路，对每个选项进行归类，答案就清晰了。\n",
            "\n"
          ]
        },
        {
          "output_type": "stream",
          "name": "stderr",
          "text": [
            "\r 14%|█▍        | 10/69 [01:58<10:27, 10.63s/it]"
          ]
        },
        {
          "output_type": "stream",
          "name": "stdout",
          "text": [
            "D\n",
            "你是一位医学生，按照指定的题目类型回答医学问题，做大钱，请仔细阅读给定的题目提示，仅输出正确的答案选项。\n",
            "\n",
            "问题：1. 为配制有效氯浓度为500mg/L的消毒剂10L，需要次氯酸钠溶液（有效氯浓度为6.0%）和纯化⽔的量分别是（）。\n",
            "问题类型：最佳选择题\n",
            "选项：A:83mL和9917mL\n",
            "B:830mL和9170mL\n",
            "C:120mL和9880mL\n",
            "D:150mL和9850mL\n",
            "E:500mL和9500mL\n",
            "题目提示： 好，我们一步步推理，不直接给答案，只提示关键概念。  \n",
            "\n",
            "1. **已知条件**  \n",
            "   - 目标有效氯浓度：500 mg/L  \n",
            "   - 需要配制总量：10 L  \n",
            "   - 原液：次氯酸钠溶液，有效氯浓度 6.0%（质量/体积百分比，即 6.0 g/100 mL 或 60 g/L）  \n",
            "   - 求：需要原液体积和纯化水体积  \n",
            "\n",
            "2. **关键公式提示**  \n",
            "   - 有效氯质量 = 目标浓度 × 总体积  \n",
            "   - 原液提供的有效氯质量 = 原液浓度 × 原液体积  \n",
            "   - 两者相等建立方程  \n",
            "\n",
            "3. **单位换算提示**  \n",
            "   - 6.0% = 60 g/L = 60000 mg/L  \n",
            "   - 500 mg/L × 10 L = 总有效氯质量（mg）  \n",
            "\n",
            "4. **体积关系**  \n",
            "   - 原液体积 + 纯化水体积 = 10 L（注意液体混合时体积可能非严格加和，但题目按理想情况计算）  \n",
            "\n",
            "你可以先算出所需原液体积，再得到水的体积。  \n",
            "试试看，算完再对照选项。\n",
            "\n"
          ]
        },
        {
          "output_type": "stream",
          "name": "stderr",
          "text": [
            "\r 16%|█▌        | 11/69 [02:18<13:17, 13.75s/it]"
          ]
        },
        {
          "output_type": "stream",
          "name": "stdout",
          "text": [
            "我们先按步骤计算：  \n",
            "\n",
            "1. 需要总有效氯质量  \n",
            "\\[\n",
            "500 \\, \\text{mg/L} \\times 10 \\, \\text{L} = 5000 \\, \\text{mg}\n",
            "\\]  \n",
            "\n",
            "2. 原液有效氯浓度  \n",
            "\\[\n",
            "6.0\\% = 60 \\, \\text{g/L} = 60000 \\, \\text{mg/L}\n",
            "\\]  \n",
            "\n",
            "3. 所需原液体积 \\( V \\)  \n",
            "\\[\n",
            "60000 \\, \\text{mg/L} \\times V = 5000 \\, \\text{mg}\n",
            "\\]  \n",
            "\\[\n",
            "V = \\frac{5000}{60000} \\, \\text{L} = 0.08333 \\, \\text{L} = 83.33 \\, \\text{mL}\n",
            "\\]  \n",
            "\n",
            "4. 纯化水体积  \n",
            "\\[\n",
            "10 \\, \\text{L} - 0.08333 \\, \\text{L} = 9.91667 \\, \\text{L} = 9916.67 \\, \\text{mL}\n",
            "\\]  \n",
            "\n",
            "与选项对照：83 mL 和 9917 mL → **A**  \n",
            "\n",
            "**答案：A**\n",
            "你是一位医学生，按照指定的题目类型回答医学问题，做大钱，请仔细阅读给定的题目提示，仅输出正确的答案选项。\n",
            "\n",
            "问题：21. 亚洲⼈易发⽣某种代谢酶基因突变，导致部分患者使⽤奥美拉唑时，其体内该药物的AUC明显增加，该代谢酶是（）。\n",
            "问题类型：最佳选择题\n",
            "选项：A:CYP2D6\n",
            "B:CYP3A4\n",
            "C:CYP2C19\n",
            "D:CYP2C9\n",
            "E:CYP1A2\n",
            "题目提示： **提示：**  \n",
            "- 奥美拉唑主要通过**某CYP酶**代谢，该酶的基因多态性在亚洲人群中较为常见。  \n",
            "- 该酶主要参与**质子泵抑制剂（如奥美拉唑）和氯吡格雷**等药物的代谢。  \n",
            "- 该酶的基因突变会导致**慢代谢表型**，使药物在体内暴露量（AUC）升高。  \n",
            "- 亚洲人群中该酶的慢代谢型发生率显著高于其他人群。  \n",
            "\n",
            "结合以上线索，思考各选项对应的代谢酶特征及其与奥美拉唑的关系。\n",
            "\n"
          ]
        },
        {
          "output_type": "stream",
          "name": "stderr",
          "text": [
            "\r 17%|█▋        | 12/69 [02:26<11:14, 11.84s/it]"
          ]
        },
        {
          "output_type": "stream",
          "name": "stdout",
          "text": [
            "C:CYP2C19\n",
            "你是一位医学生，按照指定的题目类型回答医学问题，做大钱，请仔细阅读给定的题目提示，仅输出正确的答案选项。\n",
            "\n",
            "问题：39. 可致超敏反应综合征（AHS），推荐⽤药前做HLA-B*5801基因筛查的抗痛风药物是（）。\n",
            "问题类型：最佳选择题\n",
            "选项：A:苯溴马隆\n",
            "B:别嘌醇\n",
            "C:秋⽔仙碱\n",
            "D:⾮布司他\n",
            "E:丙磺舒\n",
            "题目提示： 好的，同学。我们来看一下这道题。\n",
            "\n",
            "这里有几个关键概念可以帮你定位和回忆知识点：\n",
            "\n",
            "1.  **“超敏反应综合征（AHS）”**：这是一个由特定药物引起的、严重的、多系统受累的不良反应，需要重点掌握其与哪种药物强相关。\n",
            "2.  **“HLA-B*5801基因筛查”**：这是预防上述严重不良反应的关键措施。某些特定人群（如中国汉族、韩国、泰国人）携带这个基因型的比例较高，使用相关药物时风险显著增加。\n",
            "3.  **药物类别**：题目中的选项都是抗痛风药，你需要回忆哪一个是主要通过抑制尿酸“生成”来起作用的**黄嘌呤氧化酶抑制剂**，因为这类药物中的某个经典药物正是上述两个关键点的典型代表。\n",
            "\n",
            "结合这三点，你可以回顾一下各个药物的作用机制和典型不良反应，特别是其中与严重皮肤不良反应和遗传筛查相关的那一个。\n",
            "\n"
          ]
        },
        {
          "output_type": "stream",
          "name": "stderr",
          "text": [
            "\r 19%|█▉        | 13/69 [02:36<10:35, 11.35s/it]"
          ]
        },
        {
          "output_type": "stream",
          "name": "stdout",
          "text": [
            "B:别嘌醇\n",
            "你是一位医学生，按照指定的题目类型回答医学问题，做大钱，请仔细阅读给定的题目提示，仅输出正确的答案选项。\n",
            "\n",
            "问题：117. 药物代谢是机体对药物的处置过程，下列关于药物代谢的说法，正确的有（）。\n",
            "问题类型：多项选择题\n",
            "选项：A:⾮甾体抗炎药舒林酸结构中的甲基亚砜，经还原后的代谢物才具有活性\n",
            "B:抗抑郁药丙⽶嗪结构中的⼆甲胺⽚段，经N-脱甲基后的代谢物失去活性\n",
            "C:驱⾍药阿苯达唑结构中的丙硫醚，经S-氧化后的代谢物才具有活性\n",
            "D:抗癫痫药苯妥英钠结构中的⼀个芳环，发⽣氧化代谢后产⽣羟基化的代谢物仍具有活性\n",
            "E:解热镇痛药保泰松结构中的⼀个芳环，发⽣氧化代谢后产⽣羟基化的保泰松仍具有活性\n",
            "题目提示： 好的，同学。我们一起来梳理一下这道题涉及的关键概念。\n",
            "\n",
            "**核心概念提示：**\n",
            "\n",
            "1.  **“前药”概念：**\n",
            "    - 有些药物本身没有活性或活性很低，需要在体内经过代谢转化（如氧化、还原）后，生成的代谢物才具有药理活性。这种原形药物被称为“前药”。\n",
            "\n",
            "2.  **代谢活化与失活：**\n",
            "    - 药物代谢不一定都是解毒或失活的过程。代谢可能产生有活性的产物，也可能产生无活性的产物。\n",
            "    - 代谢后是否保持活性，取决于新结构是否仍能与作用靶点有效结合。\n",
            "\n",
            "3.  **特定官能团的代谢反应：**\n",
            "    - **含硫基团（如亚砜、硫醚）**：容易发生氧化或还原反应，这常常是代谢活化的关键步骤。\n",
            "    - **N-烷基（如二甲胺）**：容易发生脱烷基代谢，这个反应可能会显著改变药物的活性和毒性。\n",
            "    - **芳环**：容易发生羟基化反应。代谢后是否仍有活性，取决于羟基引入的位置以及对药物分子整体结构的影响，不能一概而论。有些代谢物活性保留，有些则减弱或消失。\n",
            "\n",
            "请你根据这些基本概念，再仔细审阅每个选项中的**药物结构变化**（是还原、氧化还是脱甲基？）以及其描述的**结果**（是“才具有活性”、“失去活性”还是“仍具有活性”？），结合“前药”和“代谢活化/失活”的原理进行分析。\n",
            "\n"
          ]
        },
        {
          "output_type": "stream",
          "name": "stderr",
          "text": [
            "\r 20%|██        | 14/69 [02:52<11:34, 12.63s/it]"
          ]
        },
        {
          "output_type": "stream",
          "name": "stdout",
          "text": [
            "A, C, D, E\n",
            "你是一位医学生，按照指定的题目类型回答医学问题，做大钱，请仔细阅读给定的题目提示，仅输出正确的答案选项。\n",
            "\n",
            "问题：29. 可待因是前药，需经肝药酶转化为吗啡⽽发挥镇痛作⽤，参与转化的肝药酶是（）。\n",
            "问题类型：最佳选择题\n",
            "选项：A:CYP1A2\n",
            "B:CYP3A4\n",
            "C:CYP2C9\n",
            "D:CYP2D6\n",
            "E:CYP2C19\n",
            "题目提示： 好的，我们来梳理一下相关的知识点概念提示：\n",
            "\n",
            "1.  **前药**：可待因本身镇痛作用很弱，需要在体内经过代谢转化，变成活性形式才能发挥主要作用。\n",
            "2.  **关键转化**：这个激活过程主要是通过肝脏中的细胞色素P450酶系（CYP450）完成的，其核心步骤是“O-去甲基化”，生成活性产物吗啡。\n",
            "3.  **酶的选择性**：在CYP450这个大家族中，不同的药物由其中特定的、占主导地位的亚型进行代谢。你需要回忆或推断出负责可待因“O-去甲基化”这一关键步骤的最主要的同工酶是哪一个。\n",
            "\n",
            "你可以根据这些概念，回顾一下各个CYP亚型所代谢的典型药物，从而找出正确选项。\n",
            "\n"
          ]
        },
        {
          "output_type": "stream",
          "name": "stderr",
          "text": [
            "\r 22%|██▏       | 15/69 [03:01<10:32, 11.72s/it]"
          ]
        },
        {
          "output_type": "stream",
          "name": "stdout",
          "text": [
            "D:CYP2D6\n",
            "你是一位医学生，按照指定的题目类型回答医学问题，做大钱，请仔细阅读给定的题目提示，仅输出正确的答案选项。\n",
            "\n",
            "问题：8. 异丙托溴铵制剂处⽅如下。处⽅中枸橼酸⽤作（）。 【处⽅】 异丙托溴铵0.374g，⽆⽔⼄醇150g； HFA-134a844.6g，枸橼酸0.04g； 蒸馏⽔5.0g。\n",
            "问题类型：最佳选择题\n",
            "选项：A:潜溶剂\n",
            "B:防腐剂\n",
            "C:助溶剂\n",
            "D:抛射剂\n",
            "E:pH调节剂\n",
            "题目提示： 我们先回顾几个关键概念：  \n",
            "\n",
            "1. **潜溶剂**——能与水形成混合溶剂，增加药物溶解度。  \n",
            "2. **防腐剂**——抑制微生物生长。  \n",
            "3. **助溶剂**——通过形成络合物等增加药物溶解度。  \n",
            "4. **抛射剂**——在气雾剂中提供喷射动力，如 HFA-134a。  \n",
            "5. **pH 调节剂**——调节制剂 pH 值，以保持药物稳定性或减少刺激性。  \n",
            "\n",
            "提示：  \n",
            "- 枸橼酸是弱酸，在制剂中常用来调节 pH。  \n",
            "- 此处用量很小（0.04g），不太可能作为主溶剂或助溶剂。  \n",
            "- 考虑异丙托溴铵的化学稳定性与 pH 的关系。\n",
            "\n"
          ]
        },
        {
          "output_type": "stream",
          "name": "stderr",
          "text": [
            "\r 23%|██▎       | 16/69 [03:10<09:36, 10.88s/it]"
          ]
        },
        {
          "output_type": "stream",
          "name": "stdout",
          "text": [
            "E:pH调节剂\n",
            "你是一位医学生，按照指定的题目类型回答医学问题，做大钱，请仔细阅读给定的题目提示，仅输出正确的答案选项。\n",
            "\n",
            "问题：34. ⾮索⾮那定为H 受体阻断药，适⽤于减轻季节性过性⿐炎和慢性特发性荨⿇疹引起的症状。下1列关于⾮索⾮那定结构和临床使⽤的说法错误的是（）。\n",
            "问题类型：最佳选择题\n",
            "选项：A:为特⾮那定的体内活性代谢产物\n",
            "B:具有较⼤的⼼脏毒副作⽤\n",
            "C:分⼦中含有⼀个羧基\n",
            "D:不易通过⾎-脑屏障，因⽽⼏乎⽆镇静作⽤\n",
            "E:⼜服后吸收迅速\n",
            "题目提示： 好的，同学。我们来梳理一下这道题涉及的关键概念，这有助于你判断哪个说法是错误的。\n",
            "\n",
            "**知识点提示：**\n",
            "\n",
            "1.  **关于前体药物与活性代谢物**：一些药物本身活性不强或无活性，在体内经代谢转化后生成具有药理活性的物质，后者被称为前体药物的“活性代谢产物”。\n",
            "2.  **关于心脏毒性（尖端扭转型室性心动过速）**：某些药物（主要是早期的一些抗组胺药）会阻断心脏的钾离子通道，导致心电图QT间期延长，从而增加发生严重心律失常的风险。这是一个需要重点关注的毒副作用。\n",
            "3.  **关于药物极性（羧基）与血脑屏障**：药物分子中引入羧基等极性基团，会增加其亲水性（水溶性）。血脑屏障会阻止大分子和极性高的药物进入中枢神经系统。因此，这类药物通常难以通过血脑屏障。\n",
            "4.  **关于镇静作用**：第一代抗组胺药容易进入中枢，产生嗜睡、镇静等副作用。不易通过血脑屏障的药物，则通常“无镇静或镇静作用轻微”。\n",
            "5.  **关于口服吸收**：药物化学结构会影响其吸收速度和程度。\n",
            "\n",
            "希望这些概念提示能帮助你进行推理。请结合这些知识点，逐一分析每个选项的描述是否与已知的药理学原理相符。\n",
            "\n"
          ]
        },
        {
          "output_type": "stream",
          "name": "stderr",
          "text": [
            "\r 25%|██▍       | 17/69 [03:24<10:11, 11.76s/it]"
          ]
        },
        {
          "output_type": "stream",
          "name": "stdout",
          "text": [
            "B:具有较⼤的⼼脏毒副作⽤\n",
            "你是一位医学生，按照指定的题目类型回答医学问题，做大钱，请仔细阅读给定的题目提示，仅输出正确的答案选项。\n",
            "\n",
            "问题：63. 表⽰药物在体内波动程度的参数是（）。\n",
            "问题类型：配伍选择题\n",
            "选项：A:Cmax\n",
            "B:DE\n",
            "C:MRT\n",
            "D:AUMC\n",
            "E:AUC\n",
            "题目提示： 好的，我们逐一分析每个选项所代表的概念，帮助你回忆它们与“体内波动程度”的关系。  \n",
            "\n",
            "- **A: Cmax** —— 与药物在体内的**最高浓度**相关，反映单次给药后的峰值水平。  \n",
            "- **B: DE** —— 可能指“生物利用度”或“剂量排泄”，与吸收总量或排泄量有关。  \n",
            "- **C: MRT** —— 表示药物在体内平均驻留时间，与滞留时长有关。  \n",
            "- **D: AUMC** —— 与平均驻留时间的计算相关，是药时曲线下面积矩。  \n",
            "- **E: AUC** —— 反映药物在体内的总暴露量，与吸收总量相关。  \n",
            "\n",
            "波动程度通常与**血药浓度的变化幅度**有关，可以从**峰浓度、谷浓度、平均浓度及变化情况**去考虑。\n",
            "\n"
          ]
        },
        {
          "output_type": "stream",
          "name": "stderr",
          "text": [
            "\r 26%|██▌       | 18/69 [03:34<09:31, 11.21s/it]"
          ]
        },
        {
          "output_type": "stream",
          "name": "stdout",
          "text": [
            "A\n",
            "你是一位医学生，按照指定的题目类型回答医学问题，做大钱，请仔细阅读给定的题目提示，仅输出正确的答案选项。\n",
            "\n",
            "问题：题干：头孢呋⾟钠是⼀种半合成⼴谱抗⽣素，在⽔溶液中易降解，化学结构式如下。其药动学特征可⽤⼀室模型描述，半衰期约为1.1h，给药24h内，90%以上药物以原形从尿中排出。对肝肾功能正常的患者，临床上治疗肺炎时，每⽇三次，每次静脉注射剂量为0.5g。\n",
            "104. 头孢呋⾟钠的结构属于（）。\n",
            "问题类型：综合分析选择题\n",
            "选项：A:⼤环内酯类\n",
            "B:四环素类\n",
            "C:氨基糖苷类\n",
            "D:喹诺酮类\n",
            "E:β-内酰胺类\n",
            "题目提示： 好的，我们来梳理一下关键概念提示：\n",
            "\n",
            "1.  题目中给出的药物是**头孢呋辛钠**。\n",
            "2.  请回忆“头孢”这个词根通常与哪一大类抗生素相关。\n",
            "3.  重点注意题目中给出的化学结构式（虽然这里看不到，但这是关键线索），核心特征是含有一个**四元的杂环结构**。\n",
            "4.  该类抗生素的作用机制通常与抑制细菌**细胞壁的合成**有关。\n",
            "\n",
            "结合以上几点，思考哪个选项描述的抗生素类别符合这些特征。\n",
            "\n"
          ]
        },
        {
          "output_type": "stream",
          "name": "stderr",
          "text": [
            "\r 28%|██▊       | 19/69 [03:41<08:21, 10.03s/it]"
          ]
        },
        {
          "output_type": "stream",
          "name": "stdout",
          "text": [
            "E:β-内酰胺类\n",
            "你是一位医学生，按照指定的题目类型回答医学问题，做大钱，请仔细阅读给定的题目提示，仅输出正确的答案选项。\n",
            "\n",
            "问题：题干：头孢呋⾟钠是⼀种半合成⼴谱抗⽣素，在⽔溶液中易降解，化学结构式如下。其药动学特征可⽤⼀室模型描述，半衰期约为1.1h，给药24h内，90%以上药物以原形从尿中排出。对肝肾功能正常的患者，临床上治疗肺炎时，每⽇三次，每次静脉注射剂量为0.5g。\n",
            "105. 某患者的表观分布容积为20L，每次静脉注射0.5g，则多次给药后的平均稳态⾎药浓度是（）。\n",
            "问题类型：综合分析选择题\n",
            "选项：A:75mg/L\n",
            "B:4.96mg/L\n",
            "C:3.13mg/L\n",
            "D:119mg/L\n",
            "E:2.5mg/L\n",
            "题目提示： 好的，我们先整理一下题目中的关键信息：  \n",
            "\n",
            "- **给药方案**：每日三次，每次 0.5 g（即 500 mg）静脉注射。  \n",
            "- **半衰期** \\( t_{1/2} = 1.1 \\, \\text{h} \\)  \n",
            "- **表观分布容积** \\( V_d = 20 \\, \\text{L} \\)  \n",
            "- 24 小时内 90% 以上原形从尿排出 → 提示药物主要经肾排泄，可用一室模型计算。  \n",
            "- 问的是 **多次给药后的平均稳态血药浓度** \\( C_{\\text{ss,avg}} \\)。  \n",
            "\n",
            "---\n",
            "\n",
            "**公式提示**：  \n",
            "对于一室模型静脉注射多次给药，平均稳态血药浓度公式为：  \n",
            "\n",
            "\\[\n",
            "C_{\\text{ss,avg}} = \\frac{F \\times D}{CL \\times \\tau}\n",
            "\\]\n",
            "其中 \\(F\\) 为生物利用度（静脉注射为 1），\\(D\\) 为每次剂量，\\(\\tau\\) 为给药间隔，\\(CL\\) 为清除率。  \n",
            "\n",
            "清除率 \\(CL\\) 与 \\(V_d\\) 和 \\(k\\) 的关系为：  \n",
            "\\[\n",
            "CL = k \\cdot V_d\n",
            "\\]\n",
            "消除速率常数 \\(k = \\frac{\\ln 2}{t_{1/2}}\\)。  \n",
            "\n",
            "---\n",
            "\n",
            "**请根据这些关系，结合题目给的 \\(\\tau\\) 与 \\(D\\)，先求出 \\(CL\\)，再代入 \\(C_{\\text{ss,avg}}\\) 公式计算。**\n",
            "\n"
          ]
        },
        {
          "output_type": "stream",
          "name": "stderr",
          "text": [
            "\r 29%|██▉       | 20/69 [04:06<11:54, 14.58s/it]"
          ]
        },
        {
          "output_type": "stream",
          "name": "stdout",
          "text": [
            "我们先按步骤计算。  \n",
            "\n",
            "**1. 已知数据**  \n",
            "- \\( D = 500 \\, \\text{mg} \\)  \n",
            "- \\( t_{1/2} = 1.1 \\, \\text{h} \\)  \n",
            "- \\( V_d = 20 \\, \\text{L} \\)  \n",
            "- \\( F = 1 \\)（静脉注射）  \n",
            "- 每日 3 次 → 给药间隔 \\( \\tau = 24 / 3 = 8 \\, \\text{h} \\)  \n",
            "\n",
            "**2. 计算 \\( k \\)**  \n",
            "\\[\n",
            "k = \\frac{\\ln 2}{t_{1/2}} = \\frac{0.693}{1.1} \\approx 0.63 \\, \\text{h}^{-1}\n",
            "\\]\n",
            "\n",
            "**3. 计算 \\( CL \\)**  \n",
            "\\[\n",
            "CL = k \\times V_d = 0.63 \\times 20 = 12.6 \\, \\text{L/h}\n",
            "\\]\n",
            "\n",
            "**4. 计算 \\( C_{ss,avg} \\)**  \n",
            "\\[\n",
            "C_{ss,avg} = \\frac{F \\times D}{CL \\times \\tau} \n",
            "= \\frac{1 \\times 500}{12.6 \\times 8} \n",
            "\\]\n",
            "\\[\n",
            "= \\frac{500}{100.8} \\approx 4.96 \\, \\text{mg/L}\n",
            "\\]\n",
            "\n",
            "**答案：B**\n",
            "你是一位医学生，按照指定的题目类型回答医学问题，做大钱，请仔细阅读给定的题目提示，仅输出正确的答案选项。\n",
            "\n",
            "问题：80. 常⽤磷脂作为载体材料的是（）。\n",
            "问题类型：配伍选择题\n",
            "选项：A:纳⽶粒\n",
            "B:微囊\n",
            "C:纳⽶乳\n",
            "D:微球\n",
            "E:脂质体\n",
            "题目提示： 好的，同学。我们来看一下这道题。\n",
            "\n",
            "这里的关键在于理解“磷脂”这种材料的特性以及各个选项所代表的剂型特点。\n",
            "\n",
            "**概念提示：**\n",
            "\n",
            "1.  **磷脂的性质**：它是一种两亲性分子，同时具有亲水部分和疏水部分。这种结构特性决定了它在水中可以自发地形成一种特定的、具有双分子层膜结构的载体。\n",
            "2.  **各选项的核心区别**：思考一下这几种剂型的经典或代表性构成材料。\n",
            "    *   纳米粒、微囊、微球通常使用高分子聚合物（如PLGA、明胶、壳聚糖等）作为骨架或囊壁材料。\n",
            "    *   纳米乳是一种液体制剂，由油相、水相、乳化剂和助乳化剂组成，结构是微小的液滴，不一定是磷脂双分子层。\n",
            "3.  **关键结构**：回忆一下，在药剂学中，哪一种新型药物载体的**标志性结构**就是由磷脂双分子层构成的闭合囊泡？\n",
            "\n",
            "希望这些提示能帮助你回忆起关键知识点。\n",
            "\n"
          ]
        },
        {
          "output_type": "stream",
          "name": "stderr",
          "text": [
            "\r 30%|███       | 21/69 [04:19<11:05, 13.86s/it]"
          ]
        },
        {
          "output_type": "stream",
          "name": "stdout",
          "text": [
            "E:脂质体\n",
            "你是一位医学生，按照指定的题目类型回答医学问题，做大钱，请仔细阅读给定的题目提示，仅输出正确的答案选项。\n",
            "\n",
            "问题：92. 抑制尿酸⽣成的抗痛风药物是（）。\n",
            "问题类型：配伍选择题\n",
            "选项：A:双氯芬酸\n",
            "B:秋⽔仙碱\n",
            "C:苯溴马隆\n",
            "D:双醋瑞因\n",
            "E:⾮布司他\n",
            "题目提示： 好的，我们来梳理一下这几个选项的关键作用机制：\n",
            "\n",
            "**核心概念提示：**\n",
            "\n",
            "*   **“抑制尿酸生成”**：这类药物的作用靶点在于体内尿酸的**生产过程**，通过抑制关键的酶来减少尿酸的产生。\n",
            "\n",
            "*   **选项机制辨析：**\n",
            "    *   **A 双氯芬酸**：属于非甾体抗炎药，主要作用是**抗炎、镇痛**，用于缓解痛风发作时的症状，不影响尿酸生成或排泄。\n",
            "    *   **B 秋水仙碱**：通过抑制白细胞活动来**抗炎**，主要用于痛风急性发作期的治疗和预防，不影响尿酸水平。\n",
            "    *   **C 苯溴马隆**：作用机制是**促进尿酸通过肾脏排泄**，属于促尿酸排泄药。\n",
            "    *   **D 双醋瑞因**：主要用于**骨关节炎**的治疗，通过抑制白介素-1来保护软骨，与尿酸代谢无关。\n",
            "    *   **E 非布司他**：是一种**黄嘌呤氧化酶抑制剂**。该酶是尿酸生成过程中的关键酶。\n",
            "\n",
            "请你根据“抑制尿酸生成”这一核心作用机制，结合以上提示，判断哪个选项符合条件。\n",
            "\n"
          ]
        },
        {
          "output_type": "stream",
          "name": "stderr",
          "text": [
            "\r 32%|███▏      | 22/69 [04:31<10:34, 13.51s/it]"
          ]
        },
        {
          "output_type": "stream",
          "name": "stdout",
          "text": [
            "E\n",
            "你是一位医学生，按照指定的题目类型回答医学问题，做大钱，请仔细阅读给定的题目提示，仅输出正确的答案选项。\n",
            "\n",
            "问题：64. 属于⾃由基清除剂，⽤于治疗缺⾎性脑⾎管病的药物是（）。\n",
            "问题类型：配伍选择题\n",
            "选项：A:尼莫地平\n",
            "B:吡拉西坦\n",
            "C:依达拉奉\n",
            "D:多奈哌齐\n",
            "E:尼麦⾓林\n",
            "题目提示： 好的，我们来看一下这道题的关键概念。\n",
            "\n",
            "**知识点提示：**\n",
            "\n",
            "1.  **核心机制**：题目问的是“自由基清除剂”。请回忆在缺血性脑血管病中，缺血再灌注损伤会产生大量有害的“自由基”，对脑细胞造成氧化损伤。因此，这个药物的核心药理作用必须是**清除或中和这些自由基**。\n",
            "\n",
            "2.  **治疗领域**：注意药物的适应症是“缺血性脑血管病”，这有助于你将它与治疗其他类型疾病（如阿尔茨海默病、出血性卒中）的药物区分开。\n",
            "\n",
            "3.  **药物分类与作用**：\n",
            "    *   思考哪些药物属于**神经保护剂**，其作用机制是否直接与抗氧化、清除自由基相关。\n",
            "    *   区分其他药物类型：有些是改善脑代谢的，有些是钙通道阻滞剂，有些是胆碱酯酶抑制剂。\n",
            "\n",
            "你可以根据这些概念，逐一分析每个选项药物的主要作用机制，看哪个最符合“自由基清除剂”的定义。\n",
            "\n"
          ]
        },
        {
          "output_type": "stream",
          "name": "stderr",
          "text": [
            "\r 33%|███▎      | 23/69 [04:42<09:43, 12.68s/it]"
          ]
        },
        {
          "output_type": "stream",
          "name": "stdout",
          "text": [
            "C:依达拉奉\n",
            "你是一位医学生，按照指定的题目类型回答医学问题，做大钱，请仔细阅读给定的题目提示，仅输出正确的答案选项。\n",
            "\n",
            "问题：1221248. 氧氟沙星左旋体的抗菌活性是右旋体的9.3倍，产⽣该现象的原因是（）。\n",
            "问题类型：配伍选择题\n",
            "选项：A:构象异构\n",
            "B:⼏何异构\n",
            "C:构型异构\n",
            "D:组成差异\n",
            "E:代谢差异\n",
            "题目提示： 好的，我们一步步来分析这个问题。  \n",
            "\n",
            "**1. 题干信息提取**  \n",
            "- 药物：氧氟沙星  \n",
            "- 左旋体 vs 右旋体 → 两者互为镜像关系（对映异构体）  \n",
            "- 抗菌活性差异很大（9.3倍）  \n",
            "\n",
            "**2. 选项概念提示**  \n",
            "\n",
            "- **A: 构象异构**  \n",
            "  构象异构指分子通过单键旋转产生的不同空间排列形式，通常不改变立体化学的绝对构型，且构象之间能量差小，常温下可互相转换。  \n",
            "\n",
            "- **B: 几何异构**  \n",
            "  几何异构常见于双键或环状结构导致的顺反异构（如 cis-/trans-），不是镜像关系。  \n",
            "\n",
            "- **C: 构型异构**  \n",
            "  构型异构包括对映异构（镜像异构）和非对映异构，需要断裂化学键才能互相转换。左旋体和右旋体属于构型异构中的对映异构。  \n",
            "\n",
            "- **D: 组成差异**  \n",
            "  组成差异指分子中原子的种类或数目不同，这里左旋体和右旋体化学组成完全相同。  \n",
            "\n",
            "- **E: 代谢差异**  \n",
            "  代谢差异是药动学或药效学结果，不是产生活性差异的结构化学原因。  \n",
            "\n",
            "**3. 关键点**  \n",
            "题目问“产生该现象的原因”是指化学结构上什么差异导致活性不同。  \n",
            "左旋体与右旋体结构差异的本质是 **空间三维排列不同**，这种不同属于“构型”层次，且是不可自由转换的立体化学差异。  \n",
            "\n",
            "---\n",
            "\n",
            "你可以根据这些概念提示，判断哪个选项描述的是左旋体与右旋体之间的本质结构差异类型。\n",
            "\n"
          ]
        },
        {
          "output_type": "stream",
          "name": "stderr",
          "text": [
            "\r 35%|███▍      | 24/69 [04:59<10:34, 14.10s/it]"
          ]
        },
        {
          "output_type": "stream",
          "name": "stdout",
          "text": [
            "C\n",
            "你是一位医学生，按照指定的题目类型回答医学问题，做大钱，请仔细阅读给定的题目提示，仅输出正确的答案选项。\n",
            "\n",
            "问题：30. 患者，⼥，58岁，⾼⾎压病史3年，服⽤氨氯地平控制⾎压。近1⽉来间断上腹痛，伴反酸，诊断为胃溃疡，Hp（＋），给予雷贝拉唑、克拉霉素、阿莫西林、枸橼酸铋钾进⾏Hp根除治疗。服药后患者⾃述⾆苔发⿊，⼜中有氨味，可能引起这种现象的药物是（）。\n",
            "问题类型：最佳选择题\n",
            "选项：A:雷贝拉唑\n",
            "B:克拉霉素\n",
            "C:枸橼酸铋钾\n",
            "D:阿莫西林\n",
            "E:氨氯地平\n",
            "题目提示： 我们来看一下题目中描述的症状：  \n",
            "- 舌苔发黑  \n",
            "- 口中有氨味  \n",
            "\n",
            "**知识点提示：**  \n",
            "\n",
            "1. 某些药物在服用后可与舌表面或口腔内的硫化物反应，产生黑色的硫化铋，导致舌苔变黑。  \n",
            "2. 口中有氨味可能与尿素分解为氨有关，需考虑药物在胃内或口腔中发生化学反应。  \n",
            "3. 在题目所列药物中，有一种金属盐类药物在胃酸及肠道细菌作用下可产生上述现象。  \n",
            "\n",
            "结合药物作用机制和不良反应特点，你可以从这方面去推断。\n",
            "\n"
          ]
        },
        {
          "output_type": "stream",
          "name": "stderr",
          "text": [
            "\r 36%|███▌      | 25/69 [05:07<08:57, 12.22s/it]"
          ]
        },
        {
          "output_type": "stream",
          "name": "stdout",
          "text": [
            "C:枸橼酸铋钾\n",
            "你是一位医学生，按照指定的题目类型回答医学问题，做大钱，请仔细阅读给定的题目提示，仅输出正确的答案选项。\n",
            "\n",
            "问题：32. 妊娠5个⽉后⽤药，可导致⽇后婴⼉⽛齿黄染、⽛釉质、发育不全的药物是（）。\n",
            "问题类型：最佳选择题\n",
            "选项：A:阿莫西林\n",
            "B:呋喃妥因\n",
            "C:甲硝唑\n",
            "D:四环素\n",
            "E:磺胺甲恶唑\n",
            "题目提示： 好的，我们来梳理一下这道题的关键知识点：\n",
            "\n",
            "1.  **关注药物类别**：题目中涉及的几个选项药物分属不同类别，其中一类抗生素以其对骨骼和牙齿发育的特殊影响而闻名。\n",
            "2.  **关键药理作用**：这种特殊的副作用与该药物能和某些金属离子（如钙离子）形成稳定复合物有关。\n",
            "3.  **作用部位与时机**：这种复合物会沉积在正在钙化的骨骼和牙齿中。妊娠5个月后，正是胎儿乳牙开始钙化的关键时期。\n",
            "4.  **典型临床表现**：这种沉积会导致牙齿着色（通常是黄-棕-灰色）和牙釉质发育不良。\n",
            "\n",
            "你可以根据这些提示，回顾一下各类抗生素的不良反应，特别是对儿童和孕期用药的禁忌，从而找出正确答案。\n",
            "\n"
          ]
        },
        {
          "output_type": "stream",
          "name": "stderr",
          "text": [
            "\r 38%|███▊      | 26/69 [05:17<08:10, 11.40s/it]"
          ]
        },
        {
          "output_type": "stream",
          "name": "stdout",
          "text": [
            "D:四环素\n",
            "你是一位医学生，按照指定的题目类型回答医学问题，做大钱，请仔细阅读给定的题目提示，仅输出正确的答案选项。\n",
            "\n",
            "问题：94. 既有黏痰溶解作⽤，还有解救对⼄酰氨基酚中毒作⽤的药物是（）。\n",
            "问题类型：配伍选择题\n",
            "选项：A:⼄酰半胱氨酸\n",
            "B:氯化铵\n",
            "C:氨溴索\n",
            "D:右美沙芬\n",
            "E:可待因\n",
            "题目提示： 好的，同学。我们一起来梳理一下这道题涉及的关键概念，帮助你进行判断。\n",
            "\n",
            "**关键知识点提示：**\n",
            "\n",
            "1.  **“黏痰溶解作用”**：这个作用指的是药物能通过化学方式**断裂痰液中的黏性成分（黏蛋白）的二硫键**，从而使浓稠的痰液变稀，易于咳出。你需要回忆哪一类祛痰药是通过这个机制起效的。\n",
            "\n",
            "2.  **“解救对乙酰氨基酚中毒”**：对乙酰氨基酚过量时，其毒性代谢产物会耗竭体内的**谷胱甘肽**，导致肝细胞损伤。因此，特效解毒剂的作用机制通常是**补充或作为谷胱甘肽的前体**，来中和这些毒性物质。\n",
            "\n",
            "3.  **选项药物核心特征回顾：**\n",
            "    *   **A. 乙酰半胱氨酸**：请重点回忆它的化学结构特点（是否含有巯基？）以及它在上述两个作用机制中分别扮演的角色。\n",
            "    *   **B. 氯化铵**：它的祛痰作用机制是通过刺激胃黏膜，反射性地增加呼吸道腺体分泌，使痰液变稀。这与“黏痰溶解”的化学机制不同。\n",
            "    *   **C. 氨溴索**：它是另一种常用祛痰药，是溴己新的代谢产物，主要促进呼吸道黏液分泌和纤毛运动。\n",
            "    *   **D. 右美沙芬** 与 **E. 可待因**：这两个药物都属于镇咳药，主要用于抑制咳嗽中枢，与祛痰和解毒无关。\n",
            "\n",
            "**思考路径：**\n",
            "请将“黏痰溶解”和“对乙酰氨基酚中毒解毒”这两个看似不相关的药理作用联系起来，找出能同时满足这两个条件的药物。\n",
            "\n",
            "希望这些提示能帮助你理清思路。\n",
            "\n"
          ]
        },
        {
          "output_type": "stream",
          "name": "stderr",
          "text": [
            "\r 39%|███▉      | 27/69 [05:34<09:09, 13.09s/it]"
          ]
        },
        {
          "output_type": "stream",
          "name": "stdout",
          "text": [
            "A\n",
            "你是一位医学生，按照指定的题目类型回答医学问题，做大钱，请仔细阅读给定的题目提示，仅输出正确的答案选项。\n",
            "\n",
            "问题：82. 属于时间依赖型抗菌药物，抗菌谱窄，仅对需氧⾰兰阴性菌有效的药物是（）。\n",
            "问题类型：配伍选择题\n",
            "选项：A:阿⽶卡星\n",
            "B:氨曲南\n",
            "C:氨苄西林\n",
            "D:头孢他啶\n",
            "E:头孢曲松\n",
            "题目提示： 好的，同学。我们一起来梳理一下这道题涉及的关键概念。\n",
            "\n",
            "**知识点提示：**\n",
            "\n",
            "1.  **时间依赖型抗菌药物**：这类药物的杀菌效果主要取决于**血药浓度维持在病原菌最低抑菌浓度（MIC）以上的时间**，而非峰浓度的高低。通常需要**日剂量分多次给药**以优化疗效。\n",
            "2.  **抗菌谱窄**：指药物的抗菌范围很**有限**，通常只针对某一大类或特定种类的细菌，对其它细菌无效。这与“广谱”抗菌药形成对比。\n",
            "3.  **仅对需氧革兰阴性菌有效**：这是对“抗菌谱窄”的进一步具体说明。该药物主要作用于**需氧的、革兰染色呈阴性的杆菌**，例如大肠埃希菌、克雷伯菌等。它对**革兰阳性菌**和**厌氧菌**通常无效。\n",
            "\n",
            "你可以根据这三个关键特征，逐一分析每个选项药物的特性，看哪一项能同时满足所有条件。\n",
            "\n"
          ]
        },
        {
          "output_type": "stream",
          "name": "stderr",
          "text": [
            "\r 41%|████      | 28/69 [05:45<08:36, 12.60s/it]"
          ]
        },
        {
          "output_type": "stream",
          "name": "stdout",
          "text": [
            "B\n",
            "你是一位医学生，按照指定的题目类型回答医学问题，做大钱，请仔细阅读给定的题目提示，仅输出正确的答案选项。\n",
            "\n",
            "问题：12. 患者，⼥，27岁，孕34周。诊断为轻度便秘，宜选⽤的药物是（）。\n",
            "问题类型：最佳选择题\n",
            "选项：A:蓖⿇油\n",
            "B:乳果糖\n",
            "C:硫酸镁\n",
            "D:普芦卡必利\n",
            "E:利那洛肽\n",
            "题目提示： 好的，作为提示，请思考以下几点：\n",
            "\n",
            "1.  **孕期用药的核心原则**：首要考虑的是药物对胎儿的安全性，即是否具有致畸性或其他不良影响。许多常规药物在孕期可能属于禁忌。\n",
            "2.  **便秘的阶梯治疗**：对于孕期轻度便秘，通常首选非药物干预（如调整饮食、增加水分和膳食纤维摄入、适当运动）。当需要药物时，会从安全性最高的类别开始选择。\n",
            "3.  **药物作用机制与安全性**：\n",
            "    *   考虑某些**刺激性泻药**对肠道的强烈作用可能引发子宫收缩。\n",
            "    *   关注某些**渗透性泻药**在体内的吸收和代谢情况，以及其可能对母体和胎儿电解质平衡造成的影响。\n",
            "    *   留意一些较新的**促动力药**和**鸟苷酸环化酶-C激动剂**，其在孕妇中使用的临床数据和安全性信息是否充分。\n",
            "\n",
            "请基于这些安全性考量，结合各选项药物的特性进行分析。\n",
            "\n"
          ]
        },
        {
          "output_type": "stream",
          "name": "stderr",
          "text": [
            "\r 42%|████▏     | 29/69 [05:57<08:12, 12.32s/it]"
          ]
        },
        {
          "output_type": "stream",
          "name": "stdout",
          "text": [
            "B:乳果糖\n",
            "你是一位医学生，按照指定的题目类型回答医学问题，做大钱，请仔细阅读给定的题目提示，仅输出正确的答案选项。\n",
            "\n",
            "问题：84. 中毒解救需灌肠时，宜选⽤的灌肠液是（）。\n",
            "问题类型：配伍选择题\n",
            "选项：A:硫酸镁溶液\n",
            "B:淀粉溶液\n",
            "C:植物油\n",
            "D:⾼锰酸钾溶液（1:5000～1:10000）\n",
            "E:1%肥皂⽔\n",
            "题目提示： 好的，我们一步步推理。  \n",
            "\n",
            "**1. 题目情境**  \n",
            "题干说的是“中毒解救需灌肠时”，灌肠在中毒解救中的目的通常是：  \n",
            "- 清除肠道内尚未吸收的毒物  \n",
            "- 避免使用可能促进毒物吸收或造成损伤的液体  \n",
            "\n",
            "**2. 各选项分析**  \n",
            "- **A 硫酸镁溶液**：有导泻作用，但某些中毒情况下（比如肾功能受损或镁离子可能加重中枢抑制）需慎用，不是通用的首选灌肠液。  \n",
            "- **B 淀粉溶液**：一般用于中和或保护黏膜，比如碘剂中毒时可用淀粉溶液洗胃或灌肠，形成复合物减少吸收。  \n",
            "- **C 植物油**：脂溶性毒物（如有机磷农药、磷化锌等）时，油剂可能增加毒物吸收，一般避免使用（除非特定情况如酚类中毒用植物油减少腐蚀）。  \n",
            "- **D 高锰酸钾溶液（1:5000～1:10000）**：有氧化作用，可用于某些口服中毒的洗胃（如阿片类、氰化物、巴比妥类），但灌肠时可能对肠黏膜有刺激或损伤，且浓度不当有危险，不是常规灌肠液。  \n",
            "- **E 1%肥皂水**：肥皂水是传统的清洁灌肠液，但中毒解救时，肥皂水可能对某些毒物有不良作用（比如促进吸收或化学反应），一般不作为中毒解救的标准推荐。  \n",
            "\n",
            "**3. 关键知识点**  \n",
            "- 中毒灌肠一般用**生理盐水或温清水**，但选项中未出现。  \n",
            "- 若考虑“解毒剂灌肠”，则要选能与毒物结合、减少吸收、或对特定毒物有中和作用的液体。  \n",
            "- 淀粉溶液用于**碘中毒**时灌肠，可使其变成无刺激性的碘淀粉，是特定解毒灌肠的一个例子。  \n",
            "\n",
            "**4. 推理方向**  \n",
            "本题很可能考的是**特定毒物灌肠的选用**，在没有指明具体毒物时，可能考的是常用且安全的灌肠液，但结合选项，高锰酸钾溶液多用于洗胃而非灌肠，肥皂水不用于中毒（可能刺激黏膜），植物油可能促进脂溶性毒物吸收，硫酸镁可能用于导泻但不是灌肠液首选。  \n",
            "淀粉溶液在解毒灌肠中有明确用途（碘中毒），且相对安全。\n",
            "\n"
          ]
        },
        {
          "output_type": "stream",
          "name": "stderr",
          "text": [
            "\r 43%|████▎     | 30/69 [06:20<10:05, 15.52s/it]"
          ]
        },
        {
          "output_type": "stream",
          "name": "stdout",
          "text": [
            "B:淀粉溶液\n",
            "你是一位医学生，按照指定的题目类型回答医学问题，做大钱，请仔细阅读给定的题目提示，仅输出正确的答案选项。\n",
            "\n",
            "问题：13. 两药同时使⽤时，⼀个药物可通过诱导体内⽣化反应⽽使另⼀个药物的药效降低。下列药物同时使⽤时，会发⽣这种相互作⽤的是（）。\n",
            "问题类型：最佳选择题\n",
            "选项：A:β受体阻断药阿替洛尔与利尿药氢氯噻嗪\n",
            "B:抗痛风药丙磺舒与青霉素\n",
            "C:解热镇痛药阿司匹林与对⼄酰氨基酚\n",
            "D:抗菌药磺胺甲与甲氧苄啶\n",
            "E:抗癫痫药苯巴⽐妥与避孕药\n",
            "题目提示： 好的，同学。我们来梳理一下题目中提到的关键概念，这能帮你做出判断。  \n",
            "\n",
            "**核心机制提示**  \n",
            "- 题目描述的是：一种药物通过 **“诱导体内生化反应”** 使另一种药物 **药效降低**。  \n",
            "- “诱导体内生化反应”在药理学中通常指 **酶诱导**（例如肝脏细胞色素P450酶系的诱导）。  \n",
            "- 酶诱导会导致其他药物代谢**加快**，血药浓度**下降**，从而**药效降低**。  \n",
            "\n",
            "**各选项涉及的相互作用类型提示**  \n",
            "- **A**：考虑两种药物合用的主要目的与作用机制，是否涉及代谢酶诱导？  \n",
            "- **B**：考虑丙磺舒对青霉素排泄的影响，是抑制转运蛋白还是诱导代谢？  \n",
            "- **C**：两种解热镇痛药合用，一般是作用相加，有无明显的酶诱导关系？  \n",
            "- **D**：磺胺甲噁唑与甲氧苄啶合用是经典的协同抗菌（双重阻断叶酸合成），是否属于一个药物诱导另一个代谢？  \n",
            "- **E**：苯巴比妥是强酶诱导剂，避孕药主要通过肝代谢，合用可能导致避孕失败。  \n",
            "\n",
            "你可以根据“酶诱导导致药物代谢加快、药效下降”这一线索，判断哪个选项符合。\n",
            "\n"
          ]
        },
        {
          "output_type": "stream",
          "name": "stderr",
          "text": [
            "\r 45%|████▍     | 31/69 [06:34<09:29, 15.00s/it]"
          ]
        },
        {
          "output_type": "stream",
          "name": "stdout",
          "text": [
            "E\n",
            "你是一位医学生，按照指定的题目类型回答医学问题，做大钱，请仔细阅读给定的题目提示，仅输出正确的答案选项。\n",
            "\n",
            "问题：45. 因肾上腺⽪质激素的分泌具有晨⾼昼低的特点，故使⽤维持剂量的肾上腺⽪质激素类药物时，推荐的服药时间是（）。\n",
            "问题类型：配伍选择题\n",
            "选项：A:中午\n",
            "B:清晨\n",
            "C:上午\n",
            "D:下午\n",
            "E:临睡前\n",
            "题目提示： 肾上腺皮质激素的分泌具有昼夜节律，清晨达到峰值，随后逐渐下降。  \n",
            "使用维持剂量时，为了模拟生理分泌规律并减少对自身激素分泌的抑制，建议选择与生理高峰接近的时间服药。\n",
            "\n"
          ]
        },
        {
          "output_type": "stream",
          "name": "stderr",
          "text": [
            "\r 46%|████▋     | 32/69 [06:38<07:13, 11.71s/it]"
          ]
        },
        {
          "output_type": "stream",
          "name": "stdout",
          "text": [
            "B\n",
            "你是一位医学生，按照指定的题目类型回答医学问题，做大钱，请仔细阅读给定的题目提示，仅输出正确的答案选项。\n",
            "\n",
            "问题：120. 审⽅时要关注中西药联⽤的情况，下列药品中含有西药成分的有（）。\n",
            "问题类型：多项选择题\n",
            "选项：A:⿐炎康⽚\n",
            "B:珍菊降压⽚\n",
            "C:防风通圣丸\n",
            "D:蛇胆川贝液\n",
            "E:消渴丸\n",
            "题目提示： 好的，我们来梳理一下这道题的关键知识点。\n",
            "\n",
            "**核心概念提示：**\n",
            "\n",
            "1.  本题考察的是“**中西药复方制剂**”的概念。这类药品虽然常被归类为中成药，但其配方中明确添加了**化学药（西药）成分**。\n",
            "\n",
            "2.  审方时识别这类药品至关重要，主要是为了避免**重复用药**和防止**药物过量**。例如，如果患者已经在服用某种西药，再联用含有相同成分的中西药复方制剂，就可能导致该成分超量，增加不良反应的风险。\n",
            "\n",
            "3.  你需要回忆或了解一些临床上**经典且常见**的中西药复方制剂。这些药品通常用于治疗一些需要快速起效的疾病，如**高血压、糖尿病、感冒**等，通过加入西药成分来增强疗效。\n",
            "\n",
            "**思考方向：**\n",
            "\n",
            "你可以从以下几个角度来分析和回忆每个选项：\n",
            "*   **治疗领域**：该药主要用于治疗什么疾病？（例如：降压、降糖、抗感冒等）\n",
            "*   **常见添加成分**：在这些治疗领域中，常被加入的经典西药成分有哪些？（例如：降压药、降糖药、抗过敏药、镇痛解热药等）\n",
            "*   **具体品种**：有哪些是教科书或药学指南中明确指出的、著名的含有西药成分的中成药？\n",
            "\n",
            "请根据这些概念提示，回顾你所学的知识，对每个选项进行判断。\n",
            "\n"
          ]
        },
        {
          "output_type": "stream",
          "name": "stderr",
          "text": [
            "\r 48%|████▊     | 33/69 [07:00<08:52, 14.78s/it]"
          ]
        },
        {
          "output_type": "stream",
          "name": "stdout",
          "text": [
            "正确答案是：**A, B, C, E**\n",
            "\n",
            "**解析：**\n",
            "本题考察的是对“中西药复方制剂”的识别。这类中成药中明确添加了化学药（西药）成分，审方时需特别关注，以防重复用药导致不良反应。\n",
            "\n",
            "- **A: 鼻炎康片**：含有**马来酸氯苯那敏**（扑尔敏），是一种抗过敏成分。\n",
            "- **B: 珍菊降压片**：含有**盐酸可乐定**（降压药）和**氢氯噻嗪**（利尿剂）。\n",
            "- **C: 防风通圣丸**：部分厂家生产的品种含有**对乙酰氨基酚**等解热镇痛成分，属于常见的中西药复方感冒药。\n",
            "- **E: 消渴丸**：含有**格列本脲**，是一种降糖作用较强的磺酰脲类西药。\n",
            "\n",
            "- **D: 蛇胆川贝液**：其标准配方为蛇胆汁、平贝母、杏仁水等中药，**不含西药成分**。\n",
            "你是一位医学生，按照指定的题目类型回答医学问题，做大钱，请仔细阅读给定的题目提示，仅输出正确的答案选项。\n",
            "\n",
            "问题：66. 使⾎药浓度-时间曲线上出现双峰现象的原因通常是（）。\n",
            "问题类型：配伍选择题\n",
            "选项：A:酶诱导作⽤\n",
            "B:肾⼩球滤过\n",
            "C:酶抑制作⽤\n",
            "D:⾸关效应\n",
            "E:肠-肝循环\n",
            "题目提示： 好的，我们来梳理一下这几个关键概念，它们与药物在体内的过程有关：\n",
            "\n",
            "*   **酶诱导作用**：指某些物质（如药物）增强肝脏代谢酶的活性，从而**加速**其他药物或自身的代谢。\n",
            "*   **肾小球滤过**：这是肾脏排泄药物的一种主要方式，属于药物**清除**的环节。\n",
            "*   **酶抑制作用**：与酶诱导相反，指某些物质减弱代谢酶的活性，从而**减慢**药物代谢，可能导致药物蓄积。\n",
            "*   **首关效应**：指口服药物经胃肠道吸收后，首先经过**门静脉到达肝脏**，部分药物在肝脏被代谢，导致进入体循环的实际药量减少。\n",
            "*   **肠-肝循环**：指药物经胆汁排泄到肠道后，又被重新吸收回肝脏，形成一个循环。这会**延长**药物在体内的作用时间。\n",
            "\n",
            "现在，请思考：哪个过程会导致药物被吸收进入血液循环后，有一部分又被“回收”并再次释放入血，从而可能在血药浓度曲线上产生**第二个峰值**？\n",
            "\n"
          ]
        },
        {
          "output_type": "stream",
          "name": "stderr",
          "text": [
            "\r 49%|████▉     | 34/69 [07:12<08:06, 13.91s/it]"
          ]
        },
        {
          "output_type": "stream",
          "name": "stdout",
          "text": [
            "E:肠-肝循环\n",
            "你是一位医学生，按照指定的题目类型回答医学问题，做大钱，请仔细阅读给定的题目提示，仅输出正确的答案选项。\n",
            "\n",
            "问题：95. 在药品处⽅中，常作为⽔不溶性包⾐材料的是（）。\n",
            "问题类型：配伍选择题\n",
            "选项：A:羧甲基纤维素钠（CMC-Na）\n",
            "B:羟丙基甲基纤维素（HPMC）\n",
            "C:⼄基纤维素（EC）\n",
            "D:甲基纤维素（MC）\n",
            "E:羟丙基纤维素（HPC）\n",
            "题目提示： 好的，我们可以从以下几个关键概念来思考这个问题：\n",
            "\n",
            "1.  **“水不溶性”的定义**：核心是理解这个材料在水中是否溶解。这直接关系到它在包衣中能否形成一层稳定的、不溶于水的薄膜。\n",
            "\n",
            "2.  **包衣材料的功能分类**：包衣材料通常根据其溶解特性分为：\n",
            "    *   胃溶型（在胃酸中溶解）\n",
            "    *   肠溶型（在肠道碱性环境中溶解）\n",
            "    *   缓控释型（不溶解，但允许药物缓慢扩散）\n",
            "\n",
            "3.  **纤维素衍生物的化学修饰与溶解性**：纤维素本身不溶于水。其溶解性取决于引入的化学基团。\n",
            "    *   引入亲水基团（如羧甲基、羟丙基、甲基）通常会**增加**水溶性。\n",
            "    *   有一种特定的修饰，会使其在水中**不溶**，但可溶于有机溶剂。\n",
            "\n",
            "4.  **各选项材料的常见用途**：可以回想一下，这些材料中哪一个通常被用作**薄膜包衣、粘合剂**（这通常需要水溶性），哪一个被专门用作**不溶性包衣或缓释骨架**。\n",
            "\n",
            "**思考路径**：先找出选项中哪个材料因其特殊的化学结构而具有“水不溶性”这一根本特性，再确认它是否常用于包衣工艺。\n",
            "\n"
          ]
        },
        {
          "output_type": "stream",
          "name": "stderr",
          "text": [
            "\r 51%|█████     | 35/69 [07:27<08:13, 14.52s/it]"
          ]
        },
        {
          "output_type": "stream",
          "name": "stdout",
          "text": [
            "C:⼄基纤维素（EC）\n",
            "你是一位医学生，按照指定的题目类型回答医学问题，做大钱，请仔细阅读给定的题目提示，仅输出正确的答案选项。\n",
            "\n",
            "问题：7. 关于环磷酰胺（化学结构如下）结构特点和应⽤的说法，错误的是（）。\n",
            "问题类型：最佳选择题\n",
            "选项：A:环磷酰胺属于前药\n",
            "B:磷酰基的引⼊使毒性升⾼\n",
            "C:正常细胞内可转化为⽆毒代谢产物\n",
            "D:属于氮芥类药物\n",
            "E:临床⽤于抗肿瘤\n",
            "题目提示： 好的，同学。我们一起来梳理一下这道题涉及的关键概念，希望能帮助你判断哪个说法是错误的。\n",
            "\n",
            "**知识点提示：**\n",
            "\n",
            "1.  **前药概念**：回顾一下“前药”的定义。它指的是药物本身没有活性或活性较低，需要在体内经过代谢转化后才能发挥药理作用的化合物。思考环磷酰胺的结构和它在体内的活化过程是否符合这个定义。\n",
            "\n",
            "2.  **环磷酰胺的设计原理与毒性**：环磷酰胺的经典之处在于其结构设计。重点理解在氮芥（一种强烷化剂）上引入“磷酰胺基”的目的。这个结构改造是为了利用什么组织或细胞中特有的酶（如正常组织含量低，肿瘤组织含量高）来实现选择性？这种选择性设计的初衷是希望药物对哪类细胞的毒性降低？\n",
            "\n",
            "3.  **代谢差异与选择性**：基于上一点，比较一下药物在“正常细胞”和“肿瘤细胞”内的代谢途径和产物有何不同。哪个代谢途径被认为是产生抗癌活性的（毒性产物）？哪个途径被认为是解毒过程（无毒产物）？\n",
            "\n",
            "4.  **药物分类**：确认环磷酰胺的核心化学结构母核。它是否属于经典的烷化剂类型——氮芥类？\n",
            "\n",
            "5.  **临床应用**：环磷酰胺是临床上非常常用的药物，确认其主要治疗领域是否为抗肿瘤。\n",
            "\n",
            "请你结合这些概念，特别是关于药物结构改造的目的（是增毒还是解毒）以及在不同细胞内的代谢差异，来审视每个选项的表述是否准确。\n",
            "\n"
          ]
        },
        {
          "output_type": "stream",
          "name": "stderr",
          "text": [
            "\r 52%|█████▏    | 36/69 [07:43<08:12, 14.94s/it]"
          ]
        },
        {
          "output_type": "stream",
          "name": "stdout",
          "text": [
            "B:磷酰基的引⼊使毒性升⾼\n",
            "你是一位医学生，按照指定的题目类型回答医学问题，做大钱，请仔细阅读给定的题目提示，仅输出正确的答案选项。\n",
            "\n",
            "问题：4. 抗哮喘药沙丁胺醇的化学结构式如下，其化学⾻架属于（）。\n",
            "问题类型：最佳选择题\n",
            "选项：A:芳基丙酸类\n",
            "B:芳氧丙醇胺类\n",
            "C:⼆氢吡啶类\n",
            "D:苯⼆氮卓类\n",
            "E:苯⼄醇胺类\n",
            "题目提示： 好的，我们来看一下这道题。\n",
            "\n",
            "**关键概念提示：**\n",
            "\n",
            "1.  请仔细观察题目中沙丁胺醇化学结构式的核心骨架。\n",
            "2.  注意其结构中的一个关键特征：**氮原子（N）直接连接在一个苯环和一個乙醇胺片段上**。这个“苯基-乙氨基-醇”的结构是解题的核心。\n",
            "3.  回忆一下“苯乙醇胺”这一化学结构类别的定义，并与你观察到的核心骨架进行比对。\n",
            "4.  同时，可以回顾“芳氧丙醇胺”类药物的典型结构，注意其氮原子是通过一个**氧原子（O）** 与芳香环相连的，这与题目中的结构有明显区别。\n",
            "\n",
            "希望这些提示能帮助你定位到正确的化学结构类别。\n",
            "\n"
          ]
        },
        {
          "output_type": "stream",
          "name": "stderr",
          "text": [
            "\r 54%|█████▎    | 37/69 [07:52<06:59, 13.10s/it]"
          ]
        },
        {
          "output_type": "stream",
          "name": "stdout",
          "text": [
            "E:苯⼄醇胺类\n",
            "你是一位医学生，按照指定的题目类型回答医学问题，做大钱，请仔细阅读给定的题目提示，仅输出正确的答案选项。\n",
            "\n",
            "问题：58. 头孢曲松钠与乳酸钠林格注射液直接混合，可导致（）。\n",
            "问题类型：配伍选择题\n",
            "选项：A:产⽣⽓体\n",
            "B:溶液变⾊\n",
            "C:微浑浊或沉淀\n",
            "D:产⽣胶状不溶物\n",
            "E:药物分解、降解速度加快\n",
            "题目提示： 好的，同学。我们来梳理一下这道题涉及的关键概念。\n",
            "\n",
            "**核心知识点提示：**\n",
            "\n",
            "1.  **关注“理化配伍禁忌”**：这道题考察的是两种药物在体外混合时，由于物理或化学性质不相容而产生肉眼可见的变化。\n",
            "2.  **关键成分分析**：\n",
            "    *   想一想**头孢曲松钠**这个药物分子在水溶液中的存在形式（特别是其电荷性质）。\n",
            "    *   查一下**乳酸钠林格注射液**中除了主要的电解质（钠、钾、钙、氯、乳酸根）外，还含有哪种关键的**二价阳离子**。\n",
            "3.  **反应类型**：当上述两种关键成分在溶液中直接相遇时，会发生一种特定的化学反应，生成一种**溶解度极低**的新物质。\n",
            "4.  **宏观现象**：这种溶解度极低的新物质在液体中会呈现出什么样的状态？\n",
            "\n",
            "希望这些提示能帮助你回忆起相关的知识点。\n",
            "\n"
          ]
        },
        {
          "output_type": "stream",
          "name": "stderr",
          "text": [
            "\r 55%|█████▌    | 38/69 [08:02<06:14, 12.07s/it]"
          ]
        },
        {
          "output_type": "stream",
          "name": "stdout",
          "text": [
            "C:微浑浊或沉淀\n",
            "你是一位医学生，按照指定的题目类型回答医学问题，做大钱，请仔细阅读给定的题目提示，仅输出正确的答案选项。\n",
            "\n",
            "问题：65. 属于⼄酰胆碱酯酶抑制剂，⽤于改善脑功能及抗记忆障碍的药物是（）。\n",
            "问题类型：配伍选择题\n",
            "选项：A:尼莫地平\n",
            "B:吡拉西坦\n",
            "C:依达拉奉\n",
            "D:多奈哌齐\n",
            "E:尼麦⾓林\n",
            "题目提示： 好的，我们来梳理一下这道题的关键概念。\n",
            "\n",
            "**核心知识点提示：**\n",
            "\n",
            "1.  **药物分类与作用靶点：** 题目明确指出需要的是“**乙酰胆碱酯酶抑制剂**”。这类药物的核心作用是抑制分解乙酰胆碱的酶，从而提高大脑内乙酰胆碱的水平。\n",
            "\n",
            "2.  **治疗用途：** 题目限定了该药的用途是“**改善脑功能及抗记忆障碍**”。这与阿尔茨海默病等痴呆症的核心病理（胆碱能神经功能缺陷）和治疗策略高度相关。\n",
            "\n",
            "3.  **选项药物归类思考：**\n",
            "    *   思考哪些药物是已知的、经典的**胆碱酯酶抑制剂**。\n",
            "    *   思考其他选项药物的主要作用机制是否与此不同，例如它们可能是脑血管扩张剂、脑代谢改善剂或自由基清除剂等。\n",
            "\n",
            "你可以根据这些关键概念，对照选项，找出作用机制与题目描述完全匹配的那个药物。\n",
            "\n"
          ]
        },
        {
          "output_type": "stream",
          "name": "stderr",
          "text": [
            "\r 57%|█████▋    | 39/69 [08:12<05:41, 11.39s/it]"
          ]
        },
        {
          "output_type": "stream",
          "name": "stdout",
          "text": [
            "D\n",
            "你是一位医学生，按照指定的题目类型回答医学问题，做大钱，请仔细阅读给定的题目提示，仅输出正确的答案选项。\n",
            "\n",
            "问题：18. 某患者上呼吸道感染，⽤氨苄西林治疗⼀周，未见明显好转，后改⽤舒他西林，症状得到改善。关于舒他西林结构和临床使⽤的说法，错误的是（）。\n",
            "问题类型：最佳选择题\n",
            "选项：A:为⼀种前体药物\n",
            "B:给药后，在体内⾮特定酯酶的作⽤下⽔解成氨苄西林和舒巴坦\n",
            "C:对β-内酰胺醇的稳定性强于氨苄西林\n",
            "D:抗菌效果优于氨苄西林，原因是它在体内⽣成的两种药物都有较强的抗菌活性\n",
            "E:可以⼜服，且⼜服后吸收迅速\n",
            "题目提示： 好的，同学。我们一起来梳理一下这道题的关键概念，这能帮助你判断哪个说法是错误的。\n",
            "\n",
            "**关键知识点提示：**\n",
            "\n",
            "1.  **舒他西林的本质**：它是一种由两种成分通过特定化学键连接而成的药物。思考一下“前体药物”的定义以及这种结构在体内的变化过程。\n",
            "2.  **两种成分的作用**：舒他西林在体内会分解为两种药物：氨苄西林和舒巴坦。你需要明确这两种成分各自的角色是什么。一个是抗生素，另一个的主要作用是什么？\n",
            "3.  **抗菌活性的来源**：评估抗菌效果时，要区分“直接杀菌作用”和“辅助增强作用”。两种成分是否都具备同等的、直接的“抗菌活性”？\n",
            "4.  **稳定性与给药方式**：考虑将两种药物合成为一个分子的设计，对药物稳定性和口服吸收可能带来什么好处。\n",
            "\n",
            "请基于这些概念，逐一分析每个选项的逻辑是否正确。\n",
            "\n"
          ]
        },
        {
          "output_type": "stream",
          "name": "stderr",
          "text": [
            "\r 58%|█████▊    | 40/69 [08:31<06:36, 13.68s/it]"
          ]
        },
        {
          "output_type": "stream",
          "name": "stdout",
          "text": [
            "D:抗菌效果优于氨苄西林，原因是它在体内⽣成的两种药物都有较强的抗菌活性\n",
            "\n",
            "**解析：**  \n",
            "舒他西林是由氨苄西林与舒巴坦通过酯键结合的前体药物，口服后在体内水解为氨苄西林和舒巴坦。  \n",
            "- **A正确**：舒他西林本身无抗菌活性，需在体内水解为活性成分，属于前体药物。  \n",
            "- **B正确**：体内酯酶水解生成氨苄西林（β-内酰胺类抗生素）和舒巴坦（β-内酰胺酶抑制剂）。  \n",
            "- **C正确**：舒巴坦可抑制β-内酰胺酶，增强氨苄西林对产酶菌的稳定性。  \n",
            "- **D错误**：舒巴坦本身抗菌活性弱，其主要作用是抑制β-内酰胺酶，保护氨苄西林不被水解，而非两者均有强抗菌活性。  \n",
            "- **E正确**：酯化结构改善口服吸收，口服后迅速水解生效。  \n",
            "\n",
            "**错误选项为D**。\n",
            "你是一位医学生，按照指定的题目类型回答医学问题，做大钱，请仔细阅读给定的题目提示，仅输出正确的答案选项。\n",
            "\n",
            "问题：14. 属于长效β 肾上腺素受体激动剂，可⽤于哮喘长期维持治疗的药物是（）。2\n",
            "问题类型：最佳选择题\n",
            "选项：A:噻托溴铵\n",
            "B:特布他林\n",
            "C:布地奈德\n",
            "D:孟鲁司特\n",
            "E:福莫特罗\n",
            "题目提示： 好的，我们来梳理一下这道题涉及的关键概念。\n",
            "\n",
            "**知识点提示：**\n",
            "\n",
            "1.  **药物分类：**\n",
            "    *   **β₂肾上腺素受体激动剂**：通过激动气道中的β₂受体，松弛支气管平滑肌，缓解喘息。\n",
            "    *   根据作用维持时间，可分为**短效**（SABA，维持4-6小时）和**长效**（LABA，维持12小时以上）。\n",
            "\n",
            "2.  **核心特征：**\n",
            "    *   题目要求是“**长效**”β受体激动剂，并用于“**长期维持治疗**”。\n",
            "    *   注意区分“**缓解症状**”（常用短效）和“**长期控制/维持**”（常用长效）。\n",
            "\n",
            "3.  **选项药物类别辨析：**\n",
            "    *   **A**：属于抗胆碱药，并非β受体激动剂。\n",
            "    *   **B**：属于**短效**β₂受体激动剂。\n",
            "    *   **C**：属于吸入性糖皮质激素，并非β受体激动剂。\n",
            "    *   **D**：属于白三烯受体拮抗剂，并非β受体激动剂。\n",
            "    *   **E**：属于**长效**β₂受体激动剂。\n",
            "\n",
            "请根据这些关键概念，结合你对药物分类和作用特点的理解，做出选择。\n",
            "\n"
          ]
        },
        {
          "output_type": "stream",
          "name": "stderr",
          "text": [
            "\r 59%|█████▉    | 41/69 [08:44<06:17, 13.47s/it]"
          ]
        },
        {
          "output_type": "stream",
          "name": "stdout",
          "text": [
            "E:福莫特罗\n",
            "你是一位医学生，按照指定的题目类型回答医学问题，做大钱，请仔细阅读给定的题目提示，仅输出正确的答案选项。\n",
            "\n",
            "问题：48. ⽤于治疗⼲眼症的药物是（）。\n",
            "问题类型：配伍选择题\n",
            "选项：A:聚⼄⼆醇滴眼液\n",
            "B:硫酸阿托品眼⽤凝胶\n",
            "C:雷珠单抗注射液\n",
            "D:⽑果芸⾹碱滴眼液\n",
            "E:丙美卡因滴眼液\n",
            "题目提示： 很好，这是一个关于药物适应症的典型问题。要解答它，关键在于理解每种药物的核心作用机制和主要临床应用。\n",
            "\n",
            "我可以给你一些概念提示，帮助你回忆和推理：\n",
            "\n",
            "1.  **从题干关键词入手**：核心问题是治疗“干眼症”。请思考干眼症的主要病理生理是什么？治疗的主要目标是什么？（例如：补充泪液、润滑眼表、减少泪液蒸发、抗炎等）\n",
            "\n",
            "2.  **分析选项的作用机制**：\n",
            "    *   **选项A**：思考“聚乙二醇”这类高分子聚合物在眼表的主要作用是什么？它通常被归为哪一类眼药水？\n",
            "    *   **选项B**：回忆“阿托品”作为一种经典药物，它的药理作用是“激动”还是“阻断”什么受体？这会导致瞳孔和睫状肌发生什么变化？它通常用于处理哪些眼部情况？（提示：通常与干眼症的治疗方向相反）\n",
            "    *   **选项C**：注意“单抗”字样，这提示它属于哪一类生物制剂？它的作用是抑制什么？通常用于治疗哪种与血管生长相关的眼底疾病？\n",
            "    *   **选项D**：回忆“毛果芸香碱”是一种经典的什么受体激动剂？它会引起瞳孔怎样变化？它曾是治疗哪种眼内压升高疾病的一线药物？\n",
            "    *   **选项E**：注意“卡因”这个后缀，这通常代表哪一类药物？它的作用是暂时性的什么？它是在进行眼部检查或操作前使用的，还是用于长期治疗疾病的？\n",
            "\n",
            "3.  **进行匹配**：将上述各药物的主要作用机制与干眼症的治疗目标进行匹配，排除那些作用机制与干眼症治疗无关甚至相反的药物。\n",
            "\n",
            "希望这些提示能帮助你系统地分析每个选项。\n",
            "\n"
          ]
        },
        {
          "output_type": "stream",
          "name": "stderr",
          "text": [
            "\r 61%|██████    | 42/69 [09:01<06:31, 14.51s/it]"
          ]
        },
        {
          "output_type": "stream",
          "name": "stdout",
          "text": [
            "A\n",
            "你是一位医学生，按照指定的题目类型回答医学问题，做大钱，请仔细阅读给定的题目提示，仅输出正确的答案选项。\n",
            "\n",
            "问题：33. 患者，⼥，28岁，因痤疮就诊，给予异维A酸胶囊。关于该患者⽤药教育的说法，错误的是（）。\n",
            "问题类型：最佳选择题\n",
            "选项：A:治疗期间及停药后3个⽉内应做好避孕措施\n",
            "B:治疗期间若发⽣⽪肤黏膜⼲燥，应减量或停药\n",
            "C:不良反应常见，但停药后绝⼤多数可恢复\n",
            "D:治疗最初2个⽉可能导致肝酶异常，必要时检查肝功能\n",
            "E:部分患者⽤药2～4周时出现⼀过性⽪疹加重现象\n",
            "题目提示： 我们先回顾异维A酸的关键药理与用药监护要点：  \n",
            "\n",
            "- **致畸性**极强，停药后仍有一段体内清除期，需严格避孕。  \n",
            "- **皮肤黏膜干燥**是常见不良反应，通常可通过润肤等对症处理，不一定必须减量或停药。  \n",
            "- 多数不良反应在停药后可逆。  \n",
            "- 可能引起肝酶升高，需定期监测肝功能。  \n",
            "- 部分患者初期可能出现痤疮暂时加重，属“一过性”现象。  \n",
            "\n",
            "请你根据这些概念，判断哪个选项的说法与正确用药原则不符。\n",
            "\n"
          ]
        },
        {
          "output_type": "stream",
          "name": "stderr",
          "text": [
            "\r 62%|██████▏   | 43/69 [09:09<05:31, 12.73s/it]"
          ]
        },
        {
          "output_type": "stream",
          "name": "stdout",
          "text": [
            "B:治疗期间若发⽣⽪肤黏膜⼲燥，应减量或停药\n",
            "你是一位医学生，按照指定的题目类型回答医学问题，做大钱，请仔细阅读给定的题目提示，仅输出正确的答案选项。\n",
            "\n",
            "问题：61. 属于维⽣素K拮抗剂的抗凝⾎药物是（）。\n",
            "问题类型：配伍选择题\n",
            "选项：A:依诺肝素\n",
            "B:氯吡格雷\n",
            "C:华法林\n",
            "D:利伐沙班\n",
            "E:达⽐加群酯\n",
            "题目提示： 好的，我们来梳理一下相关的知识点概念：\n",
            "\n",
            "*   **核心概念：维生素K拮抗剂**\n",
            "    *   想一想**维生素K**在人体凝血系统中扮演什么角色？它对于合成哪几种重要的凝血因子是必需的？\n",
            "    *   “拮抗剂”的意思是“对抗者”。那么，“维生素K拮抗剂”这类药物的作用机制，就是通过对抗维生素K的作用，来影响凝血过程。\n",
            "\n",
            "*   **选项药物分类概念提示：**\n",
            "    *   **肝素** 及其衍生物（如依诺肝素）：它们通过增强另一种天然抗凝物质的活性来快速起效，其作用**不依赖于**维生素K。\n",
            "    *   **氯吡格雷**：它的作用靶点不是凝血因子，而是**血小板**。思考一下它是如何防止血栓形成的。\n",
            "    *   **华法林**：请回顾它的具体作用机制，看它是否通过影响维生素K依赖的凝血因子来发挥作用。\n",
            "    *   **利伐沙班** 与 **达比加群酯**：它们属于一类较新的药物，直接抑制某个特定的凝血因子（分别是Xa因子和IIa因子），其作用过程**不需要**干扰维生素K的循环。\n",
            "\n",
            "希望这些概念提示能帮助你回忆起关键知识点。\n",
            "\n"
          ]
        },
        {
          "output_type": "stream",
          "name": "stderr",
          "text": [
            "\r 64%|██████▍   | 44/69 [09:23<05:23, 12.93s/it]"
          ]
        },
        {
          "output_type": "stream",
          "name": "stdout",
          "text": [
            "C:华法林\n",
            "你是一位医学生，按照指定的题目类型回答医学问题，做大钱，请仔细阅读给定的题目提示，仅输出正确的答案选项。\n",
            "\n",
            "问题：题干：患者，男，58岁，有⾼⾎压、冠⼼病、⾼脂⾎症、便秘、⾻关节炎和胃溃疡病史，2年前接受冠脉⽀架植⼊术。近⽇，患者先后在⼼内科、消化科、⾻科就诊，开具药品如下：\n",
            "98. 关于该患者药物治疗⽅案的说法，错误的是（）。\n",
            "问题类型：综合分析选择题\n",
            "选项：A:美托洛尔会影响阿司匹林的抗⾎⼩板活性，应停⽤\n",
            "B:阿托伐他汀钙⽤于冠⼼病的治疗，需长期规律⽤药\n",
            "C:如⼤便次数规律（如每⽇1次），聚⼄⼆醇4000散可按需使⽤\n",
            "D:同时使⽤双氯芬酸钠与阿司匹林会增加消化道出⾎风险，两药不宜合⽤\n",
            "E:麝⾹保⼼丸和复⽅丹参⽚均属活⾎剂，选⽤其中⼀种即可\n",
            "题目提示： **知识点提示：**\n",
            "\n",
            "1.  **β受体阻滞剂与抗血小板药物**：回顾两类药物的作用机制及联用时的相互作用特点，特别是对血小板功能的影响。\n",
            "2.  **他汀类药物在冠心病中的应用**：明确他汀类药物的治疗目标（如调脂、稳定斑块）及其在冠心病管理中的地位和用药原则。\n",
            "3.  **渗透性泻药的使用原则**：区分“规律用药”与“按需使用”的适用场景，思考便秘治疗中药物使用的灵活性。\n",
            "4.  **非甾体抗炎药（NSAIDs）与抗血小板药物**：关注两者联用对消化道黏膜的协同损伤作用及风险增加的机制，特别是对高危患者（如胃溃疡病史）的影响。\n",
            "5.  **中成药联用的合理性**：分析含有相似功效（如活血化瘀）的中成药联合使用时，是否存在重复用药或相互作用的风险。\n",
            "\n"
          ]
        },
        {
          "output_type": "stream",
          "name": "stderr",
          "text": [
            "\r 65%|██████▌   | 45/69 [09:33<04:55, 12.31s/it]"
          ]
        },
        {
          "output_type": "stream",
          "name": "stdout",
          "text": [
            "A:美托洛尔会影响阿司匹林的抗⾎⼩板活性，应停⽤\n",
            "你是一位医学生，按照指定的题目类型回答医学问题，做大钱，请仔细阅读给定的题目提示，仅输出正确的答案选项。\n",
            "\n",
            "问题：99. 可被肝药酶CYP2C9和CYP3A4代谢，代谢产物仍具降压活性的ARB类药物是（）。\n",
            "问题类型：配伍选择题\n",
            "选项：A:福⾟普利\n",
            "B:缬沙坦\n",
            "C:厄贝沙坦\n",
            "D:氯沙坦\n",
            "E:卡托普利\n",
            "题目提示： 好的，我们来梳理一下这道题涉及的关键概念。\n",
            "\n",
            "**关键概念提示：**\n",
            "\n",
            "1.  **核心药物类别：** 题目中的“ARB类药物”是解题的首要线索。请回忆ARB的全称、作用机制以及代表药物。\n",
            "2.  **代谢途径：** 题目明确提到了“肝药酶CYP2C9和CYP3A4”。请思考哪些ARB药物主要通过这两种酶进行代谢。\n",
            "3.  **代谢产物活性：** 这是本题的关键限定条件。需要找出那些**不仅**通过上述途径代谢，**而且**其代谢产物仍然具有降压活性的ARB药物。\n",
            "4.  **区分其他类别：** 选项中包含了不属于ARB类别的药物。请注意区分血管紧张素转换酶抑制剂（ACEI）与ARB。\n",
            "\n",
            "请根据这些概念，回顾不同ARB药物的代谢特点和药理学特性，从而进行判断。\n",
            "\n"
          ]
        },
        {
          "output_type": "stream",
          "name": "stderr",
          "text": [
            "\r 67%|██████▋   | 46/69 [09:44<04:30, 11.77s/it]"
          ]
        },
        {
          "output_type": "stream",
          "name": "stdout",
          "text": [
            "D:氯沙坦\n",
            "你是一位医学生，按照指定的题目类型回答医学问题，做大钱，请仔细阅读给定的题目提示，仅输出正确的答案选项。\n",
            "\n",
            "问题：87. 作⽤于⼆肽基肽酶4（DPP-4），为嘧啶⼆酮衍⽣物，适⽤于治疗2型糖尿病的药物是（）。\n",
            "问题类型：配伍选择题\n",
            "选项：A:阿格列汀\n",
            "B:罗格列酮\n",
            "C:达格列净\n",
            "D:格列吡嗪\n",
            "E:那格列奈\n",
            "题目提示： 好的，我们一起来回顾一下这几个关键概念：  \n",
            "\n",
            "1. **二肽基肽酶4（DPP-4）抑制剂**  \n",
            "   - 这类药物通过抑制DPP-4酶，减少GLP-1的降解，从而促进胰岛素分泌、抑制胰高血糖素分泌。  \n",
            "   - 药名常带有 **“列汀”** 结尾。  \n",
            "\n",
            "2. **嘧啶二酮衍生物**  \n",
            "   - 这是药物化学结构上的特征，提示该药属于DPP-4抑制剂中的特定结构类型。  \n",
            "\n",
            "3. **各选项的药物类别**  \n",
            "   - **罗格列酮** → 噻唑烷二酮类（胰岛素增敏剂，PPARγ激动剂）  \n",
            "   - **达格列净** → SGLT-2抑制剂（“列净”类）  \n",
            "   - **格列吡嗪** → 磺酰脲类（促胰岛素分泌剂）  \n",
            "   - **那格列奈** → 格列奈类（餐时血糖调节剂）  \n",
            "\n",
            "你可以根据这些类别特征，判断哪个选项符合“DPP-4抑制剂”且是“嘧啶二酮衍生物”。\n",
            "\n"
          ]
        },
        {
          "output_type": "stream",
          "name": "stderr",
          "text": [
            "\r 68%|██████▊   | 47/69 [09:56<04:23, 11.97s/it]"
          ]
        },
        {
          "output_type": "stream",
          "name": "stdout",
          "text": [
            "A:阿格列汀\n",
            "你是一位医学生，按照指定的题目类型回答医学问题，做大钱，请仔细阅读给定的题目提示，仅输出正确的答案选项。\n",
            "\n",
            "问题：28. 不属于阿昔洛韦适应证的是（）。\n",
            "问题类型：最佳选择题\n",
            "选项：A:单纯疱疹\n",
            "B:带状疱疹\n",
            "C:免疫缺陷者⽔痘\n",
            "D:病毒性急性视⽹膜坏死\n",
            "E:⼄型流感\n",
            "题目提示： 好的，同学。我们来看一下这道题的关键点。\n",
            "\n",
            "**知识点提示：**\n",
            "\n",
            "1.  **阿昔洛韦的核心作用机制**：它是一种核苷类似物，其抗病毒作用依赖于病毒自身的一种特异性酶（胸苷激酶）来激活。请思考哪些病毒含有这种关键酶。\n",
            "2.  **主要针对的病毒家族**：阿昔洛韦的抗菌谱主要集中在**疱疹病毒科**。请回顾一下选项中哪些疾病是由疱疹病毒科成员引起的。\n",
            "3.  **“乙型流感”的病原体**：请确认引起流感的病毒属于哪个病毒科，并思考它的复制机制是否与疱疹病毒相同，是否含有激活阿昔洛韦所必需的特异性酶。\n",
            "\n",
            "结合以上几点，对比分析每个选项，就能找出不属于其适应证的选项。\n",
            "\n"
          ]
        },
        {
          "output_type": "stream",
          "name": "stderr",
          "text": [
            "\r 70%|██████▉   | 48/69 [10:06<03:54, 11.19s/it]"
          ]
        },
        {
          "output_type": "stream",
          "name": "stdout",
          "text": [
            "E:⼄型流感\n",
            "你是一位医学生，按照指定的题目类型回答医学问题，做大钱，请仔细阅读给定的题目提示，仅输出正确的答案选项。\n",
            "\n",
            "问题：72. 深静脉⾎栓的溶栓治疗，宜选⽤的药物是（）。\n",
            "问题类型：配伍选择题\n",
            "选项：A:达⽐加群酯\n",
            "B:氯吡格雷\n",
            "C:尿激酶\n",
            "D:依诺肝素钠\n",
            "E:华法林\n",
            "题目提示： 好的，我们来梳理一下这道题涉及的关键概念。\n",
            "\n",
            "**核心知识点提示：**\n",
            "\n",
            "1.  **治疗目标：** 题目问的是“溶栓治疗”。请思考“溶栓”与“抗凝”在治疗目的和作用机制上的根本区别。\n",
            "2.  **药物分类：**\n",
            "    *   一类药物是**抗凝药**，它们的作用是**预防**血栓的形成和进一步扩大。\n",
            "    *   另一类药物是**溶栓药**，它们的作用是**溶解**已经形成的血栓。\n",
            "3.  **药物归属：**\n",
            "    *   请回顾一下选项中每个药物分别属于上述哪一类。\n",
            "    *   重点关注“尿激酶”的药理作用分类，它如何作用于血液中的纤维蛋白。\n",
            "\n",
            "希望这些概念提示能帮助你回忆起关键知识点，从而做出判断。\n",
            "\n"
          ]
        },
        {
          "output_type": "stream",
          "name": "stderr",
          "text": [
            "\r 71%|███████   | 49/69 [10:15<03:31, 10.58s/it]"
          ]
        },
        {
          "output_type": "stream",
          "name": "stdout",
          "text": [
            "C:尿激酶\n",
            "你是一位医学生，按照指定的题目类型回答医学问题，做大钱，请仔细阅读给定的题目提示，仅输出正确的答案选项。\n",
            "\n",
            "问题：113. 关于胃⾷管反流病患者应⽤含铝抗酸药⽤药教育的说法，正确的有（）。\n",
            "问题类型：多项选择题\n",
            "选项：A:长期服⽤可能会引起低磷⾎症\n",
            "B:易引起腹泻\n",
            "C:可快速缓解症状，对溃疡愈合⼏乎⽆作⽤\n",
            "D:可增加⼼⾎管事件发⽣风险\n",
            "E:与其他药物合⽤，通常要间隔2⼩时\n",
            "题目提示： 好的，同学。我们来梳理一下这几个选项涉及的知识点，帮助你进行判断。\n",
            "\n",
            "**核心知识点提示：**\n",
            "\n",
            "*   **关于A选项“低磷血症”**：请回忆含铝抗酸药在体内的代谢过程。铝离子在肠道内会与哪些物质形成不溶性复合物？这种作用可能对机体何种矿物质（特别是电解质）的吸收产生影响？\n",
            "*   **关于B选项“腹泻”**：请区分不同类型抗酸药的主要不良反应。含铝抗酸药和含镁抗酸药，哪个通常与便秘相关，哪个与腹泻相关？题目中讨论的是含铝制剂。\n",
            "*   **关于C选项“作用特点”**：思考抗酸药的作用机制。它的作用是中和已分泌的胃酸，还是抑制胃酸的分泌？这种作用机制决定了它起效速度和对于需要“修复”的消化道组织（如溃疡）的长期效果。\n",
            "*   **关于D选项“心血管风险”**：请回忆哪一类常用于治疗胃食管反流病的药物，因其特定的作用机制，曾被警示过与心血管事件风险增加可能相关？它是否属于题目中提到的“含铝抗酸药”？\n",
            "*   **关于E选项“药物合用”**：考虑含铝抗酸药中的铝离子在胃肠道内的一种常见特性，即它可能与同时服用的其他药物发生相互作用，形成难以吸收的化合物。为了避免这种相互作用，通用的用药指导原则是什么？\n",
            "\n",
            "希望这些提示能帮助你串联起相关知识，做出正确的选择。\n",
            "\n"
          ]
        },
        {
          "output_type": "stream",
          "name": "stderr",
          "text": [
            "\r 72%|███████▏  | 50/69 [10:31<03:49, 12.09s/it]"
          ]
        },
        {
          "output_type": "stream",
          "name": "stdout",
          "text": [
            "A:长期服⽤可能会引起低磷⾎症  \n",
            "E:与其他药物合⽤，通常要间隔2⼩时\n",
            "你是一位医学生，按照指定的题目类型回答医学问题，做大钱，请仔细阅读给定的题目提示，仅输出正确的答案选项。\n",
            "\n",
            "问题：95520. 原形⽆效，需经代谢后产⽣活性的药物是（）。\n",
            "问题类型：最佳选择题\n",
            "选项：A:甲苯磺丁脲\n",
            "B:管萘洛尔\n",
            "C:氯吡格雷\n",
            "D:地西泮\n",
            "E:丙⽶嗪\n",
            "题目提示： 好的，同学。我们一起来梳理一下这道题的关键概念。\n",
            "\n",
            "**核心知识点提示：**\n",
            "\n",
            "1.  **“前药”概念**：题目描述的是“原形无效，需经代谢后产生活性”，这在药理学中对应一个非常重要的概念——**前药**。这类药物本身没有或几乎没有药理活性，需要在体内经过代谢转化（如肝脏的酶促反应）后，才能变成具有治疗作用的活性形式。\n",
            "\n",
            "2.  **药物代谢与活化**：你需要回忆或思考，选项中哪个药物的作用机制明确依赖于其在体内的**生物活化**过程。这个活化过程通常涉及肝脏的细胞色素P450酶系。\n",
            "\n",
            "3.  **关键药物机制联想**：\n",
            "    *   可以重点关注那些通过抑制或拮抗某些受体或酶来起作用的药物，思考它们是否需要先被“激活”才能发挥这种抑制作用。\n",
            "    *   特别是有一类药物，其作用靶点是血小板，通过不可逆地抑制某个关键受体来防止血栓形成，这类药物中有一个非常经典的例子就是前药。\n",
            "\n",
            "**建议你下一步：**\n",
            "根据“前药”这个概念，回顾一下选项中每个药物的作用机制和体内代谢过程，看看哪一个符合“从无活性原形到活性代谢物”的转变。\n",
            "\n",
            "希望这些提示能帮助你定位到关键信息。\n",
            "\n"
          ]
        },
        {
          "output_type": "stream",
          "name": "stderr",
          "text": [
            "\r 74%|███████▍  | 51/69 [10:44<03:43, 12.40s/it]"
          ]
        },
        {
          "output_type": "stream",
          "name": "stdout",
          "text": [
            "C:氯吡格雷\n",
            "你是一位医学生，按照指定的题目类型回答医学问题，做大钱，请仔细阅读给定的题目提示，仅输出正确的答案选项。\n",
            "\n",
            "问题：50. 患者，男，35岁，近⽇出现⾜趾间⽪肤瘙痒、⽔泡样⽪疹，宜选⽤的药物是（）。\n",
            "问题类型：配伍选择题\n",
            "选项：A:酮康唑乳膏\n",
            "B:甲硝唑栓\n",
            "C:雌三醇乳膏\n",
            "D:硝酸咪康唑栓\n",
            "E:氯康唑胶囊\n",
            "题目提示： 我们先梳理一下题目中的关键信息：  \n",
            "\n",
            "- **患者情况**：男性，35岁  \n",
            "- **部位**：足趾间  \n",
            "- **症状**：瘙痒、水泡样皮疹  \n",
            "- **可能的诊断**：足趾间 + 瘙痒 + 水泡 → 考虑**足癣**（真菌感染）  \n",
            "- **问题**：宜选用药物  \n",
            "\n",
            "**知识点提示**：  \n",
            "1. 足趾间水泡、瘙痒常见于**皮肤癣菌病**，治疗主要用**抗真菌药物**。  \n",
            "2. 不同剂型选择要看发病部位：  \n",
            "   - 趾间皮肤 → 外用剂型为主（乳膏/霜剂）。  \n",
            "3. 注意选项里有些是治疗**阴道感染**的栓剂，有些是口服药，有些是治疗细菌感染或雌激素缺乏的药物，需要排除。  \n",
            "4. 酮康唑、咪康唑、氯康唑都属于**唑类抗真菌药**，但氯康唑胶囊是口服药，一般用于系统性感染或外用效果不好时。  \n",
            "5. 结合男性足部皮肤病变，通常首选**外用抗真菌乳膏**。  \n",
            "\n",
            "你可以根据这些提示，判断哪个选项符合**足趾间皮肤真菌感染**的首选外用药。\n",
            "\n"
          ]
        },
        {
          "output_type": "stream",
          "name": "stderr",
          "text": [
            "\r 75%|███████▌  | 52/69 [10:57<03:32, 12.53s/it]"
          ]
        },
        {
          "output_type": "stream",
          "name": "stdout",
          "text": [
            "A:酮康唑乳膏\n",
            "你是一位医学生，按照指定的题目类型回答医学问题，做大钱，请仔细阅读给定的题目提示，仅输出正确的答案选项。\n",
            "\n",
            "问题：2118. 患者，⼥，65岁。诊断为⾻质疏松症，给予鲑降钙素注射液治疗，⽤药期间需注意的事项有（）。\n",
            "问题类型：多项选择题\n",
            "选项：A:应当注意有⽆⽪下和⽛龈出⾎\n",
            "B:必须补充⾜量的钙剂和维⽣素D\n",
            "C:对蛋⽩质过敏者，使⽤前需做⽪肤敏感试验\n",
            "D:可能出现低⾎糖反应\n",
            "E:常出现⾯部潮红的不良反应\n",
            "题目提示： 好的，作为提示，请思考以下几个关键点：\n",
            "\n",
            "1.  **降钙素的作用机制与核心治疗原则**：降钙素是如何调节血钙的？在治疗骨质疏松时，它通常需要与哪些基础营养素协同作用才能达到最佳效果？\n",
            "2.  **药物的来源与过敏反应**：鲑降钙素是一种什么类型的物质？对于这类物质，临床应用时需要注意什么特殊的过敏风险？\n",
            "3.  **药物的常见不良反应**：回顾一下降钙素类药物典型的、与药理作用相关的副作用，通常涉及哪些身体部位或感觉？\n",
            "4.  **药物与出血风险**：思考降钙素的主要药理作用，它是否直接影响人体的凝血功能或血小板？\n",
            "5.  **药物与血糖关系**：降钙素的主要生理功能或临床副作用中，是否包含对血糖水平的显著影响？\n",
            "\n"
          ]
        },
        {
          "output_type": "stream",
          "name": "stderr",
          "text": [
            "\r 77%|███████▋  | 53/69 [11:17<04:00, 15.03s/it]"
          ]
        },
        {
          "output_type": "stream",
          "name": "stdout",
          "text": [
            "正确答案是：**B、C、E**\n",
            "\n",
            "**解析：**\n",
            "根据题目提示，分析如下：\n",
            "1.  **降钙素的作用机制与核心治疗原则**：降钙素抑制破骨细胞活性，降低血钙。在治疗骨质疏松时，它必须与**足量的钙剂和维生素D**协同使用，以防止低钙血症并确保骨矿化的原料充足。因此选项**B**正确。\n",
            "2.  **药物的来源与过敏反应**：鲑降钙素是一种多肽类激素，来源于鱼类（鲑鱼）。作为一种异体蛋白，它有引发过敏反应的风险，因此**对蛋白质过敏者，使用前需做皮肤敏感试验**。因此选项**C**正确。\n",
            "3.  **药物的常见不良反应**：降钙素的典型不良反应包括**面部潮红、恶心、呕吐、注射部位反应**等，这些是与药理作用相关的、常见的副作用。因此选项**E**正确。\n",
            "4.  **药物与出血风险**：降钙素的主要作用是调节骨代谢和血钙，它**不直接影响凝血功能或血小板**，因此“注意有无皮下和牙龈出血”不是其用药期间的常规监测事项。因此选项**A**错误。\n",
            "5.  **药物与血糖关系**：降钙素的生理功能和已知副作用**不包括对血糖水平的显著影响**，因此“可能出现低血糖反应”不是其典型注意事项。因此选项**D**错误。\n",
            "\n",
            "综上，正确的注意事项是B、C、E。\n",
            "你是一位医学生，按照指定的题目类型回答医学问题，做大钱，请仔细阅读给定的题目提示，仅输出正确的答案选项。\n",
            "\n",
            "问题：36. 可⼲扰转录过程和阻⽌RNA合成的抗肿瘤药物是（）。\n",
            "问题类型：最佳选择题\n",
            "选项：A:顺铂\n",
            "B:塞替派\n",
            "C:丝裂霉素\n",
            "D:多柔⽐星\n",
            "E:长春瑞滨\n",
            "题目提示： 好的，我们来梳理一下这道题的关键概念提示：\n",
            "\n",
            "1.  **题目核心机制**：题目问的是作用在 **“转录”** 阶段，并 **“阻止RNA合成”** 的药物。这直接指向了遗传信息从DNA流向RNA的过程。\n",
            "2.  **关键作用靶点**：这类药物的作用靶点通常是 **DNA模板本身** 或与 **DNA依赖性RNA聚合酶** 相关的功能。它们通过插入、烷化或切断DNA等方式，使DNA无法被正常读取和转录。\n",
            "3.  **药物分类回顾**：\n",
            "    *   想想哪些抗肿瘤药是直接作用于DNA，破坏其模板功能的。\n",
            "    *   在这些DNA作用剂中，哪些的主要作用机制或重要机制之一被明确描述为“嵌入DNA碱基对之间，抑制拓扑异构酶II，从而抑制转录”。\n",
            "4.  **排除干扰项**：\n",
            "    *   注意区分作用于DNA**复制**（影响细胞增殖，如烷化剂、铂类）和作用于DNA**转录**（影响基因表达，更直接抑制RNA合成）的药物，虽然两者有重叠。\n",
            "    *   考虑其他选项的主要作用机制：例如，有主要抑制微管蛋白功能的，有主要引起DNA交联的，它们在描述上不如某个选项那样直接且经典地与“干扰转录”挂钩。\n",
            "\n",
            "你可以根据这些关于作用环节和分子靶点的提示，回顾一下这些药物的具体作用机制，从而做出判断。\n",
            "\n"
          ]
        },
        {
          "output_type": "stream",
          "name": "stderr",
          "text": [
            "\r 78%|███████▊  | 54/69 [11:32<03:44, 14.95s/it]"
          ]
        },
        {
          "output_type": "stream",
          "name": "stdout",
          "text": [
            "D:多柔⽐星\n",
            "你是一位医学生，按照指定的题目类型回答医学问题，做大钱，请仔细阅读给定的题目提示，仅输出正确的答案选项。\n",
            "\n",
            "问题：40. 兼有抑菌作⽤的⿐⽤减充⾎剂是（）。\n",
            "问题类型：最佳选择题\n",
            "选项：A:呋⿇滴⿐液\n",
            "B:赛洛唑啉滴⿐液\n",
            "C:羟甲唑啉⿐喷剂\n",
            "D:⿇黄碱滴⿐液\n",
            "E:左氧氟沙星滴⿐液\n",
            "题目提示： 好的，我们一起来梳理一下这道题的关键知识点。\n",
            "\n",
            "**核心概念提示：**\n",
            "\n",
            "1.  **题干关键词**：你需要同时关注“减充血剂”和“抑菌作用”这两个核心属性。\n",
            "2.  **减充血剂的作用机理**：回忆一下，鼻用减充血剂主要通过收缩鼻腔血管来缓解鼻塞。选项中哪些是经典的、主要的减充血剂成分？\n",
            "3.  **“抑菌”的含义**：抑菌指的是能抑制或杀灭细菌。思考一下，选项中哪个药物除了主要作用外，其成分或配方本身还具有对抗细菌的特性？\n",
            "4.  **区分不同成分**：重点关注每个选项药物的核心有效成分（而不仅仅是商品名），并思考这些成分的额外药理性质。\n",
            "\n",
            "建议你根据这些提示，回顾一下这几类鼻用药物的成分和主要特点，从而做出判断。\n",
            "\n"
          ]
        },
        {
          "output_type": "stream",
          "name": "stderr",
          "text": [
            "\r 80%|███████▉  | 55/69 [11:42<03:08, 13.45s/it]"
          ]
        },
        {
          "output_type": "stream",
          "name": "stdout",
          "text": [
            "A:呋麻滴鼻液\n",
            "你是一位医学生，按照指定的题目类型回答医学问题，做大钱，请仔细阅读给定的题目提示，仅输出正确的答案选项。\n",
            "\n",
            "问题：56. 哺乳期妇⼥使⽤，可致男婴乳房增⼤的药物是（）。\n",
            "问题类型：配伍选择题\n",
            "选项：A:复⽅炔诺酮\n",
            "B:依那普利\n",
            "C:胰岛素\n",
            "D:复⽅磺胺甲唑\n",
            "E:莫西沙星\n",
            "题目提示： 好的，我们来梳理一下这道题的关键概念。\n",
            "\n",
            "**核心知识点提示：**\n",
            "\n",
            "1.  **题目关键信息**：药物通过**哺乳期妇女使用**，影响**男婴**，导致**乳房增大**。这提示我们需要考虑药物通过乳汁分泌，并对婴儿内分泌系统产生的影响。\n",
            "\n",
            "2.  **作用机制思考**：男性乳房发育通常与体内**雌激素水平相对增高**或**雄激素/雌激素比例失衡**有关。\n",
            "\n",
            "3.  **选项药物类别分析**：\n",
            "    *   你需要回想一下，哪一类药物的药理作用或副作用会直接干扰人体的**激素水平**或**内分泌功能**。\n",
            "    *   重点关注那些已知能够通过乳汁分泌，并对婴儿有明确影响的药物。\n",
            "\n",
            "4.  **药物安全性原则**：在哺乳期用药中，能进入乳汁并可能对婴儿产生激素样作用的药物需要特别警惕。\n",
            "\n",
            "请根据这些关于药物作用机制和哺乳期用药特点的提示，来分析和判断哪个选项最符合题意。\n",
            "\n"
          ]
        },
        {
          "output_type": "stream",
          "name": "stderr",
          "text": [
            "\r 81%|████████  | 56/69 [11:54<02:48, 12.97s/it]"
          ]
        },
        {
          "output_type": "stream",
          "name": "stdout",
          "text": [
            "A:复⽅炔诺酮\n",
            "你是一位医学生，按照指定的题目类型回答医学问题，做大钱，请仔细阅读给定的题目提示，仅输出正确的答案选项。\n",
            "\n",
            "问题：76. 氨氯地平的妊娠毒性分级是（）。\n",
            "问题类型：配伍选择题\n",
            "选项：A:X级\n",
            "B:A级\n",
            "C:C级\n",
            "D:D级\n",
            "E:B级\n",
            "题目提示： 好的，我们一起来回顾一下相关的知识点。\n",
            "\n",
            "**概念提示：**\n",
            "\n",
            "1.  **核心原则**：记住FDA妊娠药物安全分级（A, B, C, D, X）的核心定义和风险递增顺序。\n",
            "2.  **降压药类别**：氨氯地平属于哪一类常用的降压药物？这类药物在药理学上通常被归为哪个妊娠安全分级？\n",
            "3.  **分级依据**：C级药物的关键定义是什么？它通常意味着在动物研究中观察到了什么？对人类的研究数据是否充分？\n",
            "4.  **对比记忆**：可以对比记忆其他常见降压药的妊娠分级，例如血管紧张素转换酶抑制剂（ACEI）或血管紧张素II受体拮抗剂（ARB）通常是D级。\n",
            "\n",
            "希望这些提示能帮助你回忆起关键信息。\n",
            "\n"
          ]
        },
        {
          "output_type": "stream",
          "name": "stderr",
          "text": [
            "\r 83%|████████▎ | 57/69 [12:03<02:22, 11.89s/it]"
          ]
        },
        {
          "output_type": "stream",
          "name": "stdout",
          "text": [
            "C\n",
            "你是一位医学生，按照指定的题目类型回答医学问题，做大钱，请仔细阅读给定的题目提示，仅输出正确的答案选项。\n",
            "\n",
            "问题：30. 关于⽣物等效性研究的实施与样品采集的说法，正确的是（）。\n",
            "问题类型：最佳选择题\n",
            "选项：A:通常采⽤受试制剂和参⽐制剂的单个最低规格制剂进⾏试验\n",
            "B:从0时到最后⼀个样品采集时间t的曲线下⾯积与时间从0到⽆穷⼤的AUC之⽐通常应当达于70%\n",
            "C:整个采样时间不少于3个末端消除半衰期\n",
            "D:受试制剂与参⽐制剂药物含量的差值应⼩于2%\n",
            "E:⼀般情况下，受试者试验前⾄少空腹8⼩时\n",
            "题目提示： 好的，作为医学教育专家，我为你梳理一下本题涉及的核心概念，希望能帮助你思考：\n",
            "\n",
            "1.  **关于规格选择**：生物等效性研究在选择制剂规格时，通常有一个基本原则，即选择哪一个规格进行试验最能灵敏地反映出制剂处方的差异。这通常与药物的体内过程特性有关。\n",
            "\n",
            "2.  **关于AUC比值**：在药代动力学中，用于评估生物等效性的关键参数是AUC（血药浓度-时间曲线下面积）。我们关注的是从0时到无穷大时间（AUC0-∞）的完整暴露量。研究中会用一个实际可测的指标来尽可能接近这个理论值，这个指标需要达到一定的 completeness（完整性）要求。\n",
            "\n",
            "3.  **关于采样时长**：采样时间的设计是为了完整地描绘药物在体内的“进入-达峰-消除”全过程。其中，为了准确计算末端消除半衰期和AUC，对最后一个采样点的时间有明确要求，这直接关系到药物在体内的清除规律。\n",
            "\n",
            "4.  **关于含量差值**：生物等效性研究比较的是药物在体内的吸收速度和程度，而不是直接比较两个制剂出厂时的药物含量。制剂含量的允许波动范围是另一个层面的质量控制标准。\n",
            "\n",
            "5.  **关于空腹条件**：进行这类研究时，为了减少食物对药物吸收的干扰，使结果更具可比性，对受试者摄入食物有标准化的前置时间要求。\n",
            "\n",
            "希望这些概念提示能帮助你回忆起关键知识点，从而做出自己的判断。\n",
            "\n"
          ]
        },
        {
          "output_type": "stream",
          "name": "stderr",
          "text": [
            "\r 84%|████████▍ | 58/69 [12:19<02:24, 13.16s/it]"
          ]
        },
        {
          "output_type": "stream",
          "name": "stdout",
          "text": [
            "C:整个采样时间不少于3个末端消除半衰期\n",
            "你是一位医学生，按照指定的题目类型回答医学问题，做大钱，请仔细阅读给定的题目提示，仅输出正确的答案选项。\n",
            "\n",
            "问题：题干：患者，男，53岁，季节性过敏性⿐炎病史5年，3天前，受凉后出现流涕、⿐塞、咳嗽，咳痰，低热，头痛，⽆胸闷、⽓短等其他不适，已在医院发热门诊完成了⿐拭⼦检查，排除了甲型流感和⼄型流感，诊断为普通感冒。\n",
            "107. 为缓解该患者的感冒症状，不宜选⽤的药物是（）。\n",
            "问题类型：综合分析选择题\n",
            "选项：A:含伪⿇黄碱的复⽅抗感冒药\n",
            "B:神经氨酸酶抑制剂\n",
            "C:⿐⽤减充⾎剂\n",
            "D:解热镇痛药\n",
            "E:祛痰剂\n",
            "题目提示： 好的，同学。我们一起来梳理一下这道题涉及的关键概念。\n",
            "\n",
            "**知识点提示：**\n",
            "\n",
            "1.  **核心前提**：本题的关键在于患者有两个情况：**当前的普通感冒**和**既往的过敏性鼻炎史**。解题需要同时考虑这两个因素。\n",
            "\n",
            "2.  **药物作用机制与适应症**：\n",
            "    *   思考一下**伪麻黄碱**和**鼻用减充血剂**这类药物的主要作用是什么？它们通过什么原理来缓解鼻塞、流涕症状？\n",
            "    *   回顾**神经氨酸酶抑制剂**的主要临床应用是什么？它是针对哪种特定病原体的？题目中提供的检查结果（已排除甲流、乙流）对此有何提示？\n",
            "\n",
            "3.  **风险与禁忌考量**：\n",
            "    *   对于有**过敏性鼻炎**病史的患者，在使用某些能引起鼻腔干燥、刺激或长期使用可能导致反跳性鼻塞的药物时，需要特别注意什么？\n",
            "    *   结合第2点中神经氨酸酶抑制剂的作用机制，思考在“普通感冒”这个明确的诊断下，使用它是否合理，可能带来什么潜在问题（如不必要的药物暴露、潜在副作用等）。\n",
            "\n",
            "请根据这些概念提示，自己推理出最不适宜选用的药物。\n",
            "\n"
          ]
        },
        {
          "output_type": "stream",
          "name": "stderr",
          "text": [
            "\r 86%|████████▌ | 59/69 [12:33<02:11, 13.14s/it]"
          ]
        },
        {
          "output_type": "stream",
          "name": "stdout",
          "text": [
            "B:神经氨酸酶抑制剂\n",
            "你是一位医学生，按照指定的题目类型回答医学问题，做大钱，请仔细阅读给定的题目提示，仅输出正确的答案选项。\n",
            "\n",
            "问题：119. 属于碳青霉烯类的抗菌药物有（）。\n",
            "问题类型：多项选择题\n",
            "选项：A:亚胺培南\n",
            "B:氨曲南\n",
            "C:美罗培南\n",
            "D:厄他培南\n",
            "E:⽐阿培南\n",
            "题目提示： 好的，同学。我们来回想一下关于碳青霉烯类抗菌药物的几个关键点：\n",
            "\n",
            "1.  **核心结构特征**：这类药物的名称和化学结构中都包含一个标志性的核心环系，这是将它们归为一类并区别于其他β-内酰胺类抗生素（如青霉素、头孢菌素、单环菌素）的关键。\n",
            "\n",
            "2.  **抗菌谱与稳定性**：这类药物以其**超广谱**的抗菌活性和对大多数β-内酰胺酶（包括超广谱β-内酰胺酶ESBLs）的**高度稳定性**而著称，通常被视为治疗严重耐药菌感染的“王牌”药物之一。\n",
            "\n",
            "3.  **与其他类的区分**：\n",
            "    *   请特别注意有一类抗生素虽然名称中带有“培南”，但其化学结构属于**单环β-内酰胺类**，其抗菌谱和作用特点与真正的碳青霉烯类有显著区别。\n",
            "\n",
            "你可以根据以上这些药物分类的基本概念，来审视每个选项，判断它们是否真正符合碳青霉烯类的定义。\n",
            "\n"
          ]
        },
        {
          "output_type": "stream",
          "name": "stderr",
          "text": [
            "\r 87%|████████▋ | 60/69 [12:45<01:55, 12.83s/it]"
          ]
        },
        {
          "output_type": "stream",
          "name": "stdout",
          "text": [
            "A:亚胺培南  \n",
            "C:美罗培南  \n",
            "D:厄他培南  \n",
            "E:比阿培南\n",
            "你是一位医学生，按照指定的题目类型回答医学问题，做大钱，请仔细阅读给定的题目提示，仅输出正确的答案选项。\n",
            "\n",
            "问题：52. 若⽆禁忌证，治疗2型糖尿病⾸选的⼜服降糖药物（）。\n",
            "问题类型：配伍选择题\n",
            "选项：A:沙格列汀\n",
            "B:达格列净\n",
            "C:吡格列酮\n",
            "D:⼆甲双胍\n",
            "E:瑞格列奈\n",
            "题目提示： 好的，我们一起来回顾一下相关的核心概念。\n",
            "\n",
            "**知识点提示：**\n",
            "\n",
            "1.  **治疗基石**：思考一下，哪一类药物被公认为全球大多数2型糖尿病治疗指南中**起始治疗**的**基石**或**一线选择**？\n",
            "2.  **作用机制**：回忆这类首选药物的主要作用机理。它是否主要通过减少肝脏葡萄糖的输出、并改善外周组织对胰岛素的敏感性来降低血糖？\n",
            "3.  **优势特点**：考虑这类药物除了降糖效果外，是否还具有**不增加体重、低血糖风险极小、心血管安全性良好**等特点？\n",
            "4.  **指南推荐**：回想国内外主要的糖尿病防治指南，对于新诊断的2型糖尿病患者，只要没有禁忌症，首先被推荐使用的是哪一类药物？\n",
            "\n",
            "希望这些提示能帮助你回忆起关键信息。\n",
            "\n"
          ]
        },
        {
          "output_type": "stream",
          "name": "stderr",
          "text": [
            "\r 88%|████████▊ | 61/69 [12:54<01:35, 11.91s/it]"
          ]
        },
        {
          "output_type": "stream",
          "name": "stdout",
          "text": [
            "D:二甲双胍\n",
            "你是一位医学生，按照指定的题目类型回答医学问题，做大钱，请仔细阅读给定的题目提示，仅输出正确的答案选项。\n",
            "\n",
            "问题：题干：患者，男，69岁，BMI 27.8kg/m ，既往有⾻性关节炎病史。近期爬⼭后，再次出现膝关节疼痛，患者热敷后疼痛未缓解，前来咨询如何选⽤“⽌痛药”。\n",
            "103. 如服⽤所选⽌痛药，需关注的不良反应是（）。\n",
            "问题类型：综合分析选择题\n",
            "选项：A:便秘\n",
            "B:肾损害\n",
            "C:⼜⼲\n",
            "D:共济失调\n",
            "E:剥脱性⽪炎\n",
            "题目提示： 我们可以从题干和选项中提取关键信息来帮助你思考：  \n",
            "\n",
            "- 患者为 **69 岁男性**，BMI 27.8（超重），有 **骨性关节炎病史**。  \n",
            "- 近期因爬⾼负荷活动（爬⼭）后膝关节疼痛加重，热敷无效，考虑使用药物缓解。  \n",
            "- 问题问的是服用该药后需关注的 **不良反应**。  \n",
            "\n",
            "**可能的思考方向：**  \n",
            "1. 老年骨关节炎常用止痛药类型（如对乙酰氨基酚、NSAIDs、局部用药等）。  \n",
            "2. 老年患者长期或大剂量使用某些口服止痛药时，需特别警惕的器官损伤风险。  \n",
            "3. 结合选项，思考哪种不良反应与常用药物的典型风险最相关。  \n",
            "4. 注意药物选择时需考虑年龄、肝肾功能、胃肠道和心血管安全性。\n",
            "\n"
          ]
        },
        {
          "output_type": "stream",
          "name": "stderr",
          "text": [
            "\r 90%|████████▉ | 62/69 [13:04<01:19, 11.30s/it]"
          ]
        },
        {
          "output_type": "stream",
          "name": "stdout",
          "text": [
            "B:肾损害\n",
            "你是一位医学生，按照指定的题目类型回答医学问题，做大钱，请仔细阅读给定的题目提示，仅输出正确的答案选项。\n",
            "\n",
            "问题：88. 属于胰岛素增敏剂，具有噻唑烷⼆酮结构，通于治疗2型糖尿病的药物（）。\n",
            "问题类型：配伍选择题\n",
            "选项：A:阿格列汀\n",
            "B:罗格列酮\n",
            "C:达格列净\n",
            "D:格列吡嗪\n",
            "E:那格列奈\n",
            "题目提示： 好的，我们来梳理一下这道题的关键知识点提示：\n",
            "\n",
            "1.  **核心药效**：题目要求的是“胰岛素增敏剂”。这意味着这类药物不刺激胰岛素分泌，而是通过提高身体细胞（如肌肉、脂肪细胞）对自身胰岛素的敏感性来发挥作用。\n",
            "2.  **关键结构**：题目明确指出了“噻唑烷二酮结构”。这是一个非常具体的化学结构母核，是这类药物的共同特征。\n",
            "3.  **治疗类型**：用于“2型糖尿病”。这可以帮助你排除主要用于其他类型糖尿病的药物。\n",
            "4.  **选项药物分类辨析**：\n",
            "    *   名字中带“格列”的（如格列XX）通常是**磺酰脲类胰岛素促泌剂**，它们的作用是刺激胰腺分泌更多胰岛素。\n",
            "    *   名字中带“列奈”的通常是**非磺酰脲类胰岛素促泌剂**，作用也是快速促进胰岛素分泌。\n",
            "    *   名字中带“列汀”的通常是**DPP-4抑制剂**，通过延缓体内一种叫GLP-1的物质的降解来调节血糖。\n",
            "    *   名字中带“列净”的通常是**SGLT-2抑制剂**，通过让肾脏从尿液中排出多余的糖来降低血糖。\n",
            "\n",
            "现在，请根据“胰岛素增敏剂”和“噻唑烷二酮结构”这两个核心线索，结合对各类药物作用机制的区分，来判断哪个选项符合条件。\n",
            "\n"
          ]
        },
        {
          "output_type": "stream",
          "name": "stderr",
          "text": [
            "\r 91%|█████████▏| 63/69 [13:18<01:12, 12.15s/it]"
          ]
        },
        {
          "output_type": "stream",
          "name": "stdout",
          "text": [
            "B:罗格列酮\n",
            "你是一位医学生，按照指定的题目类型回答医学问题，做大钱，请仔细阅读给定的题目提示，仅输出正确的答案选项。\n",
            "\n",
            "问题：54. 长期应⽤⼴谱抗⽣素造成⼆重感染的不良反应属于（）。\n",
            "问题类型：配伍选择题\n",
            "选项：A:特异质反应\n",
            "B:停药反应\n",
            "C:后遗效应\n",
            "D:毒性反应\n",
            "E:继发反应\n",
            "题目提示： 好的，我们来梳理一下几个关键概念的区别：\n",
            "\n",
            "**概念提示：**\n",
            "\n",
            "1.  **继发反应**：这不是药物本身直接的作用，而是药物发挥治疗作用后，**间接导致**的另一种不良后果。可以理解为是治疗带来的“连锁反应”。\n",
            "\n",
            "2.  **毒性反应**：通常是药物**剂量过大**或**用药时间过长**，导致药物在体内蓄积，**直接**对机体组织器官造成的损害。\n",
            "\n",
            "3.  **后遗效应**：指**停药后**血药浓度已降至最低有效浓度以下，但体内残存的药物依然引起的生物效应。\n",
            "\n",
            "4.  **停药反应**：指长期用药后，**突然停药**导致原有疾病**复发或加重**的现象。\n",
            "\n",
            "5.  **特异质反应**：与个人**特殊遗传体质**有关，与药物常规药理作用无关的异常反应。\n",
            "\n",
            "请根据这些概念的界定，思考“长期使用广谱抗生素”这个前提，以及“二重感染”是如何发生的，从而做出判断。\n",
            "\n"
          ]
        },
        {
          "output_type": "stream",
          "name": "stderr",
          "text": [
            "\r 93%|█████████▎| 64/69 [13:29<00:58, 11.79s/it]"
          ]
        },
        {
          "output_type": "stream",
          "name": "stdout",
          "text": [
            "E:继发反应\n",
            "你是一位医学生，按照指定的题目类型回答医学问题，做大钱，请仔细阅读给定的题目提示，仅输出正确的答案选项。\n",
            "\n",
            "问题：74. 属于酪氨酸激酶抑制剂的抗肿瘤药物是（）。\n",
            "问题类型：配伍选择题\n",
            "选项：A:来曲唑\n",
            "B:环磷酰胺\n",
            "C:厄洛替尼\n",
            "D:长春新碱\n",
            "E:多柔⽐星\n",
            "题目提示： 好的，我们来梳理一下这道题涉及的核心概念。\n",
            "\n",
            "**关键概念提示：**\n",
            "\n",
            "1.  **酪氨酸激酶抑制剂 (TKI)**：\n",
            "    *   这是一类**分子靶向药物**，不是传统的化疗药。\n",
            "    *   它的作用是抑制一种叫做“酪氨酸激酶”的酶的活性。这种酶在细胞内负责传递促进细胞生长、分裂的信号。\n",
            "    *   通过抑制它，可以阻断肿瘤细胞的生长信号传导通路，从而抑制肿瘤。\n",
            "\n",
            "2.  **题目核心**：\n",
            "    *   你需要从选项中找出哪种药物是通过“抑制酪氨酸激酶”这个特定机制来发挥抗肿瘤作用的。\n",
            "\n",
            "3.  **各选项药物类别的提示**：\n",
            "    *   **A: 来曲唑**：作用与**激素**调节有关，用于治疗激素敏感型肿瘤。\n",
            "    *   **B: 环磷酰胺**：属于传统的细胞毒类药物，通过**破坏DNA**结构起作用。\n",
            "    *   **C: 厄洛替尼**：其作用靶点是**表皮生长因子受体（EGFR）**，而EGFR正是一种具有酪氨酸激酶活性的受体。\n",
            "    *   **D: 长春新碱**：属于植物类抗肿瘤药，通过影响细胞内的**微管**功能来阻止细胞分裂。\n",
            "    *   **E: 多柔比星**：属于蒽环类抗生素，主要通过**嵌入DNA**和抑制拓扑异构酶来发挥作用。\n",
            "\n",
            "现在，你可以根据这些机制提示，来判断哪个选项符合“酪氨酸激酶抑制剂”的定义。\n",
            "\n"
          ]
        },
        {
          "output_type": "stream",
          "name": "stderr",
          "text": [
            "\r 94%|█████████▍| 65/69 [13:44<00:50, 12.54s/it]"
          ]
        },
        {
          "output_type": "stream",
          "name": "stdout",
          "text": [
            "C\n",
            "你是一位医学生，按照指定的题目类型回答医学问题，做大钱，请仔细阅读给定的题目提示，仅输出正确的答案选项。\n",
            "\n",
            "问题：89. 患者，⼥，65岁。诊断为社区获得性肺炎，伴肾功能不全，肌酐清除率25mL/min，宜选⽤的⽆需根据肾功能调整剂量的抗菌药物是（）。\n",
            "问题类型：配伍选择题\n",
            "选项：A:头孢曲松\n",
            "B:头孢唑林\n",
            "C:头孢噻肟\n",
            "D:头孢他啶\n",
            "E:头孢吡肟\n",
            "题目提示： 好的，同学。我们一起来梳理一下这道题的关键知识点。\n",
            "\n",
            "**核心概念提示：**\n",
            "\n",
            "1.  **药物代谢与排泄途径：** 重点关注不同抗菌药物在人体内的主要清除方式。肾功能不全时，主要经肾脏原型排泄的药物容易在体内蓄积，需要调整剂量。\n",
            "2.  **药物分类与肾依赖性：**\n",
            "    *   头孢菌素类药物中，有些品种主要或全部通过肾脏排泄，其血药浓度和半衰期会显著受肾功能影响。\n",
            "    *   但有一个特定的头孢菌素，其清除途径有显著不同，它主要通过**肝脏和胆汁**进行排泄，因此肾功能对其影响很小。\n",
            "3.  **“无需调整剂量”的含义：** 在已知患者肌酐清除率显著降低（25 mL/min属于重度肾功能不全）的情况下，仍能安全使用常规剂量，这意味着该药物本身在肾功能不全患者体内**不会产生有临床意义的蓄积**。\n",
            "\n",
            "**思考方向：**\n",
            "\n",
            "请你回顾一下所学的常用头孢菌素类药物的药代动力学特点，特别是它们的消除途径。哪一个选项中的药物是**双通道排泄**且**非肾脏依赖性**的典型代表？\n",
            "\n"
          ]
        },
        {
          "output_type": "stream",
          "name": "stderr",
          "text": [
            "\r 96%|█████████▌| 66/69 [13:57<00:38, 12.74s/it]"
          ]
        },
        {
          "output_type": "stream",
          "name": "stdout",
          "text": [
            "A:头孢曲松\n",
            "你是一位医学生，按照指定的题目类型回答医学问题，做大钱，请仔细阅读给定的题目提示，仅输出正确的答案选项。\n",
            "\n",
            "问题：50. ⽤于验光配镜屈光度检查前散瞳的药物是（）。\n",
            "问题类型：配伍选择题\n",
            "选项：A:聚⼄⼆醇滴眼液\n",
            "B:硫酸阿托品眼⽤凝胶\n",
            "C:雷珠单抗注射液\n",
            "D:⽑果芸⾹碱滴眼液\n",
            "E:丙美卡因滴眼液\n",
            "题目提示： 好的，我们来梳理一下这道题涉及的核心概念。\n",
            "\n",
            "**关键知识点提示：**\n",
            "\n",
            "1.  **“散瞳”的目的**：在验光配镜检查前，散瞳是为了让眼睛的**睫状肌完全放松**，从而暴露出眼睛最真实的屈光状态，避免因肌肉紧张导致的调节性近视（假性近视），这对于儿童和青少年尤为重要。\n",
            "\n",
            "2.  **药物作用的靶点**：能够实现散瞳的药物，其作用机制通常是**阻断虹膜括约肌和睫状肌上的特定受体**，从而使瞳孔开大肌的作用占优势，导致瞳孔散大，并同时使睫状肌麻痹。\n",
            "\n",
            "3.  **药物类型区分**：\n",
            "    *   选项中有一类药物是**睫状肌麻痹剂**，作用强且持久，是儿童验光常用的散瞳药。\n",
            "    *   另一类药物作用相反，是**缩瞳药**，用于治疗青光眼等。\n",
            "    *   还有一类是**麻醉药**，用于表面麻醉，而非散瞳。\n",
            "    *   还有一类是**眼内注射药**，用于治疗眼底疾病，与验光前的准备工作无关。\n",
            "\n",
            "请根据这些核心作用机制，来分析哪个选项符合“验光前散瞳”的要求。\n",
            "\n"
          ]
        },
        {
          "output_type": "stream",
          "name": "stderr",
          "text": [
            "\r 97%|█████████▋| 67/69 [14:10<00:25, 12.73s/it]"
          ]
        },
        {
          "output_type": "stream",
          "name": "stdout",
          "text": [
            "B:硫酸阿托品眼用凝胶\n",
            "你是一位医学生，按照指定的题目类型回答医学问题，做大钱，请仔细阅读给定的题目提示，仅输出正确的答案选项。\n",
            "\n",
            "问题：72. 多数脂溶性⼩分⼦类药物的吸收机制是（）。\n",
            "问题类型：配伍选择题\n",
            "选项：A:膜孔滤过\n",
            "B:简单扩散\n",
            "C:膜动转运\n",
            "D:易化扩散\n",
            "E:主动转运\n",
            "题目提示： 好的，我们来梳理一下相关概念。\n",
            "\n",
            "**核心概念提示：**\n",
            "\n",
            "1.  **药物的跨膜转运方式**主要有这几种，它们的特点各不相同。\n",
            "2.  **“脂溶性”** 是一个关键属性。请思考：细胞膜的主要化学组成是什么？这种组成对什么样的物质通透性高？\n",
            "3.  **“简单扩散”** 的核心驱动力是膜两侧的**浓度差**。这个过程不消耗能量，也不需要载体，顺浓度梯度进行。\n",
            "4.  可以对比思考其他选项：\n",
            "    *   **主动转运**：需要载体和能量，可以逆浓度梯度进行。\n",
            "    *   **易化扩散**：需要载体，但不消耗能量，顺浓度梯度进行。\n",
            "    *   **膜孔滤过**：主要适用于哪些物质？（如水、小分子水溶性物质）\n",
            "    *   **膜动转运**：主要适用于大分子物质。\n",
            "\n",
            "请根据这些概念的特点，结合“脂溶性小分子”的性质，判断其最可能的吸收路径。\n",
            "\n"
          ]
        },
        {
          "output_type": "stream",
          "name": "stderr",
          "text": [
            "\r 99%|█████████▊| 68/69 [14:21<00:12, 12.38s/it]"
          ]
        },
        {
          "output_type": "stream",
          "name": "stdout",
          "text": [
            "B:简单扩散\n",
            "你是一位医学生，按照指定的题目类型回答医学问题，做大钱，请仔细阅读给定的题目提示，仅输出正确的答案选项。\n",
            "\n",
            "问题：48. 患者，男，54岁，因痛风服⽤⾮布司他，为增强降尿酸效果，可同时使⽤的药物是（）。\n",
            "问题类型：配伍选择题\n",
            "选项：A:阿托伐他汀\n",
            "B:甲巯咪唑\n",
            "C:丙硫氧嘧啶\n",
            "D:氢氯噻嗪\n",
            "E:碳酸氢钠\n",
            "题目提示： 好的，同学。我们一起来梳理一下这道题涉及的关键概念。\n",
            "\n",
            "**核心知识点提示：**\n",
            "\n",
            "1.  **治疗目标**：本题的核心是“增强降尿酸效果”。你需要回想，痛风的治疗除了直接抑制尿酸生成（如非布司他的作用）或促进尿酸排泄外，还有哪些辅助手段可以帮助降低尿酸水平或促进其溶解。\n",
            "\n",
            "2.  **尿酸的性质**：尿酸的溶解度与体液环境的酸碱度（pH值）密切相关。请思考，在什么样的体液环境中，尿酸更容易形成结晶并沉积？反之，如何改变环境可以增加其溶解度，从而利于通过尿液排出？\n",
            "\n",
            "3.  **药物作用机制辨析**：\n",
            "    *   选项A主要影响血脂代谢。\n",
            "    *   选项B和C主要用于治疗甲状腺功能亢进。\n",
            "    *   选项D（氢氯噻嗪）是一种利尿剂，请注意思考它对血尿酸水平可能产生的已知影响（是升高还是降低？）。\n",
            "\n",
            "4.  **辅助治疗策略**：在痛风的管理中，除了主要的降尿酸药物，临床上常会使用一种安全的药物来碱化尿液，作为辅助治疗。\n",
            "\n",
            "希望这些概念提示能帮助你串联起相关知识，做出自己的判断。\n",
            "\n"
          ]
        },
        {
          "output_type": "stream",
          "name": "stderr",
          "text": [
            "100%|██████████| 69/69 [14:33<00:00, 12.66s/it]"
          ]
        },
        {
          "output_type": "stream",
          "name": "stdout",
          "text": [
            "E:碳酸氢钠\n",
            "模型准确率: 88.41%\n"
          ]
        },
        {
          "output_type": "stream",
          "name": "stderr",
          "text": [
            "\n"
          ]
        }
      ],
      "source": [
        "# 计算做题准确率\n",
        "system_prompt = \"\"\"你是一位医学生，按照指定的题目类型回答医学问题，做大钱，请仔细阅读给定的题目提示，仅输出正确的答案选项。\n",
        "\"\"\"\n",
        "\n",
        "user_template = '''\n",
        "问题：{question}\n",
        "问题类型：{question_type}\n",
        "选项：{options}\n",
        "题目提示： {knowledge}\n",
        "'''\n",
        "\n",
        "import re\n",
        "from tqdm import tqdm\n",
        "import random\n",
        "def get_ans(ans):\n",
        "    match = re.findall(r'.*?([A-E]+(?:[、, ]+[A-E]+)*)', ans)\n",
        "    if match:\n",
        "        last_match = match[-1]\n",
        "        return ''.join(re.split(r'[、, ，]+', last_match))\n",
        "    return ''\n",
        "\n",
        "def get_query(da,template_func):\n",
        "  da['options'] = '\\n'.join([f\"{k}:{v}\" for k,v in da['option'].items()])\n",
        "  return template_func.format_map(da)\n",
        "\n",
        "correct_num = 0\n",
        "total_num = 0\n",
        "print_flag = True\n",
        "for da in tqdm(data):\n",
        "  knowledge_prompt = system_prompt_hint + get_query(da,template_func=user_template_hint)\n",
        "  # print(knowledge_prompt)\n",
        "  da['knowledge'] = chain_hint.invoke(knowledge_prompt)\n",
        "  # print(da['knowledge'])\n",
        "\n",
        "\n",
        "  instruct_prompt = system_prompt\n",
        "  user_prompt = get_query(da,template_func=user_template)\n",
        "  prompt = instruct_prompt + user_prompt\n",
        "  print(prompt)\n",
        "  da['deepseek_ans'] = chain.invoke(prompt)\n",
        "  print(da['deepseek_ans'])\n",
        "  if get_ans(da['deepseek_ans']) == da['answer']:\n",
        "    correct_num += 1\n",
        "    if print_flag:\n",
        "      print_flag=False\n",
        "\n",
        "  else:\n",
        "    pass\n",
        "  total_num += 1\n",
        "\n",
        "print(f\"模型准确率: {correct_num/total_num:.2%}\")\n"
      ]
    }
  ],
  "metadata": {
    "colab": {
      "provenance": []
    },
    "kernelspec": {
      "display_name": "Python 3",
      "name": "python3"
    }
  },
  "nbformat": 4,
  "nbformat_minor": 0
}